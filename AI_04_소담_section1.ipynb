{
  "nbformat": 4,
  "nbformat_minor": 0,
  "metadata": {
    "colab": {
      "name": "Project1_notepad.ipynb",
      "provenance": [],
      "collapsed_sections": [],
      "include_colab_link": true
    },
    "kernelspec": {
      "name": "python3",
      "display_name": "Python 3"
    },
    "language_info": {
      "name": "python"
    }
  },
  "cells": [
    {
      "cell_type": "markdown",
      "metadata": {
        "id": "view-in-github",
        "colab_type": "text"
      },
      "source": [
        "<a href=\"https://colab.research.google.com/github/DamiSoh/Personal_Project/blob/main/AI_04_%E1%84%89%E1%85%A9%E1%84%83%E1%85%A1%E1%86%B7_section1.ipynb\" target=\"_parent\"><img src=\"https://colab.research.google.com/assets/colab-badge.svg\" alt=\"Open In Colab\"/></a>"
      ]
    },
    {
      "cell_type": "markdown",
      "metadata": {
        "id": "8S8bhsEdYX36"
      },
      "source": [
        "# 데이터 클렌징\n",
        "\n",
        "1. NA 제거 \n",
        "2. 수치 데이터 정리하기\n",
        "3. 이상치 처리\n"
      ]
    },
    {
      "cell_type": "code",
      "metadata": {
        "id": "esge981dSt3-",
        "colab": {
          "resources": {
            "http://localhost:8080/nbextensions/google.colab/files.js": {
              "data": "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",
              "ok": true,
              "headers": [
                [
                  "content-type",
                  "application/javascript"
                ]
              ],
              "status": 200,
              "status_text": ""
            }
          },
          "base_uri": "https://localhost:8080/",
          "height": 71
        },
        "outputId": "e4d4c724-253d-4428-cb6f-01ce425afbdd"
      },
      "source": [
        "from google.colab import files\n",
        "uploaded = files.upload()"
      ],
      "execution_count": 1,
      "outputs": [
        {
          "output_type": "display_data",
          "data": {
            "text/html": [
              "\n",
              "     <input type=\"file\" id=\"files-5ca88d51-7b99-4a9b-816c-60b483f64981\" name=\"files[]\" multiple disabled\n",
              "        style=\"border:none\" />\n",
              "     <output id=\"result-5ca88d51-7b99-4a9b-816c-60b483f64981\">\n",
              "      Upload widget is only available when the cell has been executed in the\n",
              "      current browser session. Please rerun this cell to enable.\n",
              "      </output>\n",
              "      <script src=\"/nbextensions/google.colab/files.js\"></script> "
            ],
            "text/plain": [
              "<IPython.core.display.HTML object>"
            ]
          },
          "metadata": {
            "tags": []
          }
        },
        {
          "output_type": "stream",
          "text": [
            "Saving vgames2.csv to vgames2.csv\n"
          ],
          "name": "stdout"
        }
      ]
    },
    {
      "cell_type": "code",
      "metadata": {
        "id": "TD6f95pbdtZP"
      },
      "source": [
        "import pandas as pd\n",
        "import numpy as np\n",
        "import matplotlib.pyplot as plt\n",
        "import seaborn as sns"
      ],
      "execution_count": 2,
      "outputs": []
    },
    {
      "cell_type": "code",
      "metadata": {
        "id": "pddr2KFSdusk",
        "colab": {
          "base_uri": "https://localhost:8080/",
          "height": 200
        },
        "outputId": "47b46c1b-8472-4ca7-9be0-285b74e55300"
      },
      "source": [
        "games = pd.read_csv('vgames2.csv', index_col=0) \n",
        "games.head()"
      ],
      "execution_count": 3,
      "outputs": [
        {
          "output_type": "execute_result",
          "data": {
            "text/html": [
              "<div>\n",
              "<style scoped>\n",
              "    .dataframe tbody tr th:only-of-type {\n",
              "        vertical-align: middle;\n",
              "    }\n",
              "\n",
              "    .dataframe tbody tr th {\n",
              "        vertical-align: top;\n",
              "    }\n",
              "\n",
              "    .dataframe thead th {\n",
              "        text-align: right;\n",
              "    }\n",
              "</style>\n",
              "<table border=\"1\" class=\"dataframe\">\n",
              "  <thead>\n",
              "    <tr style=\"text-align: right;\">\n",
              "      <th></th>\n",
              "      <th>Name</th>\n",
              "      <th>Platform</th>\n",
              "      <th>Year</th>\n",
              "      <th>Genre</th>\n",
              "      <th>Publisher</th>\n",
              "      <th>NA_Sales</th>\n",
              "      <th>EU_Sales</th>\n",
              "      <th>JP_Sales</th>\n",
              "      <th>Other_Sales</th>\n",
              "    </tr>\n",
              "  </thead>\n",
              "  <tbody>\n",
              "    <tr>\n",
              "      <th>1</th>\n",
              "      <td>Candace Kane's Candy Factory</td>\n",
              "      <td>DS</td>\n",
              "      <td>2008.0</td>\n",
              "      <td>Action</td>\n",
              "      <td>Destineer</td>\n",
              "      <td>0.04</td>\n",
              "      <td>0</td>\n",
              "      <td>0</td>\n",
              "      <td>0</td>\n",
              "    </tr>\n",
              "    <tr>\n",
              "      <th>2</th>\n",
              "      <td>The Munchables</td>\n",
              "      <td>Wii</td>\n",
              "      <td>2009.0</td>\n",
              "      <td>Action</td>\n",
              "      <td>Namco Bandai Games</td>\n",
              "      <td>0.17</td>\n",
              "      <td>0</td>\n",
              "      <td>0</td>\n",
              "      <td>0.01</td>\n",
              "    </tr>\n",
              "    <tr>\n",
              "      <th>3</th>\n",
              "      <td>Otome wa Oanesama Boku ni Koi Shiteru Portable</td>\n",
              "      <td>PSP</td>\n",
              "      <td>2010.0</td>\n",
              "      <td>Adventure</td>\n",
              "      <td>Alchemist</td>\n",
              "      <td>0</td>\n",
              "      <td>0</td>\n",
              "      <td>0.02</td>\n",
              "      <td>0</td>\n",
              "    </tr>\n",
              "    <tr>\n",
              "      <th>4</th>\n",
              "      <td>Deal or No Deal: Special Edition</td>\n",
              "      <td>DS</td>\n",
              "      <td>2010.0</td>\n",
              "      <td>Misc</td>\n",
              "      <td>Zoo Games</td>\n",
              "      <td>0.04</td>\n",
              "      <td>0</td>\n",
              "      <td>0</td>\n",
              "      <td>0</td>\n",
              "    </tr>\n",
              "    <tr>\n",
              "      <th>5</th>\n",
              "      <td>Ben 10 Ultimate Alien: Cosmic Destruction</td>\n",
              "      <td>PS3</td>\n",
              "      <td>2010.0</td>\n",
              "      <td>Platform</td>\n",
              "      <td>D3Publisher</td>\n",
              "      <td>0.12</td>\n",
              "      <td>0.09</td>\n",
              "      <td>0</td>\n",
              "      <td>0.04</td>\n",
              "    </tr>\n",
              "  </tbody>\n",
              "</table>\n",
              "</div>"
            ],
            "text/plain": [
              "                                             Name Platform  ...  JP_Sales Other_Sales\n",
              "1                    Candace Kane's Candy Factory       DS  ...         0           0\n",
              "2                                  The Munchables      Wii  ...         0        0.01\n",
              "3  Otome wa Oanesama Boku ni Koi Shiteru Portable      PSP  ...      0.02           0\n",
              "4                Deal or No Deal: Special Edition       DS  ...         0           0\n",
              "5       Ben 10 Ultimate Alien: Cosmic Destruction      PS3  ...         0        0.04\n",
              "\n",
              "[5 rows x 9 columns]"
            ]
          },
          "metadata": {
            "tags": []
          },
          "execution_count": 3
        }
      ]
    },
    {
      "cell_type": "code",
      "metadata": {
        "id": "7sZZQ7_fd1p1",
        "colab": {
          "base_uri": "https://localhost:8080/",
          "height": 200
        },
        "outputId": "43486098-7d5e-4a8e-c0f2-e960570870c4"
      },
      "source": [
        "games = games.reset_index(drop = True)\n",
        "games.head()"
      ],
      "execution_count": 4,
      "outputs": [
        {
          "output_type": "execute_result",
          "data": {
            "text/html": [
              "<div>\n",
              "<style scoped>\n",
              "    .dataframe tbody tr th:only-of-type {\n",
              "        vertical-align: middle;\n",
              "    }\n",
              "\n",
              "    .dataframe tbody tr th {\n",
              "        vertical-align: top;\n",
              "    }\n",
              "\n",
              "    .dataframe thead th {\n",
              "        text-align: right;\n",
              "    }\n",
              "</style>\n",
              "<table border=\"1\" class=\"dataframe\">\n",
              "  <thead>\n",
              "    <tr style=\"text-align: right;\">\n",
              "      <th></th>\n",
              "      <th>Name</th>\n",
              "      <th>Platform</th>\n",
              "      <th>Year</th>\n",
              "      <th>Genre</th>\n",
              "      <th>Publisher</th>\n",
              "      <th>NA_Sales</th>\n",
              "      <th>EU_Sales</th>\n",
              "      <th>JP_Sales</th>\n",
              "      <th>Other_Sales</th>\n",
              "    </tr>\n",
              "  </thead>\n",
              "  <tbody>\n",
              "    <tr>\n",
              "      <th>0</th>\n",
              "      <td>Candace Kane's Candy Factory</td>\n",
              "      <td>DS</td>\n",
              "      <td>2008.0</td>\n",
              "      <td>Action</td>\n",
              "      <td>Destineer</td>\n",
              "      <td>0.04</td>\n",
              "      <td>0</td>\n",
              "      <td>0</td>\n",
              "      <td>0</td>\n",
              "    </tr>\n",
              "    <tr>\n",
              "      <th>1</th>\n",
              "      <td>The Munchables</td>\n",
              "      <td>Wii</td>\n",
              "      <td>2009.0</td>\n",
              "      <td>Action</td>\n",
              "      <td>Namco Bandai Games</td>\n",
              "      <td>0.17</td>\n",
              "      <td>0</td>\n",
              "      <td>0</td>\n",
              "      <td>0.01</td>\n",
              "    </tr>\n",
              "    <tr>\n",
              "      <th>2</th>\n",
              "      <td>Otome wa Oanesama Boku ni Koi Shiteru Portable</td>\n",
              "      <td>PSP</td>\n",
              "      <td>2010.0</td>\n",
              "      <td>Adventure</td>\n",
              "      <td>Alchemist</td>\n",
              "      <td>0</td>\n",
              "      <td>0</td>\n",
              "      <td>0.02</td>\n",
              "      <td>0</td>\n",
              "    </tr>\n",
              "    <tr>\n",
              "      <th>3</th>\n",
              "      <td>Deal or No Deal: Special Edition</td>\n",
              "      <td>DS</td>\n",
              "      <td>2010.0</td>\n",
              "      <td>Misc</td>\n",
              "      <td>Zoo Games</td>\n",
              "      <td>0.04</td>\n",
              "      <td>0</td>\n",
              "      <td>0</td>\n",
              "      <td>0</td>\n",
              "    </tr>\n",
              "    <tr>\n",
              "      <th>4</th>\n",
              "      <td>Ben 10 Ultimate Alien: Cosmic Destruction</td>\n",
              "      <td>PS3</td>\n",
              "      <td>2010.0</td>\n",
              "      <td>Platform</td>\n",
              "      <td>D3Publisher</td>\n",
              "      <td>0.12</td>\n",
              "      <td>0.09</td>\n",
              "      <td>0</td>\n",
              "      <td>0.04</td>\n",
              "    </tr>\n",
              "  </tbody>\n",
              "</table>\n",
              "</div>"
            ],
            "text/plain": [
              "                                             Name Platform  ...  JP_Sales Other_Sales\n",
              "0                    Candace Kane's Candy Factory       DS  ...         0           0\n",
              "1                                  The Munchables      Wii  ...         0        0.01\n",
              "2  Otome wa Oanesama Boku ni Koi Shiteru Portable      PSP  ...      0.02           0\n",
              "3                Deal or No Deal: Special Edition       DS  ...         0           0\n",
              "4       Ben 10 Ultimate Alien: Cosmic Destruction      PS3  ...         0        0.04\n",
              "\n",
              "[5 rows x 9 columns]"
            ]
          },
          "metadata": {
            "tags": []
          },
          "execution_count": 4
        }
      ]
    },
    {
      "cell_type": "code",
      "metadata": {
        "id": "m8fZL4LUzQj-",
        "colab": {
          "base_uri": "https://localhost:8080/"
        },
        "outputId": "0fc18630-4307-4d5f-8865-5c5e79308b09"
      },
      "source": [
        "games.dtypes"
      ],
      "execution_count": 5,
      "outputs": [
        {
          "output_type": "execute_result",
          "data": {
            "text/plain": [
              "Name            object\n",
              "Platform        object\n",
              "Year           float64\n",
              "Genre           object\n",
              "Publisher       object\n",
              "NA_Sales        object\n",
              "EU_Sales        object\n",
              "JP_Sales        object\n",
              "Other_Sales     object\n",
              "dtype: object"
            ]
          },
          "metadata": {
            "tags": []
          },
          "execution_count": 5
        }
      ]
    },
    {
      "cell_type": "code",
      "metadata": {
        "id": "1ncnao9Uetgs",
        "colab": {
          "base_uri": "https://localhost:8080/"
        },
        "outputId": "f78b903f-4b07-4715-f356-7c2362043881"
      },
      "source": [
        "games.isnull().sum().sort_values(ascending = False)"
      ],
      "execution_count": 6,
      "outputs": [
        {
          "output_type": "execute_result",
          "data": {
            "text/plain": [
              "Year           271\n",
              "Publisher       58\n",
              "Genre           50\n",
              "Other_Sales      0\n",
              "JP_Sales         0\n",
              "EU_Sales         0\n",
              "NA_Sales         0\n",
              "Platform         0\n",
              "Name             0\n",
              "dtype: int64"
            ]
          },
          "metadata": {
            "tags": []
          },
          "execution_count": 6
        }
      ]
    },
    {
      "cell_type": "markdown",
      "metadata": {
        "id": "hjB6BpfqYkRC"
      },
      "source": [
        "## 1. NA 제거"
      ]
    },
    {
      "cell_type": "code",
      "metadata": {
        "id": "RGRamL8ZyTs6",
        "colab": {
          "base_uri": "https://localhost:8080/",
          "height": 200
        },
        "outputId": "af159f50-2769-4726-ac8c-7869fe447f6e"
      },
      "source": [
        "#na 데이터 제거\n",
        "games.dropna(how ='any', inplace = True, axis = 0)\n",
        "games.head()"
      ],
      "execution_count": 7,
      "outputs": [
        {
          "output_type": "execute_result",
          "data": {
            "text/html": [
              "<div>\n",
              "<style scoped>\n",
              "    .dataframe tbody tr th:only-of-type {\n",
              "        vertical-align: middle;\n",
              "    }\n",
              "\n",
              "    .dataframe tbody tr th {\n",
              "        vertical-align: top;\n",
              "    }\n",
              "\n",
              "    .dataframe thead th {\n",
              "        text-align: right;\n",
              "    }\n",
              "</style>\n",
              "<table border=\"1\" class=\"dataframe\">\n",
              "  <thead>\n",
              "    <tr style=\"text-align: right;\">\n",
              "      <th></th>\n",
              "      <th>Name</th>\n",
              "      <th>Platform</th>\n",
              "      <th>Year</th>\n",
              "      <th>Genre</th>\n",
              "      <th>Publisher</th>\n",
              "      <th>NA_Sales</th>\n",
              "      <th>EU_Sales</th>\n",
              "      <th>JP_Sales</th>\n",
              "      <th>Other_Sales</th>\n",
              "    </tr>\n",
              "  </thead>\n",
              "  <tbody>\n",
              "    <tr>\n",
              "      <th>0</th>\n",
              "      <td>Candace Kane's Candy Factory</td>\n",
              "      <td>DS</td>\n",
              "      <td>2008.0</td>\n",
              "      <td>Action</td>\n",
              "      <td>Destineer</td>\n",
              "      <td>0.04</td>\n",
              "      <td>0</td>\n",
              "      <td>0</td>\n",
              "      <td>0</td>\n",
              "    </tr>\n",
              "    <tr>\n",
              "      <th>1</th>\n",
              "      <td>The Munchables</td>\n",
              "      <td>Wii</td>\n",
              "      <td>2009.0</td>\n",
              "      <td>Action</td>\n",
              "      <td>Namco Bandai Games</td>\n",
              "      <td>0.17</td>\n",
              "      <td>0</td>\n",
              "      <td>0</td>\n",
              "      <td>0.01</td>\n",
              "    </tr>\n",
              "    <tr>\n",
              "      <th>2</th>\n",
              "      <td>Otome wa Oanesama Boku ni Koi Shiteru Portable</td>\n",
              "      <td>PSP</td>\n",
              "      <td>2010.0</td>\n",
              "      <td>Adventure</td>\n",
              "      <td>Alchemist</td>\n",
              "      <td>0</td>\n",
              "      <td>0</td>\n",
              "      <td>0.02</td>\n",
              "      <td>0</td>\n",
              "    </tr>\n",
              "    <tr>\n",
              "      <th>3</th>\n",
              "      <td>Deal or No Deal: Special Edition</td>\n",
              "      <td>DS</td>\n",
              "      <td>2010.0</td>\n",
              "      <td>Misc</td>\n",
              "      <td>Zoo Games</td>\n",
              "      <td>0.04</td>\n",
              "      <td>0</td>\n",
              "      <td>0</td>\n",
              "      <td>0</td>\n",
              "    </tr>\n",
              "    <tr>\n",
              "      <th>4</th>\n",
              "      <td>Ben 10 Ultimate Alien: Cosmic Destruction</td>\n",
              "      <td>PS3</td>\n",
              "      <td>2010.0</td>\n",
              "      <td>Platform</td>\n",
              "      <td>D3Publisher</td>\n",
              "      <td>0.12</td>\n",
              "      <td>0.09</td>\n",
              "      <td>0</td>\n",
              "      <td>0.04</td>\n",
              "    </tr>\n",
              "  </tbody>\n",
              "</table>\n",
              "</div>"
            ],
            "text/plain": [
              "                                             Name Platform  ...  JP_Sales Other_Sales\n",
              "0                    Candace Kane's Candy Factory       DS  ...         0           0\n",
              "1                                  The Munchables      Wii  ...         0        0.01\n",
              "2  Otome wa Oanesama Boku ni Koi Shiteru Portable      PSP  ...      0.02           0\n",
              "3                Deal or No Deal: Special Edition       DS  ...         0           0\n",
              "4       Ben 10 Ultimate Alien: Cosmic Destruction      PS3  ...         0        0.04\n",
              "\n",
              "[5 rows x 9 columns]"
            ]
          },
          "metadata": {
            "tags": []
          },
          "execution_count": 7
        }
      ]
    },
    {
      "cell_type": "markdown",
      "metadata": {
        "id": "qE0-cNKcYorR"
      },
      "source": [
        "## 2. 수치데이터 표기 맞추기 "
      ]
    },
    {
      "cell_type": "code",
      "metadata": {
        "id": "DCYzef7TE067",
        "colab": {
          "base_uri": "https://localhost:8080/",
          "height": 78
        },
        "outputId": "096a8f30-9572-48e7-a1b5-8371871eb29d"
      },
      "source": [
        "#판매량  Values에 480K 등 K, M 수치 데이터 포함 확인\n",
        "games.loc[[10]]"
      ],
      "execution_count": 8,
      "outputs": [
        {
          "output_type": "execute_result",
          "data": {
            "text/html": [
              "<div>\n",
              "<style scoped>\n",
              "    .dataframe tbody tr th:only-of-type {\n",
              "        vertical-align: middle;\n",
              "    }\n",
              "\n",
              "    .dataframe tbody tr th {\n",
              "        vertical-align: top;\n",
              "    }\n",
              "\n",
              "    .dataframe thead th {\n",
              "        text-align: right;\n",
              "    }\n",
              "</style>\n",
              "<table border=\"1\" class=\"dataframe\">\n",
              "  <thead>\n",
              "    <tr style=\"text-align: right;\">\n",
              "      <th></th>\n",
              "      <th>Name</th>\n",
              "      <th>Platform</th>\n",
              "      <th>Year</th>\n",
              "      <th>Genre</th>\n",
              "      <th>Publisher</th>\n",
              "      <th>NA_Sales</th>\n",
              "      <th>EU_Sales</th>\n",
              "      <th>JP_Sales</th>\n",
              "      <th>Other_Sales</th>\n",
              "    </tr>\n",
              "  </thead>\n",
              "  <tbody>\n",
              "    <tr>\n",
              "      <th>10</th>\n",
              "      <td>Ford Racing</td>\n",
              "      <td>PS</td>\n",
              "      <td>2001.0</td>\n",
              "      <td>Racing</td>\n",
              "      <td>Empire Interactive</td>\n",
              "      <td>480K</td>\n",
              "      <td>0.33M</td>\n",
              "      <td>0K</td>\n",
              "      <td>0.06</td>\n",
              "    </tr>\n",
              "  </tbody>\n",
              "</table>\n",
              "</div>"
            ],
            "text/plain": [
              "           Name Platform    Year   Genre  ... NA_Sales EU_Sales JP_Sales Other_Sales\n",
              "10  Ford Racing       PS  2001.0  Racing  ...     480K    0.33M       0K        0.06\n",
              "\n",
              "[1 rows x 9 columns]"
            ]
          },
          "metadata": {
            "tags": []
          },
          "execution_count": 8
        }
      ]
    },
    {
      "cell_type": "code",
      "metadata": {
        "id": "4kV7JDzR1ffl"
      },
      "source": [
        "#처리위해 obj -> float화 및 수치데이터 정렬하기\n",
        "\n",
        "def values_to_float(x):\n",
        "  if 'K' in x:\n",
        "    if len(x) > 1:\n",
        "      return float(x.replace('K', ''))*1000\n",
        "    return 1000.0\n",
        "  if 'M' in x:\n",
        "    if len(x) >1:\n",
        "      return float(x.replace('M', ''))*1000000\n",
        "    return 1000000.0\n",
        "  else:\n",
        "    return float(x) * 1000000.0\n"
      ],
      "execution_count": 9,
      "outputs": []
    },
    {
      "cell_type": "code",
      "metadata": {
        "id": "sXrz6TzY24ia"
      },
      "source": [
        "cols = games.columns[5:]\n",
        "\n",
        "for name in cols:\n",
        "  games[name] = games[name].apply(values_to_float)"
      ],
      "execution_count": 10,
      "outputs": []
    },
    {
      "cell_type": "code",
      "metadata": {
        "id": "ogMmfvez3y_m",
        "colab": {
          "base_uri": "https://localhost:8080/",
          "height": 78
        },
        "outputId": "ae44c1e2-efdf-469b-a20d-02c9772796c2"
      },
      "source": [
        "#확인\n",
        "games.loc[[10]]"
      ],
      "execution_count": 11,
      "outputs": [
        {
          "output_type": "execute_result",
          "data": {
            "text/html": [
              "<div>\n",
              "<style scoped>\n",
              "    .dataframe tbody tr th:only-of-type {\n",
              "        vertical-align: middle;\n",
              "    }\n",
              "\n",
              "    .dataframe tbody tr th {\n",
              "        vertical-align: top;\n",
              "    }\n",
              "\n",
              "    .dataframe thead th {\n",
              "        text-align: right;\n",
              "    }\n",
              "</style>\n",
              "<table border=\"1\" class=\"dataframe\">\n",
              "  <thead>\n",
              "    <tr style=\"text-align: right;\">\n",
              "      <th></th>\n",
              "      <th>Name</th>\n",
              "      <th>Platform</th>\n",
              "      <th>Year</th>\n",
              "      <th>Genre</th>\n",
              "      <th>Publisher</th>\n",
              "      <th>NA_Sales</th>\n",
              "      <th>EU_Sales</th>\n",
              "      <th>JP_Sales</th>\n",
              "      <th>Other_Sales</th>\n",
              "    </tr>\n",
              "  </thead>\n",
              "  <tbody>\n",
              "    <tr>\n",
              "      <th>10</th>\n",
              "      <td>Ford Racing</td>\n",
              "      <td>PS</td>\n",
              "      <td>2001.0</td>\n",
              "      <td>Racing</td>\n",
              "      <td>Empire Interactive</td>\n",
              "      <td>480000.0</td>\n",
              "      <td>330000.0</td>\n",
              "      <td>0.0</td>\n",
              "      <td>60000.0</td>\n",
              "    </tr>\n",
              "  </tbody>\n",
              "</table>\n",
              "</div>"
            ],
            "text/plain": [
              "           Name Platform    Year  ...  EU_Sales JP_Sales  Other_Sales\n",
              "10  Ford Racing       PS  2001.0  ...  330000.0      0.0      60000.0\n",
              "\n",
              "[1 rows x 9 columns]"
            ]
          },
          "metadata": {
            "tags": []
          },
          "execution_count": 11
        }
      ]
    },
    {
      "cell_type": "markdown",
      "metadata": {
        "id": "ESKfSBZNYxj6"
      },
      "source": [
        "## 3. 이상치 - Year Feature 정리하기"
      ]
    },
    {
      "cell_type": "code",
      "metadata": {
        "id": "3GRWLzgWCBt4",
        "colab": {
          "base_uri": "https://localhost:8080/",
          "height": 408
        },
        "outputId": "19ac7707-c477-4af8-c382-fc933bcbf011"
      },
      "source": [
        "#그래프로 데이터 확인 위해 Tidy화\n",
        "tidy_sales = games.melt(id_vars = ['Name', 'Platform', 'Year', 'Genre', 'Publisher'], var_name = 'region', value_name ='sales')\n",
        "tidy_sales"
      ],
      "execution_count": 12,
      "outputs": [
        {
          "output_type": "execute_result",
          "data": {
            "text/html": [
              "<div>\n",
              "<style scoped>\n",
              "    .dataframe tbody tr th:only-of-type {\n",
              "        vertical-align: middle;\n",
              "    }\n",
              "\n",
              "    .dataframe tbody tr th {\n",
              "        vertical-align: top;\n",
              "    }\n",
              "\n",
              "    .dataframe thead th {\n",
              "        text-align: right;\n",
              "    }\n",
              "</style>\n",
              "<table border=\"1\" class=\"dataframe\">\n",
              "  <thead>\n",
              "    <tr style=\"text-align: right;\">\n",
              "      <th></th>\n",
              "      <th>Name</th>\n",
              "      <th>Platform</th>\n",
              "      <th>Year</th>\n",
              "      <th>Genre</th>\n",
              "      <th>Publisher</th>\n",
              "      <th>region</th>\n",
              "      <th>sales</th>\n",
              "    </tr>\n",
              "  </thead>\n",
              "  <tbody>\n",
              "    <tr>\n",
              "      <th>0</th>\n",
              "      <td>Candace Kane's Candy Factory</td>\n",
              "      <td>DS</td>\n",
              "      <td>2008.0</td>\n",
              "      <td>Action</td>\n",
              "      <td>Destineer</td>\n",
              "      <td>NA_Sales</td>\n",
              "      <td>40000.0</td>\n",
              "    </tr>\n",
              "    <tr>\n",
              "      <th>1</th>\n",
              "      <td>The Munchables</td>\n",
              "      <td>Wii</td>\n",
              "      <td>2009.0</td>\n",
              "      <td>Action</td>\n",
              "      <td>Namco Bandai Games</td>\n",
              "      <td>NA_Sales</td>\n",
              "      <td>170000.0</td>\n",
              "    </tr>\n",
              "    <tr>\n",
              "      <th>2</th>\n",
              "      <td>Otome wa Oanesama Boku ni Koi Shiteru Portable</td>\n",
              "      <td>PSP</td>\n",
              "      <td>2010.0</td>\n",
              "      <td>Adventure</td>\n",
              "      <td>Alchemist</td>\n",
              "      <td>NA_Sales</td>\n",
              "      <td>0.0</td>\n",
              "    </tr>\n",
              "    <tr>\n",
              "      <th>3</th>\n",
              "      <td>Deal or No Deal: Special Edition</td>\n",
              "      <td>DS</td>\n",
              "      <td>2010.0</td>\n",
              "      <td>Misc</td>\n",
              "      <td>Zoo Games</td>\n",
              "      <td>NA_Sales</td>\n",
              "      <td>40000.0</td>\n",
              "    </tr>\n",
              "    <tr>\n",
              "      <th>4</th>\n",
              "      <td>Ben 10 Ultimate Alien: Cosmic Destruction</td>\n",
              "      <td>PS3</td>\n",
              "      <td>2010.0</td>\n",
              "      <td>Platform</td>\n",
              "      <td>D3Publisher</td>\n",
              "      <td>NA_Sales</td>\n",
              "      <td>120000.0</td>\n",
              "    </tr>\n",
              "    <tr>\n",
              "      <th>...</th>\n",
              "      <td>...</td>\n",
              "      <td>...</td>\n",
              "      <td>...</td>\n",
              "      <td>...</td>\n",
              "      <td>...</td>\n",
              "      <td>...</td>\n",
              "      <td>...</td>\n",
              "    </tr>\n",
              "    <tr>\n",
              "      <th>64959</th>\n",
              "      <td>Ice Age 2: The Meltdown</td>\n",
              "      <td>GC</td>\n",
              "      <td>2006.0</td>\n",
              "      <td>Platform</td>\n",
              "      <td>Vivendi Games</td>\n",
              "      <td>Other_Sales</td>\n",
              "      <td>10000.0</td>\n",
              "    </tr>\n",
              "    <tr>\n",
              "      <th>64960</th>\n",
              "      <td>Rainbow Islands: Revolution</td>\n",
              "      <td>PSP</td>\n",
              "      <td>2005.0</td>\n",
              "      <td>Action</td>\n",
              "      <td>Rising Star Games</td>\n",
              "      <td>Other_Sales</td>\n",
              "      <td>0.0</td>\n",
              "    </tr>\n",
              "    <tr>\n",
              "      <th>64961</th>\n",
              "      <td>NBA 2K16</td>\n",
              "      <td>PS3</td>\n",
              "      <td>2015.0</td>\n",
              "      <td>Sports</td>\n",
              "      <td>Take-Two Interactive</td>\n",
              "      <td>Other_Sales</td>\n",
              "      <td>130000.0</td>\n",
              "    </tr>\n",
              "    <tr>\n",
              "      <th>64962</th>\n",
              "      <td>Toukiden: The Age of Demons</td>\n",
              "      <td>PSV</td>\n",
              "      <td>2013.0</td>\n",
              "      <td>Action</td>\n",
              "      <td>Tecmo Koei</td>\n",
              "      <td>Other_Sales</td>\n",
              "      <td>30000.0</td>\n",
              "    </tr>\n",
              "    <tr>\n",
              "      <th>64963</th>\n",
              "      <td>The King of Fighters '95</td>\n",
              "      <td>PS</td>\n",
              "      <td>1996.0</td>\n",
              "      <td>Fighting</td>\n",
              "      <td>Sony Computer Entertainment</td>\n",
              "      <td>Other_Sales</td>\n",
              "      <td>10000.0</td>\n",
              "    </tr>\n",
              "  </tbody>\n",
              "</table>\n",
              "<p>64964 rows × 7 columns</p>\n",
              "</div>"
            ],
            "text/plain": [
              "                                                 Name  ...     sales\n",
              "0                        Candace Kane's Candy Factory  ...   40000.0\n",
              "1                                      The Munchables  ...  170000.0\n",
              "2      Otome wa Oanesama Boku ni Koi Shiteru Portable  ...       0.0\n",
              "3                    Deal or No Deal: Special Edition  ...   40000.0\n",
              "4           Ben 10 Ultimate Alien: Cosmic Destruction  ...  120000.0\n",
              "...                                               ...  ...       ...\n",
              "64959                         Ice Age 2: The Meltdown  ...   10000.0\n",
              "64960                     Rainbow Islands: Revolution  ...       0.0\n",
              "64961                                        NBA 2K16  ...  130000.0\n",
              "64962                     Toukiden: The Age of Demons  ...   30000.0\n",
              "64963                        The King of Fighters '95  ...   10000.0\n",
              "\n",
              "[64964 rows x 7 columns]"
            ]
          },
          "metadata": {
            "tags": []
          },
          "execution_count": 12
        }
      ]
    },
    {
      "cell_type": "code",
      "metadata": {
        "id": "JKq_xkvIBiuz",
        "colab": {
          "base_uri": "https://localhost:8080/",
          "height": 290
        },
        "outputId": "e7c042d3-b918-44ab-801a-3d0a333e2e1d"
      },
      "source": [
        "#Year에서 이상치 확인: 0과 가까운 범위에 데이터 발견\n",
        "\n",
        "plt.figure(figsize = (15,4))\n",
        "sns.lineplot( x= 'Year', y ='sales', hue = 'region', data = tidy_sales);"
      ],
      "execution_count": 13,
      "outputs": [
        {
          "output_type": "display_data",
          "data": {
            "image/png": "[encoded data removed]",
            "text/plain": [
              "<Figure size 1080x288 with 1 Axes>"
            ]
          },
          "metadata": {
            "tags": [],
            "needs_background": "light"
          }
        }
      ]
    },
    {
      "cell_type": "code",
      "metadata": {
        "id": "-0IstSGBECDQ",
        "colab": {
          "base_uri": "https://localhost:8080/",
          "height": 295
        },
        "outputId": "7406aaf7-c81c-4d46-8deb-3e43356ccefe"
      },
      "source": [
        "#Histogram으로 다시 확인\n",
        "plt.hist('Year', data = games, bins = (0,100))\n",
        "plt.xlabel('Year')\n",
        "plt.ylabel('Counts');\n",
        "plt.xlim(0,300)\n",
        "plt.ylim(0,150)"
      ],
      "execution_count": 14,
      "outputs": [
        {
          "output_type": "execute_result",
          "data": {
            "text/plain": [
              "(0.0, 150.0)"
            ]
          },
          "metadata": {
            "tags": []
          },
          "execution_count": 14
        },
        {
          "output_type": "display_data",
          "data": {
            "image/png": "[encoded data removed]",
            "text/plain": [
              "<Figure size 432x288 with 1 Axes>"
            ]
          },
          "metadata": {
            "tags": [],
            "needs_background": "light"
          }
        }
      ]
    },
    {
      "cell_type": "code",
      "metadata": {
        "id": "gYUpyfI4AC0Z",
        "colab": {
          "base_uri": "https://localhost:8080/"
        },
        "outputId": "d14e73ae-e337-462c-91f5-785b1d9208c7"
      },
      "source": [
        "#Numeric 외 다른 열도 확인\n",
        "\n",
        "print('genre', games.Genre.unique())\n",
        "print('Publisher', games.Publisher.unique())\n",
        "print('Platform', games.Platform.unique()) \n",
        "\n",
        "#다른 열에는 이상치 없는 것으로 확인 "
      ],
      "execution_count": 15,
      "outputs": [
        {
          "output_type": "stream",
          "text": [
            "genre ['Action' 'Adventure' 'Misc' 'Platform' 'Sports' 'Simulation' 'Racing'\n",
            " 'Role-Playing' 'Puzzle' 'Strategy' 'Fighting' 'Shooter']\n",
            "Publisher ['Destineer' 'Namco Bandai Games' 'Alchemist' 'Zoo Games' 'D3Publisher'\n",
            " 'Konami Digital Entertainment' 'Deep Silver' 'Tecmo Koei' 'Sega' 'THQ'\n",
            " 'Empire Interactive' 'Ubisoft' 'Paradox Interactive' '505 Games'\n",
            " 'Tomy Corporation' 'Eidos Interactive' 'Microsoft Game Studios'\n",
            " 'Nippon Ichi Software' 'Kalypso Media' 'Electronic Arts'\n",
            " 'Sony Computer Entertainment' 'Activision' 'Tru Blu Entertainment'\n",
            " 'Warner Bros. Interactive Entertainment' 'Midway Games' 'Mindscape'\n",
            " 'Wargaming.net' 'Capcom' 'Acclaim Entertainment' 'Unknown' 'Nintendo'\n",
            " 'Disney Interactive Studios' 'Crave Entertainment' 'Sunflowers'\n",
            " 'Arc System Works' 'Milestone S.r.l' 'Kamui' 'Hudson Soft' 'Square Enix'\n",
            " 'Focus Home Interactive' 'Take-Two Interactive' 'Game Factory'\n",
            " 'Takara Tomy' 'SquareSoft' 'Global Star' 'Infogrames' 'GT Interactive'\n",
            " 'Storm City Games' 'Gathering of Developers' 'Giza10' 'Imagineer' 'Atari'\n",
            " 'SouthPeak Games' 'Graffiti' 'Banpresto' 'Gust' 'From Software'\n",
            " 'TDK Mediactive' '5pb' 'Nobilis' 'Taito' 'Foreign Media Games'\n",
            " 'Nippon Columbia' 'Vivendi Games' 'Codemasters' 'Bethesda Softworks'\n",
            " '3DO' 'Enix Corporation' 'Ignition Entertainment' 'ASCII Media Works'\n",
            " 'Virgin Interactive' 'Easy Interactive' 'SCi' 'Idea Factory' 'Jaleco'\n",
            " 'Majesco Entertainment' 'ArtDink' 'System Soft' 'CBS Electronics'\n",
            " 'Kaga Create' 'Phantagram' 'Zoo Digital Publishing' 'BAM! Entertainment'\n",
            " 'Jester Interactive' 'Quinrose' 'Game Arts' 'Headup Games'\n",
            " 'Rising Star Games' 'TGL' 'Gremlin Interactive Ltd' '10TACLE Studios'\n",
            " 'Activision Value' 'responDESIGN' 'Rage Software' 'Little Orbit'\n",
            " 'Marvelous Interactive' 'Avanquest' 'Marvelous Entertainment'\n",
            " 'Kadokawa Shoten' 'Compile Heart' 'Takara' 'Seta Corporation' 'Comfort'\n",
            " 'LucasArts' 'NEC Interchannel' 'SNK Playmore' 'Russel' 'FuRyu'\n",
            " 'dramatic create' 'Koch Media' 'LSP Games' 'Microids' 'Psygnosis'\n",
            " 'Culture Brain' 'Saurus' 'Hackberry' 'FuRyu Corporation'\n",
            " 'Midas Interactive Entertainment' 'Office Create' 'Media Factory'\n",
            " 'Asylum Entertainment' 'ValuSoft' 'Universal Interactive'\n",
            " 'bitComposer Games' 'Rocket Company' 'Atlus' 'Number None' 'Genki'\n",
            " 'Compile' 'Telltale Games' 'UFO Interactive' 'Magix' 'NewKidCo' 'Coleco'\n",
            " 'Harmonix Music Systems' 'Sting' 'Hudson Entertainment' 'Ghostlight'\n",
            " 'Sunsoft' 'Spike' 'Home Entertainment Suppliers' 'Screenlife' 'Moss'\n",
            " 'Ubisoft Annecy' 'Oxygen Interactive' 'Kemco' 'P2 Games' 'Datam Polystar'\n",
            " 'Palcom' 'Enterbrain' 'Starfish' '20th Century Fox Video Games' 'Xplosiv'\n",
            " 'Scholastic Inc.' 'Phenomedia' 'GOA' 'Yamasa Entertainment' 'MTV Games'\n",
            " 'PQube' 'Aqua Plus' 'Daedalic' 'ASCII Entertainment' 'Nordic Games'\n",
            " 'Ongakukan' 'Interchannel-Holon' 'Avanquest Software' 'Black Bean Games'\n",
            " 'DTP Entertainment' 'NEC' 'Black Label Games' 'O3 Entertainment'\n",
            " 'Micro Cabin' 'Marvel Entertainment' 'Telegames' 'Hasbro Interactive'\n",
            " 'Tigervision' 'Funsta' 'Kadokawa Games' 'Success' 'Level 5'\n",
            " 'Sammy Corporation' 'Axela' 'Milestone S.r.l.' 'Agatsuma Entertainment'\n",
            " 'Vap' 'System 3 Arcade Software' 'Broccoli' 'Media Rings' 'Interplay'\n",
            " 'Swing! Entertainment' 'Fox Interactive' 'Aques'\n",
            " 'DreamCatcher Interactive' 'General Entertainment'\n",
            " 'Sony Online Entertainment' 'Shogakukan' 'Rebellion' 'Starpath Corp.'\n",
            " 'Square' 'Quintet' 'Touchstone' 'Mumbo Jumbo' 'Epoch' 'Parker Bros.'\n",
            " 'TDK Core' 'Mattel Interactive' 'Prototype' 'Merscom LLC'\n",
            " 'Insomniac Games' 'Human Entertainment' 'Nichibutsu'\n",
            " 'Playlogic Game Factory' 'Ocean' 'Cloud Imperium Games Corporation'\n",
            " 'Funcom' 'Hamster Corporation' 'Idea Factory International'\n",
            " 'Destination Software, Inc' 'DHM Interactive' 'Myelin Media' 'SNK'\n",
            " 'Licensed 4U' 'GSP' 'City Interactive' 'PopCap Games' 'AQ Interactive'\n",
            " 'Victor Interactive' 'Titus' 'Excalibur Publishing' 'Popcorn Arcade'\n",
            " 'Valcon Games' 'Mojang' 'Metro 3D' 'Vatical Entertainment' 'ChunSoft'\n",
            " 'Astragon' 'CyberFront' 'Big Ben Interactive' 'Big Fish Games'\n",
            " 'Conspiracy Entertainment' 'Naxat Soft' 'Paon Corporation'\n",
            " 'Bigben Interactive' 'MediaQuest' 'Blast! Entertainment Ltd'\n",
            " 'Data Design Interactive' 'Nexon' 'Neko Entertainment' 'iWin'\n",
            " 'Introversion Software' 'GameMill Entertainment' 'Play It' 'Asgard'\n",
            " 'ASC Games' '989 Studios' 'MTO' 'Mercury Games' 'Navarre Corp' 'Boost On'\n",
            " 'Maxis' 'Rondomedia' 'MC2 Entertainment' 'CDV Software Entertainment'\n",
            " 'Funbox Media' 'Angel Studios' 'Xseed Games'\n",
            " 'Performance Designed Products' 'Sony Computer Entertainment Europe'\n",
            " 'Wanadoo' 'Lexicon Entertainment' 'Aruze Corp' 'TopWare Interactive'\n",
            " 'Virtual Play Games' 'Seventh Chord' 'JoWood Productions' 'Pinnacle'\n",
            " 'Iceberg Interactive' 'Agetec' 'Mastertronic' 'Vic Tokai'\n",
            " 'ITT Family Games' 'Gameloft' 'Sony Music Entertainment' 'Mastiff'\n",
            " 'imageepoch Inc.' 'Arena Entertainment' 'TOHO' 'Bomb' 'Interchannel'\n",
            " 'LEGO Media' 'Grand Prix Games' 'Mitsui' 'Zushi Games' 'O-Games' 'NCSoft'\n",
            " 'Arika' 'CPG Products' 'Slitherine Software' 'Alternative Software'\n",
            " 'Data Age' 'Plenty' 'PlayV' 'Karin Entertainment' 'Knowledge Adventure'\n",
            " 'Valve Software' 'Gotham Games' 'Pioneer LDC' 'Genterprise' 'G.Rev'\n",
            " 'Kids Station' 'Asmik Ace Entertainment' 'Monte Christo Multimedia'\n",
            " 'Cave' 'Milestone' 'Views' 'Benesse' 'Encore' 'XS Games'\n",
            " 'Avalon Interactive' 'EON Digital Entertainment' 'Mentor Interactive'\n",
            " 'Irem Software Engineering' 'Brash Entertainment' 'Flashpoint Games'\n",
            " 'Imagic' 'KID' 'Media Works' 'Altron' 'Mirai Shounen' 'SSI'\n",
            " 'Strategy First' 'Ascaron Entertainment GmbH' 'Natsume' 'Warashi'\n",
            " 'IE Institute' 'Warp' 'Mad Catz' 'NCS' 'The Learning Company' 'Sweets'\n",
            " 'Game Life' 'HMH Interactive' 'Xicat Interactive'\n",
            " 'Rebellion Developments' 'Yeti' 'Ackkstudios' 'CokeM Interactive'\n",
            " 'Evolved Games' 'Video System' 'Aksys Games' 'PM Studios'\n",
            " 'Coconuts Japan' 'Sunrise Interactive' 'Bohemia Interactive' \"Yuke's\"\n",
            " 'Tivola' 'GungHo' 'Tradewest' 'Tommo' 'GN Software' 'Gaga' 'Aspyr'\n",
            " 'Trion Worlds' 'Revolution (Japan)' 'Misawa' 'Pack-In-Video' 'Hect'\n",
            " 'TalonSoft' 'Aerosoft' 'RTL' 'Minato Station' 'Activision Blizzard'\n",
            " 'Playmates' 'CTO SpA' 'BMG Interactive Entertainment'\n",
            " 'Media Entertainment' 'Hip Interactive' 'Acquire' 'Jack of All Games'\n",
            " 'The Adventure Company' 'Epic Games' 'DSI Games' 'Fortyfive'\n",
            " 'Indie Games' 'NovaLogic' 'Happinet' 'Reef Entertainment'\n",
            " 'Masque Publishing' 'Imadio' 'Microprose' 'Falcom Corporation'\n",
            " 'Square EA' 'Red Storm Entertainment' 'Dusenberry Martin Racing' 'Sonnet'\n",
            " 'Tripwire Interactive' 'RED Entertainment' 'Global A Entertainment'\n",
            " 'Athena' 'Groove Games' 'Mud Duck Productions' 'Ertain' 'System 3'\n",
            " 'Marvelous Games' 'Gamecock' 'Panther Software' 'Playmore'\n",
            " 'Vir2L Studios' 'mixi, Inc' 'HAL Laboratory' 'BushiRoad' 'Jorudan' 'JVC'\n",
            " 'Alawar Entertainment' 'Inti Creates' 'Laguna' 'NetRevo'\n",
            " 'Daedalic Entertainment' 'Time Warner Interactive' 'Slightly Mad Studios'\n",
            " 'Max Five' 'Devolver Digital' 'CCP' 'Flight-Plan' 'Quelle' 'Dorart' 'ESP'\n",
            " 'Answer Software' 'Phoenix Games' 'Yumedia' 'Elite' 'Elf' 'Nordcurrent'\n",
            " 'New' 'Paon' 'Nihon Falcom Corporation' 'Commseed' 'BPS' 'Tryfirst'\n",
            " 'FunSoft' 'Legacy Interactive' 'Princess Soft' 'Graphsim Entertainment'\n",
            " 'Creative Core' 'Electronic Arts Victor' 'Mamba Games' 'Her Interactive'\n",
            " 'Maximum Family Games' 'DreamWorks Interactive' 'Detn8 Games'\n",
            " 'Universal Gamex' 'Hearty Robin' 'GameTek' 'RedOctane' 'U.S. Gold'\n",
            " 'Wizard Video Games' 'Sony Computer Entertainment America' 'Telstar'\n",
            " 'Yacht Club Games' 'PopTop Software' 'Experience Inc.' 'Michaelsoft'\n",
            " 'Gakken' 'T&E Soft' 'Origin Systems' 'Gainax Network Systems'\n",
            " 'inXile Entertainment' 'Focus Multimedia' 'SCS Software' 'Hello Games'\n",
            " 'Essential Games' 'Xing Entertainment' 'Riverhillsoft' '1C Company'\n",
            " 'Data East' 'Mycom' '7G//AMES' 'DigiCube' 'Fuji'\n",
            " 'Simon & Schuster Interactive' 'Pow' 'Pacific Century Cyber Works'\n",
            " 'Extreme Entertainment Group' 'Image Epoch' 'Core Design Ltd.' 'Otomate'\n",
            " 'Piacci' 'ASK' 'WayForward Technologies' 'Pack In Soft' 'Red Orb'\n",
            " 'Takuyo' 'UIG Entertainment' 'Crystal Dynamics' 'Blue Byte' 'Rain Games'\n",
            " 'Gamebridge' 'New World Computing' 'fonfun' 'Berkeley'\n",
            " 'Interworks Unlimited, Inc.' 'Societa' 'On Demand' 'Crimson Cow'\n",
            " 'Griffin International' 'Visco' 'Syscom' 'King Records' 'Tetris Online'\n",
            " 'EA Games' 'Locus' 'Paradox Development' 'Nippon Telenet' 'Accolade'\n",
            " 'id Software' 'HuneX' 'Interplay Productions' 'Evolution Games'\n",
            " 'Kokopeli Digital Studios' 'Ascaron Entertainment' '989 Sports'\n",
            " 'Illusion Softworks' 'Kando Games' 'Pony Canyon' 'Intergrow' 'Glams'\n",
            " 'Nitroplus' 'Zenrin' 'Team17 Software' 'Fields' 'Havas Interactive'\n",
            " '49Games' 'Alvion' 'Quest' 'Imageworks' 'Stainless Games' 'Daito'\n",
            " 'Enjoy Gaming ltd.' 'Aria' 'Kool Kizz' 'Sold Out' 'Magical Company'\n",
            " 'Imax' 'Summitsoft' 'Cygames' 'Men-A-Vision' 'Adeline Software'\n",
            " 'Revolution Software' 'Valve' 'Codemasters Online' 'TYO' 'Phantom EFX'\n",
            " 'Liquid Games' 'American Softworks' 'SPS' 'Edia' 'Nippon Amuse'\n",
            " 'Asmik Corp' 'MLB.com' 'White Park Bay Software' 'Abylight' 'Ecole'\n",
            " 'TechnoSoft' 'Culture Publishers' 'Ivolgamus' '2D Boy'\n",
            " 'Technos Japan Corporation' 'Giga' 'Westwood Studios' 'UEP Systems' 'KSS'\n",
            " 'Type-Moon' 'Lighthouse Interactive' 'NDA Productions' 'Mystique']\n",
            "Platform ['DS' 'Wii' 'PSP' 'PS3' 'PC' 'PS' 'GBA' 'PS4' 'PS2' 'XB' 'X360' 'GC' '3DS'\n",
            " '2600' 'SAT' 'GB' 'NES' 'DC' 'N64' 'XOne' 'SNES' 'WiiU' 'PSV' 'GEN' 'SCD'\n",
            " 'WS' 'NG' 'TG16' '3DO' 'GG' 'PCFX']\n"
          ],
          "name": "stdout"
        }
      ]
    },
    {
      "cell_type": "code",
      "metadata": {
        "id": "FUeFxj6Q-a9y",
        "colab": {
          "base_uri": "https://localhost:8080/",
          "height": 408
        },
        "outputId": "e4f6097f-7b1e-4e87-a589-827e495561af"
      },
      "source": [
        "#Year 이상치 정리하기 값이 300 이하인 데이터 확인 (토탈 100행)\n",
        "condition = (games['Year'] < 300)\n",
        "df_year = games[condition]\n",
        "df_year"
      ],
      "execution_count": 16,
      "outputs": [
        {
          "output_type": "execute_result",
          "data": {
            "text/html": [
              "<div>\n",
              "<style scoped>\n",
              "    .dataframe tbody tr th:only-of-type {\n",
              "        vertical-align: middle;\n",
              "    }\n",
              "\n",
              "    .dataframe tbody tr th {\n",
              "        vertical-align: top;\n",
              "    }\n",
              "\n",
              "    .dataframe thead th {\n",
              "        text-align: right;\n",
              "    }\n",
              "</style>\n",
              "<table border=\"1\" class=\"dataframe\">\n",
              "  <thead>\n",
              "    <tr style=\"text-align: right;\">\n",
              "      <th></th>\n",
              "      <th>Name</th>\n",
              "      <th>Platform</th>\n",
              "      <th>Year</th>\n",
              "      <th>Genre</th>\n",
              "      <th>Publisher</th>\n",
              "      <th>NA_Sales</th>\n",
              "      <th>EU_Sales</th>\n",
              "      <th>JP_Sales</th>\n",
              "      <th>Other_Sales</th>\n",
              "    </tr>\n",
              "  </thead>\n",
              "  <tbody>\n",
              "    <tr>\n",
              "      <th>74</th>\n",
              "      <td>Age of Empires III: Complete Collection</td>\n",
              "      <td>PC</td>\n",
              "      <td>9.0</td>\n",
              "      <td>Strategy</td>\n",
              "      <td>Microsoft Game Studios</td>\n",
              "      <td>10000.0</td>\n",
              "      <td>120000.0</td>\n",
              "      <td>0.0</td>\n",
              "      <td>30000.0</td>\n",
              "    </tr>\n",
              "    <tr>\n",
              "      <th>81</th>\n",
              "      <td>Treasures of the Deep</td>\n",
              "      <td>PS</td>\n",
              "      <td>97.0</td>\n",
              "      <td>Action</td>\n",
              "      <td>Namco Bandai Games</td>\n",
              "      <td>100000.0</td>\n",
              "      <td>70000.0</td>\n",
              "      <td>0.0</td>\n",
              "      <td>10000.0</td>\n",
              "    </tr>\n",
              "    <tr>\n",
              "      <th>213</th>\n",
              "      <td>NASCAR Unleashed</td>\n",
              "      <td>PS3</td>\n",
              "      <td>11.0</td>\n",
              "      <td>Racing</td>\n",
              "      <td>Activision</td>\n",
              "      <td>90000.0</td>\n",
              "      <td>0.0</td>\n",
              "      <td>0.0</td>\n",
              "      <td>10000.0</td>\n",
              "    </tr>\n",
              "    <tr>\n",
              "      <th>304</th>\n",
              "      <td>Kung Fu Panda: Showdown of Legendary Legends</td>\n",
              "      <td>PS3</td>\n",
              "      <td>15.0</td>\n",
              "      <td>Action</td>\n",
              "      <td>Little Orbit</td>\n",
              "      <td>0.0</td>\n",
              "      <td>20000.0</td>\n",
              "      <td>0.0</td>\n",
              "      <td>0.0</td>\n",
              "    </tr>\n",
              "    <tr>\n",
              "      <th>768</th>\n",
              "      <td>NASCAR Thunder 2004</td>\n",
              "      <td>PS2</td>\n",
              "      <td>3.0</td>\n",
              "      <td>Racing</td>\n",
              "      <td>Electronic Arts</td>\n",
              "      <td>530000.0</td>\n",
              "      <td>410000.0</td>\n",
              "      <td>0.0</td>\n",
              "      <td>140000.0</td>\n",
              "    </tr>\n",
              "    <tr>\n",
              "      <th>...</th>\n",
              "      <td>...</td>\n",
              "      <td>...</td>\n",
              "      <td>...</td>\n",
              "      <td>...</td>\n",
              "      <td>...</td>\n",
              "      <td>...</td>\n",
              "      <td>...</td>\n",
              "      <td>...</td>\n",
              "      <td>...</td>\n",
              "    </tr>\n",
              "    <tr>\n",
              "      <th>15985</th>\n",
              "      <td>Sugoi Hebereke</td>\n",
              "      <td>SNES</td>\n",
              "      <td>94.0</td>\n",
              "      <td>Fighting</td>\n",
              "      <td>Sunsoft</td>\n",
              "      <td>0.0</td>\n",
              "      <td>0.0</td>\n",
              "      <td>20000.0</td>\n",
              "      <td>0.0</td>\n",
              "    </tr>\n",
              "    <tr>\n",
              "      <th>16103</th>\n",
              "      <td>Fab 5 Soccer</td>\n",
              "      <td>DS</td>\n",
              "      <td>8.0</td>\n",
              "      <td>Sports</td>\n",
              "      <td>Destineer</td>\n",
              "      <td>10000.0</td>\n",
              "      <td>0.0</td>\n",
              "      <td>0.0</td>\n",
              "      <td>0.0</td>\n",
              "    </tr>\n",
              "    <tr>\n",
              "      <th>16149</th>\n",
              "      <td>Dragon Ball Z: Burst Limit</td>\n",
              "      <td>X360</td>\n",
              "      <td>8.0</td>\n",
              "      <td>Fighting</td>\n",
              "      <td>Atari</td>\n",
              "      <td>240000.0</td>\n",
              "      <td>180000.0</td>\n",
              "      <td>30000.0</td>\n",
              "      <td>50000.0</td>\n",
              "    </tr>\n",
              "    <tr>\n",
              "      <th>16394</th>\n",
              "      <td>Point Blank 3</td>\n",
              "      <td>PS</td>\n",
              "      <td>0.0</td>\n",
              "      <td>Shooter</td>\n",
              "      <td>Namco Bandai Games</td>\n",
              "      <td>10000.0</td>\n",
              "      <td>10000.0</td>\n",
              "      <td>0.0</td>\n",
              "      <td>0.0</td>\n",
              "    </tr>\n",
              "    <tr>\n",
              "      <th>16482</th>\n",
              "      <td>Super Robot Taisen F Kanketsuhen</td>\n",
              "      <td>SAT</td>\n",
              "      <td>98.0</td>\n",
              "      <td>Strategy</td>\n",
              "      <td>Banpresto</td>\n",
              "      <td>0.0</td>\n",
              "      <td>0.0</td>\n",
              "      <td>550000.0</td>\n",
              "      <td>0.0</td>\n",
              "    </tr>\n",
              "  </tbody>\n",
              "</table>\n",
              "<p>100 rows × 9 columns</p>\n",
              "</div>"
            ],
            "text/plain": [
              "                                               Name  ... Other_Sales\n",
              "74          Age of Empires III: Complete Collection  ...     30000.0\n",
              "81                            Treasures of the Deep  ...     10000.0\n",
              "213                                NASCAR Unleashed  ...     10000.0\n",
              "304    Kung Fu Panda: Showdown of Legendary Legends  ...         0.0\n",
              "768                             NASCAR Thunder 2004  ...    140000.0\n",
              "...                                             ...  ...         ...\n",
              "15985                                Sugoi Hebereke  ...         0.0\n",
              "16103                                  Fab 5 Soccer  ...         0.0\n",
              "16149                    Dragon Ball Z: Burst Limit  ...     50000.0\n",
              "16394                                 Point Blank 3  ...         0.0\n",
              "16482              Super Robot Taisen F Kanketsuhen  ...         0.0\n",
              "\n",
              "[100 rows x 9 columns]"
            ]
          },
          "metadata": {
            "tags": []
          },
          "execution_count": 16
        }
      ]
    },
    {
      "cell_type": "code",
      "metadata": {
        "id": "hii8i91NMDyF",
        "colab": {
          "base_uri": "https://localhost:8080/",
          "height": 408
        },
        "outputId": "2f11526d-0765-4d25-eb99-111839a62af7"
      },
      "source": [
        "df_year.sort_values(by = ['Year']) #0 ~ 98까지 이상치 데이터 확인 "
      ],
      "execution_count": 17,
      "outputs": [
        {
          "output_type": "execute_result",
          "data": {
            "text/html": [
              "<div>\n",
              "<style scoped>\n",
              "    .dataframe tbody tr th:only-of-type {\n",
              "        vertical-align: middle;\n",
              "    }\n",
              "\n",
              "    .dataframe tbody tr th {\n",
              "        vertical-align: top;\n",
              "    }\n",
              "\n",
              "    .dataframe thead th {\n",
              "        text-align: right;\n",
              "    }\n",
              "</style>\n",
              "<table border=\"1\" class=\"dataframe\">\n",
              "  <thead>\n",
              "    <tr style=\"text-align: right;\">\n",
              "      <th></th>\n",
              "      <th>Name</th>\n",
              "      <th>Platform</th>\n",
              "      <th>Year</th>\n",
              "      <th>Genre</th>\n",
              "      <th>Publisher</th>\n",
              "      <th>NA_Sales</th>\n",
              "      <th>EU_Sales</th>\n",
              "      <th>JP_Sales</th>\n",
              "      <th>Other_Sales</th>\n",
              "    </tr>\n",
              "  </thead>\n",
              "  <tbody>\n",
              "    <tr>\n",
              "      <th>9276</th>\n",
              "      <td>Trade &amp; Battle: Card Hero</td>\n",
              "      <td>GB</td>\n",
              "      <td>0.0</td>\n",
              "      <td>Strategy</td>\n",
              "      <td>Nintendo</td>\n",
              "      <td>0.0</td>\n",
              "      <td>0.0</td>\n",
              "      <td>200000.0</td>\n",
              "      <td>0.0</td>\n",
              "    </tr>\n",
              "    <tr>\n",
              "      <th>14666</th>\n",
              "      <td>Strider 2</td>\n",
              "      <td>PS</td>\n",
              "      <td>0.0</td>\n",
              "      <td>Platform</td>\n",
              "      <td>Virgin Interactive</td>\n",
              "      <td>50000.0</td>\n",
              "      <td>30000.0</td>\n",
              "      <td>0.0</td>\n",
              "      <td>10000.0</td>\n",
              "    </tr>\n",
              "    <tr>\n",
              "      <th>16394</th>\n",
              "      <td>Point Blank 3</td>\n",
              "      <td>PS</td>\n",
              "      <td>0.0</td>\n",
              "      <td>Shooter</td>\n",
              "      <td>Namco Bandai Games</td>\n",
              "      <td>10000.0</td>\n",
              "      <td>10000.0</td>\n",
              "      <td>0.0</td>\n",
              "      <td>0.0</td>\n",
              "    </tr>\n",
              "    <tr>\n",
              "      <th>2249</th>\n",
              "      <td>SplashDown</td>\n",
              "      <td>PS2</td>\n",
              "      <td>1.0</td>\n",
              "      <td>Racing</td>\n",
              "      <td>Atari</td>\n",
              "      <td>340000.0</td>\n",
              "      <td>270000.0</td>\n",
              "      <td>0.0</td>\n",
              "      <td>90000.0</td>\n",
              "    </tr>\n",
              "    <tr>\n",
              "      <th>8681</th>\n",
              "      <td>NCAA Football 2002</td>\n",
              "      <td>PS2</td>\n",
              "      <td>1.0</td>\n",
              "      <td>Sports</td>\n",
              "      <td>Electronic Arts</td>\n",
              "      <td>770000.0</td>\n",
              "      <td>600000.0</td>\n",
              "      <td>0.0</td>\n",
              "      <td>200000.0</td>\n",
              "    </tr>\n",
              "    <tr>\n",
              "      <th>...</th>\n",
              "      <td>...</td>\n",
              "      <td>...</td>\n",
              "      <td>...</td>\n",
              "      <td>...</td>\n",
              "      <td>...</td>\n",
              "      <td>...</td>\n",
              "      <td>...</td>\n",
              "      <td>...</td>\n",
              "      <td>...</td>\n",
              "    </tr>\n",
              "    <tr>\n",
              "      <th>10315</th>\n",
              "      <td>AeroFighters Assault</td>\n",
              "      <td>N64</td>\n",
              "      <td>97.0</td>\n",
              "      <td>Action</td>\n",
              "      <td>Video System</td>\n",
              "      <td>150000.0</td>\n",
              "      <td>40000.0</td>\n",
              "      <td>0.0</td>\n",
              "      <td>0.0</td>\n",
              "    </tr>\n",
              "    <tr>\n",
              "      <th>81</th>\n",
              "      <td>Treasures of the Deep</td>\n",
              "      <td>PS</td>\n",
              "      <td>97.0</td>\n",
              "      <td>Action</td>\n",
              "      <td>Namco Bandai Games</td>\n",
              "      <td>100000.0</td>\n",
              "      <td>70000.0</td>\n",
              "      <td>0.0</td>\n",
              "      <td>10000.0</td>\n",
              "    </tr>\n",
              "    <tr>\n",
              "      <th>14572</th>\n",
              "      <td>S.C.A.R.S</td>\n",
              "      <td>PS</td>\n",
              "      <td>98.0</td>\n",
              "      <td>Racing</td>\n",
              "      <td>Ubisoft</td>\n",
              "      <td>50000.0</td>\n",
              "      <td>30000.0</td>\n",
              "      <td>0.0</td>\n",
              "      <td>10000.0</td>\n",
              "    </tr>\n",
              "    <tr>\n",
              "      <th>3492</th>\n",
              "      <td>Glover</td>\n",
              "      <td>N64</td>\n",
              "      <td>98.0</td>\n",
              "      <td>Platform</td>\n",
              "      <td>Hasbro Interactive</td>\n",
              "      <td>720000.0</td>\n",
              "      <td>170000.0</td>\n",
              "      <td>0.0</td>\n",
              "      <td>10000.0</td>\n",
              "    </tr>\n",
              "    <tr>\n",
              "      <th>16482</th>\n",
              "      <td>Super Robot Taisen F Kanketsuhen</td>\n",
              "      <td>SAT</td>\n",
              "      <td>98.0</td>\n",
              "      <td>Strategy</td>\n",
              "      <td>Banpresto</td>\n",
              "      <td>0.0</td>\n",
              "      <td>0.0</td>\n",
              "      <td>550000.0</td>\n",
              "      <td>0.0</td>\n",
              "    </tr>\n",
              "  </tbody>\n",
              "</table>\n",
              "<p>100 rows × 9 columns</p>\n",
              "</div>"
            ],
            "text/plain": [
              "                                   Name Platform  ...  JP_Sales Other_Sales\n",
              "9276          Trade & Battle: Card Hero       GB  ...  200000.0         0.0\n",
              "14666                         Strider 2       PS  ...       0.0     10000.0\n",
              "16394                     Point Blank 3       PS  ...       0.0         0.0\n",
              "2249                         SplashDown      PS2  ...       0.0     90000.0\n",
              "8681                 NCAA Football 2002      PS2  ...       0.0    200000.0\n",
              "...                                 ...      ...  ...       ...         ...\n",
              "10315              AeroFighters Assault      N64  ...       0.0         0.0\n",
              "81                Treasures of the Deep       PS  ...       0.0     10000.0\n",
              "14572                         S.C.A.R.S       PS  ...       0.0     10000.0\n",
              "3492                             Glover      N64  ...       0.0     10000.0\n",
              "16482  Super Robot Taisen F Kanketsuhen      SAT  ...  550000.0         0.0\n",
              "\n",
              "[100 rows x 9 columns]"
            ]
          },
          "metadata": {
            "tags": []
          },
          "execution_count": 17
        }
      ]
    },
    {
      "cell_type": "code",
      "metadata": {
        "id": "h54S1lQgJ1sY",
        "colab": {
          "base_uri": "https://localhost:8080/",
          "height": 78
        },
        "outputId": "c35ff943-c8cb-40da-9890-e108b2895d3b"
      },
      "source": [
        "df_year.loc[[9276]] #게임명 Trade & Battle: Card Hero 출시연도: 2000(위키피디아 참고), 따라서 Year: 0은 2000년으로 추론, 현재 2021년이므로 0 ~ 21년 이하 데이터는 20xx년d으로 정리."
      ],
      "execution_count": 18,
      "outputs": [
        {
          "output_type": "execute_result",
          "data": {
            "text/html": [
              "<div>\n",
              "<style scoped>\n",
              "    .dataframe tbody tr th:only-of-type {\n",
              "        vertical-align: middle;\n",
              "    }\n",
              "\n",
              "    .dataframe tbody tr th {\n",
              "        vertical-align: top;\n",
              "    }\n",
              "\n",
              "    .dataframe thead th {\n",
              "        text-align: right;\n",
              "    }\n",
              "</style>\n",
              "<table border=\"1\" class=\"dataframe\">\n",
              "  <thead>\n",
              "    <tr style=\"text-align: right;\">\n",
              "      <th></th>\n",
              "      <th>Name</th>\n",
              "      <th>Platform</th>\n",
              "      <th>Year</th>\n",
              "      <th>Genre</th>\n",
              "      <th>Publisher</th>\n",
              "      <th>NA_Sales</th>\n",
              "      <th>EU_Sales</th>\n",
              "      <th>JP_Sales</th>\n",
              "      <th>Other_Sales</th>\n",
              "    </tr>\n",
              "  </thead>\n",
              "  <tbody>\n",
              "    <tr>\n",
              "      <th>9276</th>\n",
              "      <td>Trade &amp; Battle: Card Hero</td>\n",
              "      <td>GB</td>\n",
              "      <td>0.0</td>\n",
              "      <td>Strategy</td>\n",
              "      <td>Nintendo</td>\n",
              "      <td>0.0</td>\n",
              "      <td>0.0</td>\n",
              "      <td>200000.0</td>\n",
              "      <td>0.0</td>\n",
              "    </tr>\n",
              "  </tbody>\n",
              "</table>\n",
              "</div>"
            ],
            "text/plain": [
              "                           Name Platform  Year  ... EU_Sales  JP_Sales  Other_Sales\n",
              "9276  Trade & Battle: Card Hero       GB   0.0  ...      0.0  200000.0          0.0\n",
              "\n",
              "[1 rows x 9 columns]"
            ]
          },
          "metadata": {
            "tags": []
          },
          "execution_count": 18
        }
      ]
    },
    {
      "cell_type": "code",
      "metadata": {
        "id": "IkNgEkaPKYGE",
        "colab": {
          "base_uri": "https://localhost:8080/",
          "height": 78
        },
        "outputId": "f4b6647d-e383-478a-ddfa-dd9a2604ec12"
      },
      "source": [
        "df_year.loc[[10315]] #게임명 AeroFighters Assault 출시연도: 1997(위키피디아 참고), 따라서 Year: 97은 1997년으로 정리. 22 ~99까지의 데이터는 19xx년으로 정리하고자함."
      ],
      "execution_count": 19,
      "outputs": [
        {
          "output_type": "execute_result",
          "data": {
            "text/html": [
              "<div>\n",
              "<style scoped>\n",
              "    .dataframe tbody tr th:only-of-type {\n",
              "        vertical-align: middle;\n",
              "    }\n",
              "\n",
              "    .dataframe tbody tr th {\n",
              "        vertical-align: top;\n",
              "    }\n",
              "\n",
              "    .dataframe thead th {\n",
              "        text-align: right;\n",
              "    }\n",
              "</style>\n",
              "<table border=\"1\" class=\"dataframe\">\n",
              "  <thead>\n",
              "    <tr style=\"text-align: right;\">\n",
              "      <th></th>\n",
              "      <th>Name</th>\n",
              "      <th>Platform</th>\n",
              "      <th>Year</th>\n",
              "      <th>Genre</th>\n",
              "      <th>Publisher</th>\n",
              "      <th>NA_Sales</th>\n",
              "      <th>EU_Sales</th>\n",
              "      <th>JP_Sales</th>\n",
              "      <th>Other_Sales</th>\n",
              "    </tr>\n",
              "  </thead>\n",
              "  <tbody>\n",
              "    <tr>\n",
              "      <th>10315</th>\n",
              "      <td>AeroFighters Assault</td>\n",
              "      <td>N64</td>\n",
              "      <td>97.0</td>\n",
              "      <td>Action</td>\n",
              "      <td>Video System</td>\n",
              "      <td>150000.0</td>\n",
              "      <td>40000.0</td>\n",
              "      <td>0.0</td>\n",
              "      <td>0.0</td>\n",
              "    </tr>\n",
              "  </tbody>\n",
              "</table>\n",
              "</div>"
            ],
            "text/plain": [
              "                       Name Platform  Year  ... EU_Sales JP_Sales  Other_Sales\n",
              "10315  AeroFighters Assault      N64  97.0  ...  40000.0      0.0          0.0\n",
              "\n",
              "[1 rows x 9 columns]"
            ]
          },
          "metadata": {
            "tags": []
          },
          "execution_count": 19
        }
      ]
    },
    {
      "cell_type": "code",
      "metadata": {
        "colab": {
          "base_uri": "https://localhost:8080/",
          "height": 108
        },
        "id": "1Tz6GXt08WLX",
        "outputId": "32ad29d6-7cc2-47d4-eef4-53cdd92ca828"
      },
      "source": [
        "df_year.loc[[9276,10315]]"
      ],
      "execution_count": 20,
      "outputs": [
        {
          "output_type": "execute_result",
          "data": {
            "text/html": [
              "<div>\n",
              "<style scoped>\n",
              "    .dataframe tbody tr th:only-of-type {\n",
              "        vertical-align: middle;\n",
              "    }\n",
              "\n",
              "    .dataframe tbody tr th {\n",
              "        vertical-align: top;\n",
              "    }\n",
              "\n",
              "    .dataframe thead th {\n",
              "        text-align: right;\n",
              "    }\n",
              "</style>\n",
              "<table border=\"1\" class=\"dataframe\">\n",
              "  <thead>\n",
              "    <tr style=\"text-align: right;\">\n",
              "      <th></th>\n",
              "      <th>Name</th>\n",
              "      <th>Platform</th>\n",
              "      <th>Year</th>\n",
              "      <th>Genre</th>\n",
              "      <th>Publisher</th>\n",
              "      <th>NA_Sales</th>\n",
              "      <th>EU_Sales</th>\n",
              "      <th>JP_Sales</th>\n",
              "      <th>Other_Sales</th>\n",
              "    </tr>\n",
              "  </thead>\n",
              "  <tbody>\n",
              "    <tr>\n",
              "      <th>9276</th>\n",
              "      <td>Trade &amp; Battle: Card Hero</td>\n",
              "      <td>GB</td>\n",
              "      <td>0.0</td>\n",
              "      <td>Strategy</td>\n",
              "      <td>Nintendo</td>\n",
              "      <td>0.0</td>\n",
              "      <td>0.0</td>\n",
              "      <td>200000.0</td>\n",
              "      <td>0.0</td>\n",
              "    </tr>\n",
              "    <tr>\n",
              "      <th>10315</th>\n",
              "      <td>AeroFighters Assault</td>\n",
              "      <td>N64</td>\n",
              "      <td>97.0</td>\n",
              "      <td>Action</td>\n",
              "      <td>Video System</td>\n",
              "      <td>150000.0</td>\n",
              "      <td>40000.0</td>\n",
              "      <td>0.0</td>\n",
              "      <td>0.0</td>\n",
              "    </tr>\n",
              "  </tbody>\n",
              "</table>\n",
              "</div>"
            ],
            "text/plain": [
              "                            Name Platform  ...  JP_Sales Other_Sales\n",
              "9276   Trade & Battle: Card Hero       GB  ...  200000.0         0.0\n",
              "10315       AeroFighters Assault      N64  ...       0.0         0.0\n",
              "\n",
              "[2 rows x 9 columns]"
            ]
          },
          "metadata": {
            "tags": []
          },
          "execution_count": 20
        }
      ]
    },
    {
      "cell_type": "code",
      "metadata": {
        "id": "NbIjBJM3Kfh-"
      },
      "source": [
        "def year_recalibration (x):\n",
        "  if x >= 100:\n",
        "    return x\n",
        "  elif x < 100:\n",
        "    if x < 21:\n",
        "      x = 2000 + x\n",
        "      return x\n",
        "    else:\n",
        "      x = 1900 + x\n",
        "      return x"
      ],
      "execution_count": 21,
      "outputs": []
    },
    {
      "cell_type": "code",
      "metadata": {
        "id": "6FZakUmGO8ep"
      },
      "source": [
        "games_EDA = games.copy()"
      ],
      "execution_count": 22,
      "outputs": []
    },
    {
      "cell_type": "code",
      "metadata": {
        "id": "I7wq-TAONqLF"
      },
      "source": [
        "games_EDA['Year'] = games_EDA['Year'].apply(year_recalibration)"
      ],
      "execution_count": 23,
      "outputs": []
    },
    {
      "cell_type": "code",
      "metadata": {
        "id": "j6M0FM51OKwU",
        "colab": {
          "base_uri": "https://localhost:8080/",
          "height": 108
        },
        "outputId": "0986efbb-ff74-4af0-929b-606d8e9dc27d"
      },
      "source": [
        "games_EDA.loc[[9276,10315]] #변경내역 확인 "
      ],
      "execution_count": 24,
      "outputs": [
        {
          "output_type": "execute_result",
          "data": {
            "text/html": [
              "<div>\n",
              "<style scoped>\n",
              "    .dataframe tbody tr th:only-of-type {\n",
              "        vertical-align: middle;\n",
              "    }\n",
              "\n",
              "    .dataframe tbody tr th {\n",
              "        vertical-align: top;\n",
              "    }\n",
              "\n",
              "    .dataframe thead th {\n",
              "        text-align: right;\n",
              "    }\n",
              "</style>\n",
              "<table border=\"1\" class=\"dataframe\">\n",
              "  <thead>\n",
              "    <tr style=\"text-align: right;\">\n",
              "      <th></th>\n",
              "      <th>Name</th>\n",
              "      <th>Platform</th>\n",
              "      <th>Year</th>\n",
              "      <th>Genre</th>\n",
              "      <th>Publisher</th>\n",
              "      <th>NA_Sales</th>\n",
              "      <th>EU_Sales</th>\n",
              "      <th>JP_Sales</th>\n",
              "      <th>Other_Sales</th>\n",
              "    </tr>\n",
              "  </thead>\n",
              "  <tbody>\n",
              "    <tr>\n",
              "      <th>9276</th>\n",
              "      <td>Trade &amp; Battle: Card Hero</td>\n",
              "      <td>GB</td>\n",
              "      <td>2000.0</td>\n",
              "      <td>Strategy</td>\n",
              "      <td>Nintendo</td>\n",
              "      <td>0.0</td>\n",
              "      <td>0.0</td>\n",
              "      <td>200000.0</td>\n",
              "      <td>0.0</td>\n",
              "    </tr>\n",
              "    <tr>\n",
              "      <th>10315</th>\n",
              "      <td>AeroFighters Assault</td>\n",
              "      <td>N64</td>\n",
              "      <td>1997.0</td>\n",
              "      <td>Action</td>\n",
              "      <td>Video System</td>\n",
              "      <td>150000.0</td>\n",
              "      <td>40000.0</td>\n",
              "      <td>0.0</td>\n",
              "      <td>0.0</td>\n",
              "    </tr>\n",
              "  </tbody>\n",
              "</table>\n",
              "</div>"
            ],
            "text/plain": [
              "                            Name Platform  ...  JP_Sales Other_Sales\n",
              "9276   Trade & Battle: Card Hero       GB  ...  200000.0         0.0\n",
              "10315       AeroFighters Assault      N64  ...       0.0         0.0\n",
              "\n",
              "[2 rows x 9 columns]"
            ]
          },
          "metadata": {
            "tags": []
          },
          "execution_count": 24
        }
      ]
    },
    {
      "cell_type": "code",
      "metadata": {
        "id": "SQT3F4h-Yr-V"
      },
      "source": [
        "year_sales = games_EDA.groupby('Year').NA_Sales.sum()\n",
        "year_sales  = pd.DataFrame(year_sales)"
      ],
      "execution_count": 25,
      "outputs": []
    },
    {
      "cell_type": "code",
      "metadata": {
        "id": "s5YB_fmXaS3M"
      },
      "source": [
        "year_sales['EU_Sales'] = games_EDA.groupby('Year').EU_Sales.sum()\n",
        "year_sales['JP_Sales'] = games_EDA.groupby('Year').JP_Sales.sum()\n",
        "year_sales['Other_Sales'] = games_EDA.groupby('Year').Other_Sales.sum()\n",
        "year_sales = year_sales.reset_index()"
      ],
      "execution_count": 26,
      "outputs": []
    },
    {
      "cell_type": "code",
      "metadata": {
        "colab": {
          "base_uri": "https://localhost:8080/",
          "height": 290
        },
        "id": "s93J9CGxZ3Jd",
        "outputId": "3976a1c3-371a-4474-f769-9cbf216b28c9"
      },
      "source": [
        "year_sales.plot(x = 'Year', cmap = 'Set1');"
      ],
      "execution_count": 90,
      "outputs": [
        {
          "output_type": "display_data",
          "data": {
            "image/png": "[encoded data removed]",
            "text/plain": [
              "<Figure size 432x288 with 1 Axes>"
            ]
          },
          "metadata": {
            "tags": [],
            "needs_background": "light"
          }
        }
      ]
    },
    {
      "cell_type": "code",
      "metadata": {
        "id": "Xk_KOPCQSLct",
        "colab": {
          "base_uri": "https://localhost:8080/",
          "height": 408
        },
        "outputId": "da150d68-3d33-4677-baaa-0e686e1cba9f"
      },
      "source": [
        "tidy_df = games_EDA.melt(id_vars = ['Name', 'Platform', 'Year', 'Genre', 'Publisher'], var_name = 'region', value_name ='sales')\n",
        "tidy_df"
      ],
      "execution_count": 28,
      "outputs": [
        {
          "output_type": "execute_result",
          "data": {
            "text/html": [
              "<div>\n",
              "<style scoped>\n",
              "    .dataframe tbody tr th:only-of-type {\n",
              "        vertical-align: middle;\n",
              "    }\n",
              "\n",
              "    .dataframe tbody tr th {\n",
              "        vertical-align: top;\n",
              "    }\n",
              "\n",
              "    .dataframe thead th {\n",
              "        text-align: right;\n",
              "    }\n",
              "</style>\n",
              "<table border=\"1\" class=\"dataframe\">\n",
              "  <thead>\n",
              "    <tr style=\"text-align: right;\">\n",
              "      <th></th>\n",
              "      <th>Name</th>\n",
              "      <th>Platform</th>\n",
              "      <th>Year</th>\n",
              "      <th>Genre</th>\n",
              "      <th>Publisher</th>\n",
              "      <th>region</th>\n",
              "      <th>sales</th>\n",
              "    </tr>\n",
              "  </thead>\n",
              "  <tbody>\n",
              "    <tr>\n",
              "      <th>0</th>\n",
              "      <td>Candace Kane's Candy Factory</td>\n",
              "      <td>DS</td>\n",
              "      <td>2008.0</td>\n",
              "      <td>Action</td>\n",
              "      <td>Destineer</td>\n",
              "      <td>NA_Sales</td>\n",
              "      <td>40000.0</td>\n",
              "    </tr>\n",
              "    <tr>\n",
              "      <th>1</th>\n",
              "      <td>The Munchables</td>\n",
              "      <td>Wii</td>\n",
              "      <td>2009.0</td>\n",
              "      <td>Action</td>\n",
              "      <td>Namco Bandai Games</td>\n",
              "      <td>NA_Sales</td>\n",
              "      <td>170000.0</td>\n",
              "    </tr>\n",
              "    <tr>\n",
              "      <th>2</th>\n",
              "      <td>Otome wa Oanesama Boku ni Koi Shiteru Portable</td>\n",
              "      <td>PSP</td>\n",
              "      <td>2010.0</td>\n",
              "      <td>Adventure</td>\n",
              "      <td>Alchemist</td>\n",
              "      <td>NA_Sales</td>\n",
              "      <td>0.0</td>\n",
              "    </tr>\n",
              "    <tr>\n",
              "      <th>3</th>\n",
              "      <td>Deal or No Deal: Special Edition</td>\n",
              "      <td>DS</td>\n",
              "      <td>2010.0</td>\n",
              "      <td>Misc</td>\n",
              "      <td>Zoo Games</td>\n",
              "      <td>NA_Sales</td>\n",
              "      <td>40000.0</td>\n",
              "    </tr>\n",
              "    <tr>\n",
              "      <th>4</th>\n",
              "      <td>Ben 10 Ultimate Alien: Cosmic Destruction</td>\n",
              "      <td>PS3</td>\n",
              "      <td>2010.0</td>\n",
              "      <td>Platform</td>\n",
              "      <td>D3Publisher</td>\n",
              "      <td>NA_Sales</td>\n",
              "      <td>120000.0</td>\n",
              "    </tr>\n",
              "    <tr>\n",
              "      <th>...</th>\n",
              "      <td>...</td>\n",
              "      <td>...</td>\n",
              "      <td>...</td>\n",
              "      <td>...</td>\n",
              "      <td>...</td>\n",
              "      <td>...</td>\n",
              "      <td>...</td>\n",
              "    </tr>\n",
              "    <tr>\n",
              "      <th>64959</th>\n",
              "      <td>Ice Age 2: The Meltdown</td>\n",
              "      <td>GC</td>\n",
              "      <td>2006.0</td>\n",
              "      <td>Platform</td>\n",
              "      <td>Vivendi Games</td>\n",
              "      <td>Other_Sales</td>\n",
              "      <td>10000.0</td>\n",
              "    </tr>\n",
              "    <tr>\n",
              "      <th>64960</th>\n",
              "      <td>Rainbow Islands: Revolution</td>\n",
              "      <td>PSP</td>\n",
              "      <td>2005.0</td>\n",
              "      <td>Action</td>\n",
              "      <td>Rising Star Games</td>\n",
              "      <td>Other_Sales</td>\n",
              "      <td>0.0</td>\n",
              "    </tr>\n",
              "    <tr>\n",
              "      <th>64961</th>\n",
              "      <td>NBA 2K16</td>\n",
              "      <td>PS3</td>\n",
              "      <td>2015.0</td>\n",
              "      <td>Sports</td>\n",
              "      <td>Take-Two Interactive</td>\n",
              "      <td>Other_Sales</td>\n",
              "      <td>130000.0</td>\n",
              "    </tr>\n",
              "    <tr>\n",
              "      <th>64962</th>\n",
              "      <td>Toukiden: The Age of Demons</td>\n",
              "      <td>PSV</td>\n",
              "      <td>2013.0</td>\n",
              "      <td>Action</td>\n",
              "      <td>Tecmo Koei</td>\n",
              "      <td>Other_Sales</td>\n",
              "      <td>30000.0</td>\n",
              "    </tr>\n",
              "    <tr>\n",
              "      <th>64963</th>\n",
              "      <td>The King of Fighters '95</td>\n",
              "      <td>PS</td>\n",
              "      <td>1996.0</td>\n",
              "      <td>Fighting</td>\n",
              "      <td>Sony Computer Entertainment</td>\n",
              "      <td>Other_Sales</td>\n",
              "      <td>10000.0</td>\n",
              "    </tr>\n",
              "  </tbody>\n",
              "</table>\n",
              "<p>64964 rows × 7 columns</p>\n",
              "</div>"
            ],
            "text/plain": [
              "                                                 Name  ...     sales\n",
              "0                        Candace Kane's Candy Factory  ...   40000.0\n",
              "1                                      The Munchables  ...  170000.0\n",
              "2      Otome wa Oanesama Boku ni Koi Shiteru Portable  ...       0.0\n",
              "3                    Deal or No Deal: Special Edition  ...   40000.0\n",
              "4           Ben 10 Ultimate Alien: Cosmic Destruction  ...  120000.0\n",
              "...                                               ...  ...       ...\n",
              "64959                         Ice Age 2: The Meltdown  ...   10000.0\n",
              "64960                     Rainbow Islands: Revolution  ...       0.0\n",
              "64961                                        NBA 2K16  ...  130000.0\n",
              "64962                     Toukiden: The Age of Demons  ...   30000.0\n",
              "64963                        The King of Fighters '95  ...   10000.0\n",
              "\n",
              "[64964 rows x 7 columns]"
            ]
          },
          "metadata": {
            "tags": []
          },
          "execution_count": 28
        }
      ]
    },
    {
      "cell_type": "code",
      "metadata": {
        "id": "rcP4MIn8STrl",
        "colab": {
          "base_uri": "https://localhost:8080/",
          "height": 290
        },
        "outputId": "91189401-352d-4c22-a906-4c23dedaa682"
      },
      "source": [
        "plt.figure(figsize = (15,4))\n",
        "sns.lineplot( x= 'Year', y ='sales', hue = 'region', data = tidy_df);"
      ],
      "execution_count": 29,
      "outputs": [
        {
          "output_type": "display_data",
          "data": {
            "image/png": "[encoded data removed]",
            "text/plain": [
              "<Figure size 1080x288 with 1 Axes>"
            ]
          },
          "metadata": {
            "tags": [],
            "needs_background": "light"
          }
        }
      ]
    },
    {
      "cell_type": "markdown",
      "metadata": {
        "id": "DUEIQDtwYIIP"
      },
      "source": [
        "#공통과제\n",
        "\n",
        "1. 지역에 따라서 선호하는 게임 장르가 다를까\n",
        "2. 연도별 게임의 트렌드가 있을까\n",
        "3. 출고량이 높은 게임에 대한 분석 및 시각화 프로세스"
      ]
    },
    {
      "cell_type": "markdown",
      "metadata": {
        "id": "5olw5H9FYRRT"
      },
      "source": [
        "## 2 -1. 지역에 따라 선호하는 게임 장르가 다를까 ? - 카이제곱 검정\n"
      ]
    },
    {
      "cell_type": "code",
      "metadata": {
        "id": "4xnjUMnVbcUR",
        "colab": {
          "base_uri": "https://localhost:8080/",
          "height": 290
        },
        "outputId": "9e9aa2bd-cded-4057-c467-64fefb2f415d"
      },
      "source": [
        "games_EDA.describe()"
      ],
      "execution_count": 30,
      "outputs": [
        {
          "output_type": "execute_result",
          "data": {
            "text/html": [
              "<div>\n",
              "<style scoped>\n",
              "    .dataframe tbody tr th:only-of-type {\n",
              "        vertical-align: middle;\n",
              "    }\n",
              "\n",
              "    .dataframe tbody tr th {\n",
              "        vertical-align: top;\n",
              "    }\n",
              "\n",
              "    .dataframe thead th {\n",
              "        text-align: right;\n",
              "    }\n",
              "</style>\n",
              "<table border=\"1\" class=\"dataframe\">\n",
              "  <thead>\n",
              "    <tr style=\"text-align: right;\">\n",
              "      <th></th>\n",
              "      <th>Year</th>\n",
              "      <th>NA_Sales</th>\n",
              "      <th>EU_Sales</th>\n",
              "      <th>JP_Sales</th>\n",
              "      <th>Other_Sales</th>\n",
              "    </tr>\n",
              "  </thead>\n",
              "  <tbody>\n",
              "    <tr>\n",
              "      <th>count</th>\n",
              "      <td>16241.000000</td>\n",
              "      <td>1.624100e+04</td>\n",
              "      <td>1.624100e+04</td>\n",
              "      <td>1.624100e+04</td>\n",
              "      <td>1.624100e+04</td>\n",
              "    </tr>\n",
              "    <tr>\n",
              "      <th>mean</th>\n",
              "      <td>2006.406748</td>\n",
              "      <td>2.651955e+05</td>\n",
              "      <td>1.473782e+05</td>\n",
              "      <td>7.828274e+04</td>\n",
              "      <td>4.823410e+04</td>\n",
              "    </tr>\n",
              "    <tr>\n",
              "      <th>std</th>\n",
              "      <td>5.832087</td>\n",
              "      <td>8.224307e+05</td>\n",
              "      <td>5.083397e+05</td>\n",
              "      <td>3.092720e+05</td>\n",
              "      <td>1.896780e+05</td>\n",
              "    </tr>\n",
              "    <tr>\n",
              "      <th>min</th>\n",
              "      <td>1980.000000</td>\n",
              "      <td>0.000000e+00</td>\n",
              "      <td>0.000000e+00</td>\n",
              "      <td>0.000000e+00</td>\n",
              "      <td>0.000000e+00</td>\n",
              "    </tr>\n",
              "    <tr>\n",
              "      <th>25%</th>\n",
              "      <td>2003.000000</td>\n",
              "      <td>0.000000e+00</td>\n",
              "      <td>0.000000e+00</td>\n",
              "      <td>0.000000e+00</td>\n",
              "      <td>0.000000e+00</td>\n",
              "    </tr>\n",
              "    <tr>\n",
              "      <th>50%</th>\n",
              "      <td>2007.000000</td>\n",
              "      <td>8.000000e+04</td>\n",
              "      <td>2.000000e+04</td>\n",
              "      <td>0.000000e+00</td>\n",
              "      <td>1.000000e+04</td>\n",
              "    </tr>\n",
              "    <tr>\n",
              "      <th>75%</th>\n",
              "      <td>2010.000000</td>\n",
              "      <td>2.400000e+05</td>\n",
              "      <td>1.100000e+05</td>\n",
              "      <td>4.000000e+04</td>\n",
              "      <td>4.000000e+04</td>\n",
              "    </tr>\n",
              "    <tr>\n",
              "      <th>max</th>\n",
              "      <td>2020.000000</td>\n",
              "      <td>4.149000e+07</td>\n",
              "      <td>2.902000e+07</td>\n",
              "      <td>1.022000e+07</td>\n",
              "      <td>1.057000e+07</td>\n",
              "    </tr>\n",
              "  </tbody>\n",
              "</table>\n",
              "</div>"
            ],
            "text/plain": [
              "               Year      NA_Sales      EU_Sales      JP_Sales   Other_Sales\n",
              "count  16241.000000  1.624100e+04  1.624100e+04  1.624100e+04  1.624100e+04\n",
              "mean    2006.406748  2.651955e+05  1.473782e+05  7.828274e+04  4.823410e+04\n",
              "std        5.832087  8.224307e+05  5.083397e+05  3.092720e+05  1.896780e+05\n",
              "min     1980.000000  0.000000e+00  0.000000e+00  0.000000e+00  0.000000e+00\n",
              "25%     2003.000000  0.000000e+00  0.000000e+00  0.000000e+00  0.000000e+00\n",
              "50%     2007.000000  8.000000e+04  2.000000e+04  0.000000e+00  1.000000e+04\n",
              "75%     2010.000000  2.400000e+05  1.100000e+05  4.000000e+04  4.000000e+04\n",
              "max     2020.000000  4.149000e+07  2.902000e+07  1.022000e+07  1.057000e+07"
            ]
          },
          "metadata": {
            "tags": []
          },
          "execution_count": 30
        }
      ]
    },
    {
      "cell_type": "code",
      "metadata": {
        "id": "OS1mBiRnbd6q"
      },
      "source": [
        "# 범주형 데이터인 지역(변수1)과, 범주형 데이터인 게임 장르(변수2)의 연관성(선호도)을 파악하는 것이므로 카이제곱겅정을 통하여 확인한다.\n",
        "# 귀무가설: 지역과 선호 게임장르는 독립적이다 < - > 대립가설: 지역과 게임장르 선호도에 연관성이 있을 것이다 \n",
        "# 데이터 정리 "
      ],
      "execution_count": 31,
      "outputs": []
    },
    {
      "cell_type": "code",
      "metadata": {
        "id": "9o6iecjneblp",
        "colab": {
          "base_uri": "https://localhost:8080/",
          "height": 200
        },
        "outputId": "a59c9395-caef-4474-a9ff-6a36e9ef1695"
      },
      "source": [
        "games_EDA.head()"
      ],
      "execution_count": 32,
      "outputs": [
        {
          "output_type": "execute_result",
          "data": {
            "text/html": [
              "<div>\n",
              "<style scoped>\n",
              "    .dataframe tbody tr th:only-of-type {\n",
              "        vertical-align: middle;\n",
              "    }\n",
              "\n",
              "    .dataframe tbody tr th {\n",
              "        vertical-align: top;\n",
              "    }\n",
              "\n",
              "    .dataframe thead th {\n",
              "        text-align: right;\n",
              "    }\n",
              "</style>\n",
              "<table border=\"1\" class=\"dataframe\">\n",
              "  <thead>\n",
              "    <tr style=\"text-align: right;\">\n",
              "      <th></th>\n",
              "      <th>Name</th>\n",
              "      <th>Platform</th>\n",
              "      <th>Year</th>\n",
              "      <th>Genre</th>\n",
              "      <th>Publisher</th>\n",
              "      <th>NA_Sales</th>\n",
              "      <th>EU_Sales</th>\n",
              "      <th>JP_Sales</th>\n",
              "      <th>Other_Sales</th>\n",
              "    </tr>\n",
              "  </thead>\n",
              "  <tbody>\n",
              "    <tr>\n",
              "      <th>0</th>\n",
              "      <td>Candace Kane's Candy Factory</td>\n",
              "      <td>DS</td>\n",
              "      <td>2008.0</td>\n",
              "      <td>Action</td>\n",
              "      <td>Destineer</td>\n",
              "      <td>40000.0</td>\n",
              "      <td>0.0</td>\n",
              "      <td>0.0</td>\n",
              "      <td>0.0</td>\n",
              "    </tr>\n",
              "    <tr>\n",
              "      <th>1</th>\n",
              "      <td>The Munchables</td>\n",
              "      <td>Wii</td>\n",
              "      <td>2009.0</td>\n",
              "      <td>Action</td>\n",
              "      <td>Namco Bandai Games</td>\n",
              "      <td>170000.0</td>\n",
              "      <td>0.0</td>\n",
              "      <td>0.0</td>\n",
              "      <td>10000.0</td>\n",
              "    </tr>\n",
              "    <tr>\n",
              "      <th>2</th>\n",
              "      <td>Otome wa Oanesama Boku ni Koi Shiteru Portable</td>\n",
              "      <td>PSP</td>\n",
              "      <td>2010.0</td>\n",
              "      <td>Adventure</td>\n",
              "      <td>Alchemist</td>\n",
              "      <td>0.0</td>\n",
              "      <td>0.0</td>\n",
              "      <td>20000.0</td>\n",
              "      <td>0.0</td>\n",
              "    </tr>\n",
              "    <tr>\n",
              "      <th>3</th>\n",
              "      <td>Deal or No Deal: Special Edition</td>\n",
              "      <td>DS</td>\n",
              "      <td>2010.0</td>\n",
              "      <td>Misc</td>\n",
              "      <td>Zoo Games</td>\n",
              "      <td>40000.0</td>\n",
              "      <td>0.0</td>\n",
              "      <td>0.0</td>\n",
              "      <td>0.0</td>\n",
              "    </tr>\n",
              "    <tr>\n",
              "      <th>4</th>\n",
              "      <td>Ben 10 Ultimate Alien: Cosmic Destruction</td>\n",
              "      <td>PS3</td>\n",
              "      <td>2010.0</td>\n",
              "      <td>Platform</td>\n",
              "      <td>D3Publisher</td>\n",
              "      <td>120000.0</td>\n",
              "      <td>90000.0</td>\n",
              "      <td>0.0</td>\n",
              "      <td>40000.0</td>\n",
              "    </tr>\n",
              "  </tbody>\n",
              "</table>\n",
              "</div>"
            ],
            "text/plain": [
              "                                             Name  ... Other_Sales\n",
              "0                    Candace Kane's Candy Factory  ...         0.0\n",
              "1                                  The Munchables  ...     10000.0\n",
              "2  Otome wa Oanesama Boku ni Koi Shiteru Portable  ...         0.0\n",
              "3                Deal or No Deal: Special Edition  ...         0.0\n",
              "4       Ben 10 Ultimate Alien: Cosmic Destruction  ...     40000.0\n",
              "\n",
              "[5 rows x 9 columns]"
            ]
          },
          "metadata": {
            "tags": []
          },
          "execution_count": 32
        }
      ]
    },
    {
      "cell_type": "code",
      "metadata": {
        "id": "lGqPxEfDedsk",
        "colab": {
          "base_uri": "https://localhost:8080/",
          "height": 440
        },
        "outputId": "a485fe59-0724-4c7d-d7a0-1e626ad5c559"
      },
      "source": [
        "assignment1 = games_EDA[['Genre', 'NA_Sales', 'EU_Sales', 'JP_Sales', 'Other_Sales']]\n",
        "assignment1.set_index('Genre')\n"
      ],
      "execution_count": 33,
      "outputs": [
        {
          "output_type": "execute_result",
          "data": {
            "text/html": [
              "<div>\n",
              "<style scoped>\n",
              "    .dataframe tbody tr th:only-of-type {\n",
              "        vertical-align: middle;\n",
              "    }\n",
              "\n",
              "    .dataframe tbody tr th {\n",
              "        vertical-align: top;\n",
              "    }\n",
              "\n",
              "    .dataframe thead th {\n",
              "        text-align: right;\n",
              "    }\n",
              "</style>\n",
              "<table border=\"1\" class=\"dataframe\">\n",
              "  <thead>\n",
              "    <tr style=\"text-align: right;\">\n",
              "      <th></th>\n",
              "      <th>NA_Sales</th>\n",
              "      <th>EU_Sales</th>\n",
              "      <th>JP_Sales</th>\n",
              "      <th>Other_Sales</th>\n",
              "    </tr>\n",
              "    <tr>\n",
              "      <th>Genre</th>\n",
              "      <th></th>\n",
              "      <th></th>\n",
              "      <th></th>\n",
              "      <th></th>\n",
              "    </tr>\n",
              "  </thead>\n",
              "  <tbody>\n",
              "    <tr>\n",
              "      <th>Action</th>\n",
              "      <td>40000.0</td>\n",
              "      <td>0.0</td>\n",
              "      <td>0.0</td>\n",
              "      <td>0.0</td>\n",
              "    </tr>\n",
              "    <tr>\n",
              "      <th>Action</th>\n",
              "      <td>170000.0</td>\n",
              "      <td>0.0</td>\n",
              "      <td>0.0</td>\n",
              "      <td>10000.0</td>\n",
              "    </tr>\n",
              "    <tr>\n",
              "      <th>Adventure</th>\n",
              "      <td>0.0</td>\n",
              "      <td>0.0</td>\n",
              "      <td>20000.0</td>\n",
              "      <td>0.0</td>\n",
              "    </tr>\n",
              "    <tr>\n",
              "      <th>Misc</th>\n",
              "      <td>40000.0</td>\n",
              "      <td>0.0</td>\n",
              "      <td>0.0</td>\n",
              "      <td>0.0</td>\n",
              "    </tr>\n",
              "    <tr>\n",
              "      <th>Platform</th>\n",
              "      <td>120000.0</td>\n",
              "      <td>90000.0</td>\n",
              "      <td>0.0</td>\n",
              "      <td>40000.0</td>\n",
              "    </tr>\n",
              "    <tr>\n",
              "      <th>...</th>\n",
              "      <td>...</td>\n",
              "      <td>...</td>\n",
              "      <td>...</td>\n",
              "      <td>...</td>\n",
              "    </tr>\n",
              "    <tr>\n",
              "      <th>Platform</th>\n",
              "      <td>150000.0</td>\n",
              "      <td>40000.0</td>\n",
              "      <td>0.0</td>\n",
              "      <td>10000.0</td>\n",
              "    </tr>\n",
              "    <tr>\n",
              "      <th>Action</th>\n",
              "      <td>10000.0</td>\n",
              "      <td>0.0</td>\n",
              "      <td>0.0</td>\n",
              "      <td>0.0</td>\n",
              "    </tr>\n",
              "    <tr>\n",
              "      <th>Sports</th>\n",
              "      <td>440000.0</td>\n",
              "      <td>190000.0</td>\n",
              "      <td>30000.0</td>\n",
              "      <td>130000.0</td>\n",
              "    </tr>\n",
              "    <tr>\n",
              "      <th>Action</th>\n",
              "      <td>50000.0</td>\n",
              "      <td>50000.0</td>\n",
              "      <td>250000.0</td>\n",
              "      <td>30000.0</td>\n",
              "    </tr>\n",
              "    <tr>\n",
              "      <th>Fighting</th>\n",
              "      <td>0.0</td>\n",
              "      <td>0.0</td>\n",
              "      <td>160000.0</td>\n",
              "      <td>10000.0</td>\n",
              "    </tr>\n",
              "  </tbody>\n",
              "</table>\n",
              "<p>16241 rows × 4 columns</p>\n",
              "</div>"
            ],
            "text/plain": [
              "           NA_Sales  EU_Sales  JP_Sales  Other_Sales\n",
              "Genre                                               \n",
              "Action      40000.0       0.0       0.0          0.0\n",
              "Action     170000.0       0.0       0.0      10000.0\n",
              "Adventure       0.0       0.0   20000.0          0.0\n",
              "Misc        40000.0       0.0       0.0          0.0\n",
              "Platform   120000.0   90000.0       0.0      40000.0\n",
              "...             ...       ...       ...          ...\n",
              "Platform   150000.0   40000.0       0.0      10000.0\n",
              "Action      10000.0       0.0       0.0          0.0\n",
              "Sports     440000.0  190000.0   30000.0     130000.0\n",
              "Action      50000.0   50000.0  250000.0      30000.0\n",
              "Fighting        0.0       0.0  160000.0      10000.0\n",
              "\n",
              "[16241 rows x 4 columns]"
            ]
          },
          "metadata": {
            "tags": []
          },
          "execution_count": 33
        }
      ]
    },
    {
      "cell_type": "code",
      "metadata": {
        "id": "Uh2rEtMTe6JI",
        "colab": {
          "base_uri": "https://localhost:8080/",
          "height": 441
        },
        "outputId": "2c2d3ea3-6000-48e9-a0f2-f8c18a5f5134"
      },
      "source": [
        "assignment1 = assignment1.groupby('Genre').sum()\n",
        "assignment1"
      ],
      "execution_count": 34,
      "outputs": [
        {
          "output_type": "execute_result",
          "data": {
            "text/html": [
              "<div>\n",
              "<style scoped>\n",
              "    .dataframe tbody tr th:only-of-type {\n",
              "        vertical-align: middle;\n",
              "    }\n",
              "\n",
              "    .dataframe tbody tr th {\n",
              "        vertical-align: top;\n",
              "    }\n",
              "\n",
              "    .dataframe thead th {\n",
              "        text-align: right;\n",
              "    }\n",
              "</style>\n",
              "<table border=\"1\" class=\"dataframe\">\n",
              "  <thead>\n",
              "    <tr style=\"text-align: right;\">\n",
              "      <th></th>\n",
              "      <th>NA_Sales</th>\n",
              "      <th>EU_Sales</th>\n",
              "      <th>JP_Sales</th>\n",
              "      <th>Other_Sales</th>\n",
              "    </tr>\n",
              "    <tr>\n",
              "      <th>Genre</th>\n",
              "      <th></th>\n",
              "      <th></th>\n",
              "      <th></th>\n",
              "      <th></th>\n",
              "    </tr>\n",
              "  </thead>\n",
              "  <tbody>\n",
              "    <tr>\n",
              "      <th>Action</th>\n",
              "      <td>858750000.0</td>\n",
              "      <td>513640000.0</td>\n",
              "      <td>156600000.0</td>\n",
              "      <td>183990000.0</td>\n",
              "    </tr>\n",
              "    <tr>\n",
              "      <th>Adventure</th>\n",
              "      <td>101790000.0</td>\n",
              "      <td>63660000.0</td>\n",
              "      <td>51870000.0</td>\n",
              "      <td>16700000.0</td>\n",
              "    </tr>\n",
              "    <tr>\n",
              "      <th>Fighting</th>\n",
              "      <td>220350000.0</td>\n",
              "      <td>99900000.0</td>\n",
              "      <td>87140000.0</td>\n",
              "      <td>36150000.0</td>\n",
              "    </tr>\n",
              "    <tr>\n",
              "      <th>Misc</th>\n",
              "      <td>394730000.0</td>\n",
              "      <td>208150000.0</td>\n",
              "      <td>104180000.0</td>\n",
              "      <td>72640000.0</td>\n",
              "    </tr>\n",
              "    <tr>\n",
              "      <th>Platform</th>\n",
              "      <td>445380000.0</td>\n",
              "      <td>200630000.0</td>\n",
              "      <td>130530000.0</td>\n",
              "      <td>51450000.0</td>\n",
              "    </tr>\n",
              "    <tr>\n",
              "      <th>Puzzle</th>\n",
              "      <td>121580000.0</td>\n",
              "      <td>50470000.0</td>\n",
              "      <td>56240000.0</td>\n",
              "      <td>12440000.0</td>\n",
              "    </tr>\n",
              "    <tr>\n",
              "      <th>Racing</th>\n",
              "      <td>354700000.0</td>\n",
              "      <td>235020000.0</td>\n",
              "      <td>56320000.0</td>\n",
              "      <td>76510000.0</td>\n",
              "    </tr>\n",
              "    <tr>\n",
              "      <th>Role-Playing</th>\n",
              "      <td>318760000.0</td>\n",
              "      <td>183090000.0</td>\n",
              "      <td>342930000.0</td>\n",
              "      <td>56730000.0</td>\n",
              "    </tr>\n",
              "    <tr>\n",
              "      <th>Shooter</th>\n",
              "      <td>574480000.0</td>\n",
              "      <td>310230000.0</td>\n",
              "      <td>38180000.0</td>\n",
              "      <td>101860000.0</td>\n",
              "    </tr>\n",
              "    <tr>\n",
              "      <th>Simulation</th>\n",
              "      <td>181430000.0</td>\n",
              "      <td>112990000.0</td>\n",
              "      <td>63540000.0</td>\n",
              "      <td>31320000.0</td>\n",
              "    </tr>\n",
              "    <tr>\n",
              "      <th>Sports</th>\n",
              "      <td>667260000.0</td>\n",
              "      <td>370970000.0</td>\n",
              "      <td>134760000.0</td>\n",
              "      <td>132350000.0</td>\n",
              "    </tr>\n",
              "    <tr>\n",
              "      <th>Strategy</th>\n",
              "      <td>67830000.0</td>\n",
              "      <td>44820000.0</td>\n",
              "      <td>49100000.0</td>\n",
              "      <td>11230000.0</td>\n",
              "    </tr>\n",
              "  </tbody>\n",
              "</table>\n",
              "</div>"
            ],
            "text/plain": [
              "                 NA_Sales     EU_Sales     JP_Sales  Other_Sales\n",
              "Genre                                                           \n",
              "Action        858750000.0  513640000.0  156600000.0  183990000.0\n",
              "Adventure     101790000.0   63660000.0   51870000.0   16700000.0\n",
              "Fighting      220350000.0   99900000.0   87140000.0   36150000.0\n",
              "Misc          394730000.0  208150000.0  104180000.0   72640000.0\n",
              "Platform      445380000.0  200630000.0  130530000.0   51450000.0\n",
              "Puzzle        121580000.0   50470000.0   56240000.0   12440000.0\n",
              "Racing        354700000.0  235020000.0   56320000.0   76510000.0\n",
              "Role-Playing  318760000.0  183090000.0  342930000.0   56730000.0\n",
              "Shooter       574480000.0  310230000.0   38180000.0  101860000.0\n",
              "Simulation    181430000.0  112990000.0   63540000.0   31320000.0\n",
              "Sports        667260000.0  370970000.0  134760000.0  132350000.0\n",
              "Strategy       67830000.0   44820000.0   49100000.0   11230000.0"
            ]
          },
          "metadata": {
            "tags": []
          },
          "execution_count": 34
        }
      ]
    },
    {
      "cell_type": "code",
      "metadata": {
        "id": "6IsPkKMRgd_W",
        "colab": {
          "base_uri": "https://localhost:8080/"
        },
        "outputId": "a4af24d9-e168-4351-e156-fba7caf61d8d"
      },
      "source": [
        "from scipy.stats import chi2_contingency\n",
        "\n",
        "chi2_contingency(assignment1)\n",
        "\n",
        "#1. p-value가 0.05 이하이므로 귀무가설 기각, 대안가설 채택 : 지역과 게임장르는 연관성이 있다."
      ],
      "execution_count": 35,
      "outputs": [
        {
          "output_type": "execute_result",
          "data": {
            "text/plain": [
              "(684336340.5169278,\n",
              " 0.0,\n",
              " 33,\n",
              " array([[8.42668371e+08, 4.68299745e+08, 2.48746271e+08, 1.53265612e+08],\n",
              "        [1.15121748e+08, 6.39771079e+07, 3.39826515e+07, 2.09384923e+07],\n",
              "        [2.18191181e+08, 1.21256330e+08, 6.44075945e+07, 3.96848939e+07],\n",
              "        [3.83558786e+08, 2.13156786e+08, 1.13222261e+08, 6.97621676e+07],\n",
              "        [4.07314145e+08, 2.26358455e+08, 1.20234577e+08, 7.40828230e+07],\n",
              "        [1.18422607e+08, 6.58115084e+07, 3.49570281e+07, 2.15388567e+07],\n",
              "        [3.55444916e+08, 1.97532943e+08, 1.04923361e+08, 6.46487805e+07],\n",
              "        [4.43480930e+08, 2.46457579e+08, 1.30910607e+08, 8.06608845e+07],\n",
              "        [5.04106536e+08, 2.80149309e+08, 1.48806607e+08, 9.16875480e+07],\n",
              "        [1.91498992e+08, 1.06422565e+08, 5.65283591e+07, 3.48300841e+07],\n",
              "        [6.42137522e+08, 3.56857867e+08, 1.89551809e+08, 1.16792802e+08],\n",
              "        [8.50942655e+07, 4.72898048e+07, 2.51188747e+07, 1.54770550e+07]]))"
            ]
          },
          "metadata": {
            "tags": []
          },
          "execution_count": 35
        }
      ]
    },
    {
      "cell_type": "code",
      "metadata": {
        "id": "VFB6mQCEjr_V",
        "colab": {
          "base_uri": "https://localhost:8080/",
          "height": 440
        },
        "outputId": "d4d5acdd-15c2-4fcf-9971-0aaba4001817"
      },
      "source": [
        "plt.figure(figsize = (15,7))\n",
        "sns.heatmap(assignment1, cmap='Blues', annot = True, fmt = '.0f');\n",
        "#2 - 하기와 같이 북아메리카, 유럽, 일본 및 타 세일즈 지역별 선호하는 게임 장르를 확인할 수 있다"
      ],
      "execution_count": 36,
      "outputs": [
        {
          "output_type": "display_data",
          "data": {
            "image/png": "[encoded data removed]",
            "text/plain": [
              "<Figure size 1080x504 with 2 Axes>"
            ]
          },
          "metadata": {
            "tags": [],
            "needs_background": "light"
          }
        }
      ]
    },
    {
      "cell_type": "markdown",
      "metadata": {
        "id": "znpsMKsUnAYK"
      },
      "source": [
        "## 2 -2. 연도별 게임의 트렌드가 있을까 ? - 시각화와 카이제곱 검정\n",
        "\n",
        "데이터 항목 중 게임 트렌드를 점치는 항목으로 추측되는 \n",
        "게임 장르(Genre), 플랫폼(Platform)의 변화를 Tracing 해보자"
      ]
    },
    {
      "cell_type": "code",
      "metadata": {
        "id": "Fjm8WwKJkU-d",
        "colab": {
          "base_uri": "https://localhost:8080/",
          "height": 290
        },
        "outputId": "f3bacd74-7cab-41da-a187-bf37fdf517c2"
      },
      "source": [
        "games_EDA.describe()"
      ],
      "execution_count": 37,
      "outputs": [
        {
          "output_type": "execute_result",
          "data": {
            "text/html": [
              "<div>\n",
              "<style scoped>\n",
              "    .dataframe tbody tr th:only-of-type {\n",
              "        vertical-align: middle;\n",
              "    }\n",
              "\n",
              "    .dataframe tbody tr th {\n",
              "        vertical-align: top;\n",
              "    }\n",
              "\n",
              "    .dataframe thead th {\n",
              "        text-align: right;\n",
              "    }\n",
              "</style>\n",
              "<table border=\"1\" class=\"dataframe\">\n",
              "  <thead>\n",
              "    <tr style=\"text-align: right;\">\n",
              "      <th></th>\n",
              "      <th>Year</th>\n",
              "      <th>NA_Sales</th>\n",
              "      <th>EU_Sales</th>\n",
              "      <th>JP_Sales</th>\n",
              "      <th>Other_Sales</th>\n",
              "    </tr>\n",
              "  </thead>\n",
              "  <tbody>\n",
              "    <tr>\n",
              "      <th>count</th>\n",
              "      <td>16241.000000</td>\n",
              "      <td>1.624100e+04</td>\n",
              "      <td>1.624100e+04</td>\n",
              "      <td>1.624100e+04</td>\n",
              "      <td>1.624100e+04</td>\n",
              "    </tr>\n",
              "    <tr>\n",
              "      <th>mean</th>\n",
              "      <td>2006.406748</td>\n",
              "      <td>2.651955e+05</td>\n",
              "      <td>1.473782e+05</td>\n",
              "      <td>7.828274e+04</td>\n",
              "      <td>4.823410e+04</td>\n",
              "    </tr>\n",
              "    <tr>\n",
              "      <th>std</th>\n",
              "      <td>5.832087</td>\n",
              "      <td>8.224307e+05</td>\n",
              "      <td>5.083397e+05</td>\n",
              "      <td>3.092720e+05</td>\n",
              "      <td>1.896780e+05</td>\n",
              "    </tr>\n",
              "    <tr>\n",
              "      <th>min</th>\n",
              "      <td>1980.000000</td>\n",
              "      <td>0.000000e+00</td>\n",
              "      <td>0.000000e+00</td>\n",
              "      <td>0.000000e+00</td>\n",
              "      <td>0.000000e+00</td>\n",
              "    </tr>\n",
              "    <tr>\n",
              "      <th>25%</th>\n",
              "      <td>2003.000000</td>\n",
              "      <td>0.000000e+00</td>\n",
              "      <td>0.000000e+00</td>\n",
              "      <td>0.000000e+00</td>\n",
              "      <td>0.000000e+00</td>\n",
              "    </tr>\n",
              "    <tr>\n",
              "      <th>50%</th>\n",
              "      <td>2007.000000</td>\n",
              "      <td>8.000000e+04</td>\n",
              "      <td>2.000000e+04</td>\n",
              "      <td>0.000000e+00</td>\n",
              "      <td>1.000000e+04</td>\n",
              "    </tr>\n",
              "    <tr>\n",
              "      <th>75%</th>\n",
              "      <td>2010.000000</td>\n",
              "      <td>2.400000e+05</td>\n",
              "      <td>1.100000e+05</td>\n",
              "      <td>4.000000e+04</td>\n",
              "      <td>4.000000e+04</td>\n",
              "    </tr>\n",
              "    <tr>\n",
              "      <th>max</th>\n",
              "      <td>2020.000000</td>\n",
              "      <td>4.149000e+07</td>\n",
              "      <td>2.902000e+07</td>\n",
              "      <td>1.022000e+07</td>\n",
              "      <td>1.057000e+07</td>\n",
              "    </tr>\n",
              "  </tbody>\n",
              "</table>\n",
              "</div>"
            ],
            "text/plain": [
              "               Year      NA_Sales      EU_Sales      JP_Sales   Other_Sales\n",
              "count  16241.000000  1.624100e+04  1.624100e+04  1.624100e+04  1.624100e+04\n",
              "mean    2006.406748  2.651955e+05  1.473782e+05  7.828274e+04  4.823410e+04\n",
              "std        5.832087  8.224307e+05  5.083397e+05  3.092720e+05  1.896780e+05\n",
              "min     1980.000000  0.000000e+00  0.000000e+00  0.000000e+00  0.000000e+00\n",
              "25%     2003.000000  0.000000e+00  0.000000e+00  0.000000e+00  0.000000e+00\n",
              "50%     2007.000000  8.000000e+04  2.000000e+04  0.000000e+00  1.000000e+04\n",
              "75%     2010.000000  2.400000e+05  1.100000e+05  4.000000e+04  4.000000e+04\n",
              "max     2020.000000  4.149000e+07  2.902000e+07  1.022000e+07  1.057000e+07"
            ]
          },
          "metadata": {
            "tags": []
          },
          "execution_count": 37
        }
      ]
    },
    {
      "cell_type": "code",
      "metadata": {
        "id": "8EgmREwWvLgO",
        "colab": {
          "base_uri": "https://localhost:8080/",
          "height": 200
        },
        "outputId": "d8dc301f-daa1-4c08-dd3a-a7957789b1db"
      },
      "source": [
        "games_EDA['Total_Sales'] = games_EDA[['NA_Sales','EU_Sales', 'JP_Sales', 'Other_Sales']].sum(axis = 1)\n",
        "games_EDA.head()"
      ],
      "execution_count": 38,
      "outputs": [
        {
          "output_type": "execute_result",
          "data": {
            "text/html": [
              "<div>\n",
              "<style scoped>\n",
              "    .dataframe tbody tr th:only-of-type {\n",
              "        vertical-align: middle;\n",
              "    }\n",
              "\n",
              "    .dataframe tbody tr th {\n",
              "        vertical-align: top;\n",
              "    }\n",
              "\n",
              "    .dataframe thead th {\n",
              "        text-align: right;\n",
              "    }\n",
              "</style>\n",
              "<table border=\"1\" class=\"dataframe\">\n",
              "  <thead>\n",
              "    <tr style=\"text-align: right;\">\n",
              "      <th></th>\n",
              "      <th>Name</th>\n",
              "      <th>Platform</th>\n",
              "      <th>Year</th>\n",
              "      <th>Genre</th>\n",
              "      <th>Publisher</th>\n",
              "      <th>NA_Sales</th>\n",
              "      <th>EU_Sales</th>\n",
              "      <th>JP_Sales</th>\n",
              "      <th>Other_Sales</th>\n",
              "      <th>Total_Sales</th>\n",
              "    </tr>\n",
              "  </thead>\n",
              "  <tbody>\n",
              "    <tr>\n",
              "      <th>0</th>\n",
              "      <td>Candace Kane's Candy Factory</td>\n",
              "      <td>DS</td>\n",
              "      <td>2008.0</td>\n",
              "      <td>Action</td>\n",
              "      <td>Destineer</td>\n",
              "      <td>40000.0</td>\n",
              "      <td>0.0</td>\n",
              "      <td>0.0</td>\n",
              "      <td>0.0</td>\n",
              "      <td>40000.0</td>\n",
              "    </tr>\n",
              "    <tr>\n",
              "      <th>1</th>\n",
              "      <td>The Munchables</td>\n",
              "      <td>Wii</td>\n",
              "      <td>2009.0</td>\n",
              "      <td>Action</td>\n",
              "      <td>Namco Bandai Games</td>\n",
              "      <td>170000.0</td>\n",
              "      <td>0.0</td>\n",
              "      <td>0.0</td>\n",
              "      <td>10000.0</td>\n",
              "      <td>180000.0</td>\n",
              "    </tr>\n",
              "    <tr>\n",
              "      <th>2</th>\n",
              "      <td>Otome wa Oanesama Boku ni Koi Shiteru Portable</td>\n",
              "      <td>PSP</td>\n",
              "      <td>2010.0</td>\n",
              "      <td>Adventure</td>\n",
              "      <td>Alchemist</td>\n",
              "      <td>0.0</td>\n",
              "      <td>0.0</td>\n",
              "      <td>20000.0</td>\n",
              "      <td>0.0</td>\n",
              "      <td>20000.0</td>\n",
              "    </tr>\n",
              "    <tr>\n",
              "      <th>3</th>\n",
              "      <td>Deal or No Deal: Special Edition</td>\n",
              "      <td>DS</td>\n",
              "      <td>2010.0</td>\n",
              "      <td>Misc</td>\n",
              "      <td>Zoo Games</td>\n",
              "      <td>40000.0</td>\n",
              "      <td>0.0</td>\n",
              "      <td>0.0</td>\n",
              "      <td>0.0</td>\n",
              "      <td>40000.0</td>\n",
              "    </tr>\n",
              "    <tr>\n",
              "      <th>4</th>\n",
              "      <td>Ben 10 Ultimate Alien: Cosmic Destruction</td>\n",
              "      <td>PS3</td>\n",
              "      <td>2010.0</td>\n",
              "      <td>Platform</td>\n",
              "      <td>D3Publisher</td>\n",
              "      <td>120000.0</td>\n",
              "      <td>90000.0</td>\n",
              "      <td>0.0</td>\n",
              "      <td>40000.0</td>\n",
              "      <td>250000.0</td>\n",
              "    </tr>\n",
              "  </tbody>\n",
              "</table>\n",
              "</div>"
            ],
            "text/plain": [
              "                                             Name  ... Total_Sales\n",
              "0                    Candace Kane's Candy Factory  ...     40000.0\n",
              "1                                  The Munchables  ...    180000.0\n",
              "2  Otome wa Oanesama Boku ni Koi Shiteru Portable  ...     20000.0\n",
              "3                Deal or No Deal: Special Edition  ...     40000.0\n",
              "4       Ben 10 Ultimate Alien: Cosmic Destruction  ...    250000.0\n",
              "\n",
              "[5 rows x 10 columns]"
            ]
          },
          "metadata": {
            "tags": []
          },
          "execution_count": 38
        }
      ]
    },
    {
      "cell_type": "code",
      "metadata": {
        "id": "-enmd60jynt5"
      },
      "source": [
        "#1980부터 2020까지 10년 주기로 년대별로 범주화\n",
        "\n",
        "def category_year (x):\n",
        "  if x >= 1980 and x < 1990:\n",
        "    x = 1980\n",
        "    return x\n",
        "  elif x >= 1990 and x <2000:\n",
        "    x = 1990\n",
        "    return x\n",
        "  elif x >= 2000 and x <2010:\n",
        "    x = 2000\n",
        "    return x\n",
        "  elif x >= 2010 and x < 2020:\n",
        "    x = 2010\n",
        "    return x\n",
        "  else:\n",
        "    x = 2020\n",
        "    return x"
      ],
      "execution_count": 39,
      "outputs": []
    },
    {
      "cell_type": "markdown",
      "metadata": {
        "id": "oeoTPzZSDiKu"
      },
      "source": [
        "### 2-2-(1) 게임 장르 특성 시각화 & 검정\n"
      ]
    },
    {
      "cell_type": "code",
      "metadata": {
        "id": "rpEnBvj0za_u",
        "colab": {
          "base_uri": "https://localhost:8080/",
          "height": 408
        },
        "outputId": "f38a4a64-d115-4923-ce14-a84d3cc38286"
      },
      "source": [
        "#게임 장르 feature 시각화 & 검정\n",
        "\n",
        "Genre_Sum = games_EDA.copy()\n",
        "Genre_Sum['Year'] = Genre_Sum['Year'].apply(category_year)\n",
        "Genre_Sum.sample(100)"
      ],
      "execution_count": 40,
      "outputs": [
        {
          "output_type": "execute_result",
          "data": {
            "text/html": [
              "<div>\n",
              "<style scoped>\n",
              "    .dataframe tbody tr th:only-of-type {\n",
              "        vertical-align: middle;\n",
              "    }\n",
              "\n",
              "    .dataframe tbody tr th {\n",
              "        vertical-align: top;\n",
              "    }\n",
              "\n",
              "    .dataframe thead th {\n",
              "        text-align: right;\n",
              "    }\n",
              "</style>\n",
              "<table border=\"1\" class=\"dataframe\">\n",
              "  <thead>\n",
              "    <tr style=\"text-align: right;\">\n",
              "      <th></th>\n",
              "      <th>Name</th>\n",
              "      <th>Platform</th>\n",
              "      <th>Year</th>\n",
              "      <th>Genre</th>\n",
              "      <th>Publisher</th>\n",
              "      <th>NA_Sales</th>\n",
              "      <th>EU_Sales</th>\n",
              "      <th>JP_Sales</th>\n",
              "      <th>Other_Sales</th>\n",
              "      <th>Total_Sales</th>\n",
              "    </tr>\n",
              "  </thead>\n",
              "  <tbody>\n",
              "    <tr>\n",
              "      <th>9346</th>\n",
              "      <td>Crash Tag Team Racing</td>\n",
              "      <td>XB</td>\n",
              "      <td>2000</td>\n",
              "      <td>Racing</td>\n",
              "      <td>Vivendi Games</td>\n",
              "      <td>90000.0</td>\n",
              "      <td>30000.0</td>\n",
              "      <td>0.0</td>\n",
              "      <td>0.0</td>\n",
              "      <td>120000.0</td>\n",
              "    </tr>\n",
              "    <tr>\n",
              "      <th>16415</th>\n",
              "      <td>EA Sports Active 2</td>\n",
              "      <td>Wii</td>\n",
              "      <td>2010</td>\n",
              "      <td>Sports</td>\n",
              "      <td>Electronic Arts</td>\n",
              "      <td>780000.0</td>\n",
              "      <td>400000.0</td>\n",
              "      <td>0.0</td>\n",
              "      <td>110000.0</td>\n",
              "      <td>1290000.0</td>\n",
              "    </tr>\n",
              "    <tr>\n",
              "      <th>488</th>\n",
              "      <td>Kung Fu Chaos</td>\n",
              "      <td>XB</td>\n",
              "      <td>2000</td>\n",
              "      <td>Fighting</td>\n",
              "      <td>Microsoft Game Studios</td>\n",
              "      <td>210000.0</td>\n",
              "      <td>60000.0</td>\n",
              "      <td>0.0</td>\n",
              "      <td>10000.0</td>\n",
              "      <td>280000.0</td>\n",
              "    </tr>\n",
              "    <tr>\n",
              "      <th>12378</th>\n",
              "      <td>Crimson Sea</td>\n",
              "      <td>XB</td>\n",
              "      <td>2000</td>\n",
              "      <td>Action</td>\n",
              "      <td>Tecmo Koei</td>\n",
              "      <td>40000.0</td>\n",
              "      <td>10000.0</td>\n",
              "      <td>40000.0</td>\n",
              "      <td>0.0</td>\n",
              "      <td>90000.0</td>\n",
              "    </tr>\n",
              "    <tr>\n",
              "      <th>11084</th>\n",
              "      <td>3rd Super Robot Wars Z Jigoku Hen</td>\n",
              "      <td>PSV</td>\n",
              "      <td>2010</td>\n",
              "      <td>Role-Playing</td>\n",
              "      <td>Namco Bandai Games</td>\n",
              "      <td>0.0</td>\n",
              "      <td>0.0</td>\n",
              "      <td>190000.0</td>\n",
              "      <td>0.0</td>\n",
              "      <td>190000.0</td>\n",
              "    </tr>\n",
              "    <tr>\n",
              "      <th>...</th>\n",
              "      <td>...</td>\n",
              "      <td>...</td>\n",
              "      <td>...</td>\n",
              "      <td>...</td>\n",
              "      <td>...</td>\n",
              "      <td>...</td>\n",
              "      <td>...</td>\n",
              "      <td>...</td>\n",
              "      <td>...</td>\n",
              "      <td>...</td>\n",
              "    </tr>\n",
              "    <tr>\n",
              "      <th>11817</th>\n",
              "      <td>Pitfall 3D: Beyond the Jungle</td>\n",
              "      <td>PS</td>\n",
              "      <td>1990</td>\n",
              "      <td>Platform</td>\n",
              "      <td>Activision</td>\n",
              "      <td>180000.0</td>\n",
              "      <td>120000.0</td>\n",
              "      <td>0.0</td>\n",
              "      <td>20000.0</td>\n",
              "      <td>320000.0</td>\n",
              "    </tr>\n",
              "    <tr>\n",
              "      <th>854</th>\n",
              "      <td>WarioWare, Inc.: Mega MicroGame$</td>\n",
              "      <td>GBA</td>\n",
              "      <td>2000</td>\n",
              "      <td>Puzzle</td>\n",
              "      <td>Nintendo</td>\n",
              "      <td>400000.0</td>\n",
              "      <td>110000.0</td>\n",
              "      <td>700000.0</td>\n",
              "      <td>20000.0</td>\n",
              "      <td>1230000.0</td>\n",
              "    </tr>\n",
              "    <tr>\n",
              "      <th>11750</th>\n",
              "      <td>Gladiator Begins</td>\n",
              "      <td>PSP</td>\n",
              "      <td>2010</td>\n",
              "      <td>Action</td>\n",
              "      <td>PQube</td>\n",
              "      <td>50000.0</td>\n",
              "      <td>10000.0</td>\n",
              "      <td>50000.0</td>\n",
              "      <td>10000.0</td>\n",
              "      <td>120000.0</td>\n",
              "    </tr>\n",
              "    <tr>\n",
              "      <th>16242</th>\n",
              "      <td>Ty the Tasmanian Tiger 3: Night of the Quinkan</td>\n",
              "      <td>PS2</td>\n",
              "      <td>2000</td>\n",
              "      <td>Action</td>\n",
              "      <td>Activision</td>\n",
              "      <td>90000.0</td>\n",
              "      <td>70000.0</td>\n",
              "      <td>0.0</td>\n",
              "      <td>20000.0</td>\n",
              "      <td>180000.0</td>\n",
              "    </tr>\n",
              "    <tr>\n",
              "      <th>1469</th>\n",
              "      <td>Total War: WARHAMMER</td>\n",
              "      <td>PC</td>\n",
              "      <td>2010</td>\n",
              "      <td>Strategy</td>\n",
              "      <td>Sega</td>\n",
              "      <td>0.0</td>\n",
              "      <td>100000.0</td>\n",
              "      <td>0.0</td>\n",
              "      <td>10000.0</td>\n",
              "      <td>110000.0</td>\n",
              "    </tr>\n",
              "  </tbody>\n",
              "</table>\n",
              "<p>100 rows × 10 columns</p>\n",
              "</div>"
            ],
            "text/plain": [
              "                                                 Name  ... Total_Sales\n",
              "9346                            Crash Tag Team Racing  ...    120000.0\n",
              "16415                              EA Sports Active 2  ...   1290000.0\n",
              "488                                     Kung Fu Chaos  ...    280000.0\n",
              "12378                                     Crimson Sea  ...     90000.0\n",
              "11084               3rd Super Robot Wars Z Jigoku Hen  ...    190000.0\n",
              "...                                               ...  ...         ...\n",
              "11817                   Pitfall 3D: Beyond the Jungle  ...    320000.0\n",
              "854                  WarioWare, Inc.: Mega MicroGame$  ...   1230000.0\n",
              "11750                                Gladiator Begins  ...    120000.0\n",
              "16242  Ty the Tasmanian Tiger 3: Night of the Quinkan  ...    180000.0\n",
              "1469                             Total War: WARHAMMER  ...    110000.0\n",
              "\n",
              "[100 rows x 10 columns]"
            ]
          },
          "metadata": {
            "tags": []
          },
          "execution_count": 40
        }
      ]
    },
    {
      "cell_type": "code",
      "metadata": {
        "id": "6O5DS-jzzw1u",
        "colab": {
          "base_uri": "https://localhost:8080/"
        },
        "outputId": "e2ba6e4e-1989-4352-b848-1d90211f991f"
      },
      "source": [
        "year_genre = pd.DataFrame(Genre_Sum.groupby(['Year', 'Genre']).Total_Sales.sum())\n",
        "year_genre = year_genre.unstack()\n",
        "year_genre = year_genre.replace(np.nan, 0)\n",
        "year_genre.columns = year_genre.columns.droplevel(0)\n",
        "year_genre.columns"
      ],
      "execution_count": 41,
      "outputs": [
        {
          "output_type": "execute_result",
          "data": {
            "text/plain": [
              "Index(['Action', 'Adventure', 'Fighting', 'Misc', 'Platform', 'Puzzle',\n",
              "       'Racing', 'Role-Playing', 'Shooter', 'Simulation', 'Sports',\n",
              "       'Strategy'],\n",
              "      dtype='object', name='Genre')"
            ]
          },
          "metadata": {
            "tags": []
          },
          "execution_count": 41
        }
      ]
    },
    {
      "cell_type": "code",
      "metadata": {
        "id": "hfim6h4u-snp",
        "colab": {
          "base_uri": "https://localhost:8080/",
          "height": 583
        },
        "outputId": "c03ce153-7d08-44b0-aa53-edb18d731f2c"
      },
      "source": [
        "numbers = [0,1,2,3,4]\n",
        "\n",
        "plt.figure(figsize = (30,10))\n",
        "\n",
        "for index in numbers:\n",
        "  plots = year_genre.iloc[index][:]\n",
        "  year = 1980 + 10*int(index)\n",
        "  plt.subplot(150+(int(index)+1))\n",
        "  plots.plot(kind='bar')\n",
        "  plt.title(str(year)+'s')\n",
        "\n",
        "plt.show();"
      ],
      "execution_count": 42,
      "outputs": [
        {
          "output_type": "display_data",
          "data": {
            "image/png": "[encoded data removed]",
            "text/plain": [
              "<Figure size 2160x720 with 5 Axes>"
            ]
          },
          "metadata": {
            "tags": [],
            "needs_background": "light"
          }
        }
      ]
    },
    {
      "cell_type": "markdown",
      "metadata": {
        "id": "qw2aulvZDYgc"
      },
      "source": [
        "### 2-2-(2) 게임 플랫폼 특성 시각화 & 검정\n",
        "\n",
        "\n"
      ]
    },
    {
      "cell_type": "code",
      "metadata": {
        "id": "O3CTovv7A3HQ",
        "colab": {
          "base_uri": "https://localhost:8080/",
          "height": 408
        },
        "outputId": "37c3f9ff-1e01-481b-b7a6-992b70d0a855"
      },
      "source": [
        "#게임 플랫폼(Feature) 시각화 & 검정\n",
        "\n",
        "Platform_Sum = games_EDA.copy()\n",
        "Platform_Sum['Year'] = Platform_Sum['Year'].apply(category_year)\n",
        "Platform_Sum.sample(100)"
      ],
      "execution_count": 43,
      "outputs": [
        {
          "output_type": "execute_result",
          "data": {
            "text/html": [
              "<div>\n",
              "<style scoped>\n",
              "    .dataframe tbody tr th:only-of-type {\n",
              "        vertical-align: middle;\n",
              "    }\n",
              "\n",
              "    .dataframe tbody tr th {\n",
              "        vertical-align: top;\n",
              "    }\n",
              "\n",
              "    .dataframe thead th {\n",
              "        text-align: right;\n",
              "    }\n",
              "</style>\n",
              "<table border=\"1\" class=\"dataframe\">\n",
              "  <thead>\n",
              "    <tr style=\"text-align: right;\">\n",
              "      <th></th>\n",
              "      <th>Name</th>\n",
              "      <th>Platform</th>\n",
              "      <th>Year</th>\n",
              "      <th>Genre</th>\n",
              "      <th>Publisher</th>\n",
              "      <th>NA_Sales</th>\n",
              "      <th>EU_Sales</th>\n",
              "      <th>JP_Sales</th>\n",
              "      <th>Other_Sales</th>\n",
              "      <th>Total_Sales</th>\n",
              "    </tr>\n",
              "  </thead>\n",
              "  <tbody>\n",
              "    <tr>\n",
              "      <th>2286</th>\n",
              "      <td>World Series of Poker: Tournament of Champions...</td>\n",
              "      <td>X360</td>\n",
              "      <td>2000</td>\n",
              "      <td>Misc</td>\n",
              "      <td>Activision</td>\n",
              "      <td>150000.0</td>\n",
              "      <td>0.0</td>\n",
              "      <td>0.0</td>\n",
              "      <td>10000.0</td>\n",
              "      <td>160000.0</td>\n",
              "    </tr>\n",
              "    <tr>\n",
              "      <th>5078</th>\n",
              "      <td>WinBack: Covert Operations</td>\n",
              "      <td>N64</td>\n",
              "      <td>1990</td>\n",
              "      <td>Shooter</td>\n",
              "      <td>Virgin Interactive</td>\n",
              "      <td>170000.0</td>\n",
              "      <td>40000.0</td>\n",
              "      <td>0.0</td>\n",
              "      <td>0.0</td>\n",
              "      <td>210000.0</td>\n",
              "    </tr>\n",
              "    <tr>\n",
              "      <th>237</th>\n",
              "      <td>Suzuki TT Superbikes</td>\n",
              "      <td>PS2</td>\n",
              "      <td>2000</td>\n",
              "      <td>Racing</td>\n",
              "      <td>Jester Interactive</td>\n",
              "      <td>330000.0</td>\n",
              "      <td>10000.0</td>\n",
              "      <td>0.0</td>\n",
              "      <td>50000.0</td>\n",
              "      <td>390000.0</td>\n",
              "    </tr>\n",
              "    <tr>\n",
              "      <th>8302</th>\n",
              "      <td>All-Star Baseball 2004</td>\n",
              "      <td>XB</td>\n",
              "      <td>2000</td>\n",
              "      <td>Sports</td>\n",
              "      <td>Acclaim Entertainment</td>\n",
              "      <td>100000.0</td>\n",
              "      <td>30000.0</td>\n",
              "      <td>0.0</td>\n",
              "      <td>0.0</td>\n",
              "      <td>130000.0</td>\n",
              "    </tr>\n",
              "    <tr>\n",
              "      <th>5988</th>\n",
              "      <td>Jimmie Johnson's Anything With an Engine</td>\n",
              "      <td>Wii</td>\n",
              "      <td>2010</td>\n",
              "      <td>Racing</td>\n",
              "      <td>Konami Digital Entertainment</td>\n",
              "      <td>70000.0</td>\n",
              "      <td>0.0</td>\n",
              "      <td>0.0</td>\n",
              "      <td>10000.0</td>\n",
              "      <td>80000.0</td>\n",
              "    </tr>\n",
              "    <tr>\n",
              "      <th>...</th>\n",
              "      <td>...</td>\n",
              "      <td>...</td>\n",
              "      <td>...</td>\n",
              "      <td>...</td>\n",
              "      <td>...</td>\n",
              "      <td>...</td>\n",
              "      <td>...</td>\n",
              "      <td>...</td>\n",
              "      <td>...</td>\n",
              "      <td>...</td>\n",
              "    </tr>\n",
              "    <tr>\n",
              "      <th>11643</th>\n",
              "      <td>Guitar Hero: World Tour</td>\n",
              "      <td>PS3</td>\n",
              "      <td>2000</td>\n",
              "      <td>Misc</td>\n",
              "      <td>Activision</td>\n",
              "      <td>1100000.0</td>\n",
              "      <td>560000.0</td>\n",
              "      <td>0.0</td>\n",
              "      <td>270000.0</td>\n",
              "      <td>1930000.0</td>\n",
              "    </tr>\n",
              "    <tr>\n",
              "      <th>4033</th>\n",
              "      <td>Just Dance 2014</td>\n",
              "      <td>Wii</td>\n",
              "      <td>2010</td>\n",
              "      <td>Misc</td>\n",
              "      <td>Ubisoft</td>\n",
              "      <td>1980000.0</td>\n",
              "      <td>1470000.0</td>\n",
              "      <td>0.0</td>\n",
              "      <td>320000.0</td>\n",
              "      <td>3770000.0</td>\n",
              "    </tr>\n",
              "    <tr>\n",
              "      <th>16050</th>\n",
              "      <td>Chou!! Super Nep League DS</td>\n",
              "      <td>DS</td>\n",
              "      <td>2000</td>\n",
              "      <td>Sports</td>\n",
              "      <td>Jaleco</td>\n",
              "      <td>0.0</td>\n",
              "      <td>0.0</td>\n",
              "      <td>20000.0</td>\n",
              "      <td>0.0</td>\n",
              "      <td>20000.0</td>\n",
              "    </tr>\n",
              "    <tr>\n",
              "      <th>8503</th>\n",
              "      <td>Evil Dead: Regeneration</td>\n",
              "      <td>PS2</td>\n",
              "      <td>2000</td>\n",
              "      <td>Action</td>\n",
              "      <td>THQ</td>\n",
              "      <td>100000.0</td>\n",
              "      <td>80000.0</td>\n",
              "      <td>0.0</td>\n",
              "      <td>30000.0</td>\n",
              "      <td>210000.0</td>\n",
              "    </tr>\n",
              "    <tr>\n",
              "      <th>9994</th>\n",
              "      <td>Minecraft</td>\n",
              "      <td>X360</td>\n",
              "      <td>2010</td>\n",
              "      <td>Misc</td>\n",
              "      <td>Microsoft Game Studios</td>\n",
              "      <td>5580000.0</td>\n",
              "      <td>2830000.0</td>\n",
              "      <td>20000.0</td>\n",
              "      <td>770000.0</td>\n",
              "      <td>9200000.0</td>\n",
              "    </tr>\n",
              "  </tbody>\n",
              "</table>\n",
              "<p>100 rows × 10 columns</p>\n",
              "</div>"
            ],
            "text/plain": [
              "                                                    Name  ... Total_Sales\n",
              "2286   World Series of Poker: Tournament of Champions...  ...    160000.0\n",
              "5078                          WinBack: Covert Operations  ...    210000.0\n",
              "237                                 Suzuki TT Superbikes  ...    390000.0\n",
              "8302                              All-Star Baseball 2004  ...    130000.0\n",
              "5988            Jimmie Johnson's Anything With an Engine  ...     80000.0\n",
              "...                                                  ...  ...         ...\n",
              "11643                            Guitar Hero: World Tour  ...   1930000.0\n",
              "4033                                     Just Dance 2014  ...   3770000.0\n",
              "16050                         Chou!! Super Nep League DS  ...     20000.0\n",
              "8503                             Evil Dead: Regeneration  ...    210000.0\n",
              "9994                                           Minecraft  ...   9200000.0\n",
              "\n",
              "[100 rows x 10 columns]"
            ]
          },
          "metadata": {
            "tags": []
          },
          "execution_count": 43
        }
      ]
    },
    {
      "cell_type": "code",
      "metadata": {
        "id": "JVaROWb2ECLh",
        "colab": {
          "base_uri": "https://localhost:8080/"
        },
        "outputId": "dcc13cbf-a083-4b3a-a0a0-8cc1b0775af1"
      },
      "source": [
        "year_platform = pd.DataFrame(Platform_Sum.groupby(['Year', 'Platform']).Total_Sales.sum())\n",
        "year_platform = year_platform.unstack()\n",
        "year_platform = year_platform.replace(np.nan, 0)\n",
        "year_platform.columns = year_platform.columns.droplevel(0)\n",
        "year_platform.columns"
      ],
      "execution_count": 44,
      "outputs": [
        {
          "output_type": "execute_result",
          "data": {
            "text/plain": [
              "Index(['2600', '3DO', '3DS', 'DC', 'DS', 'GB', 'GBA', 'GC', 'GEN', 'GG', 'N64',\n",
              "       'NES', 'NG', 'PC', 'PCFX', 'PS', 'PS2', 'PS3', 'PS4', 'PSP', 'PSV',\n",
              "       'SAT', 'SCD', 'SNES', 'TG16', 'WS', 'Wii', 'WiiU', 'X360', 'XB',\n",
              "       'XOne'],\n",
              "      dtype='object', name='Platform')"
            ]
          },
          "metadata": {
            "tags": []
          },
          "execution_count": 44
        }
      ]
    },
    {
      "cell_type": "code",
      "metadata": {
        "colab": {
          "base_uri": "https://localhost:8080/",
          "height": 250
        },
        "id": "zqNJC-PVto9u",
        "outputId": "f183c12d-912e-412a-d90b-643df345565a"
      },
      "source": [
        "year_platform.head()"
      ],
      "execution_count": 45,
      "outputs": [
        {
          "output_type": "execute_result",
          "data": {
            "text/html": [
              "<div>\n",
              "<style scoped>\n",
              "    .dataframe tbody tr th:only-of-type {\n",
              "        vertical-align: middle;\n",
              "    }\n",
              "\n",
              "    .dataframe tbody tr th {\n",
              "        vertical-align: top;\n",
              "    }\n",
              "\n",
              "    .dataframe thead th {\n",
              "        text-align: right;\n",
              "    }\n",
              "</style>\n",
              "<table border=\"1\" class=\"dataframe\">\n",
              "  <thead>\n",
              "    <tr style=\"text-align: right;\">\n",
              "      <th>Platform</th>\n",
              "      <th>2600</th>\n",
              "      <th>3DO</th>\n",
              "      <th>3DS</th>\n",
              "      <th>DC</th>\n",
              "      <th>DS</th>\n",
              "      <th>GB</th>\n",
              "      <th>GBA</th>\n",
              "      <th>GC</th>\n",
              "      <th>GEN</th>\n",
              "      <th>GG</th>\n",
              "      <th>N64</th>\n",
              "      <th>NES</th>\n",
              "      <th>NG</th>\n",
              "      <th>PC</th>\n",
              "      <th>PCFX</th>\n",
              "      <th>PS</th>\n",
              "      <th>PS2</th>\n",
              "      <th>PS3</th>\n",
              "      <th>PS4</th>\n",
              "      <th>PSP</th>\n",
              "      <th>PSV</th>\n",
              "      <th>SAT</th>\n",
              "      <th>SCD</th>\n",
              "      <th>SNES</th>\n",
              "      <th>TG16</th>\n",
              "      <th>WS</th>\n",
              "      <th>Wii</th>\n",
              "      <th>WiiU</th>\n",
              "      <th>X360</th>\n",
              "      <th>XB</th>\n",
              "      <th>XOne</th>\n",
              "    </tr>\n",
              "    <tr>\n",
              "      <th>Year</th>\n",
              "      <th></th>\n",
              "      <th></th>\n",
              "      <th></th>\n",
              "      <th></th>\n",
              "      <th></th>\n",
              "      <th></th>\n",
              "      <th></th>\n",
              "      <th></th>\n",
              "      <th></th>\n",
              "      <th></th>\n",
              "      <th></th>\n",
              "      <th></th>\n",
              "      <th></th>\n",
              "      <th></th>\n",
              "      <th></th>\n",
              "      <th></th>\n",
              "      <th></th>\n",
              "      <th></th>\n",
              "      <th></th>\n",
              "      <th></th>\n",
              "      <th></th>\n",
              "      <th></th>\n",
              "      <th></th>\n",
              "      <th></th>\n",
              "      <th></th>\n",
              "      <th></th>\n",
              "      <th></th>\n",
              "      <th></th>\n",
              "      <th></th>\n",
              "      <th></th>\n",
              "      <th></th>\n",
              "    </tr>\n",
              "  </thead>\n",
              "  <tbody>\n",
              "    <tr>\n",
              "      <th>1980</th>\n",
              "      <td>85980000.0</td>\n",
              "      <td>0.0</td>\n",
              "      <td>0.0</td>\n",
              "      <td>0.0</td>\n",
              "      <td>20000.0</td>\n",
              "      <td>66400000.0</td>\n",
              "      <td>0.0</td>\n",
              "      <td>0.0</td>\n",
              "      <td>0.0</td>\n",
              "      <td>0.0</td>\n",
              "      <td>0.0</td>\n",
              "      <td>223510000.0</td>\n",
              "      <td>0.0</td>\n",
              "      <td>70000.0</td>\n",
              "      <td>0.0</td>\n",
              "      <td>0.0</td>\n",
              "      <td>0.000000e+00</td>\n",
              "      <td>0.0</td>\n",
              "      <td>0.0</td>\n",
              "      <td>0.0</td>\n",
              "      <td>0.0</td>\n",
              "      <td>0.0</td>\n",
              "      <td>0.0</td>\n",
              "      <td>0.0</td>\n",
              "      <td>0.0</td>\n",
              "      <td>0.0</td>\n",
              "      <td>0.0</td>\n",
              "      <td>0.0</td>\n",
              "      <td>0.0</td>\n",
              "      <td>0.0</td>\n",
              "      <td>0.0</td>\n",
              "    </tr>\n",
              "    <tr>\n",
              "      <th>1990</th>\n",
              "      <td>0.0</td>\n",
              "      <td>100000.0</td>\n",
              "      <td>0.0</td>\n",
              "      <td>8540000.0</td>\n",
              "      <td>0.0</td>\n",
              "      <td>159030000.0</td>\n",
              "      <td>0.0</td>\n",
              "      <td>0.0</td>\n",
              "      <td>28350000.0</td>\n",
              "      <td>40000.0</td>\n",
              "      <td>179550000.0</td>\n",
              "      <td>27540000.0</td>\n",
              "      <td>1440000.0</td>\n",
              "      <td>49960000.0</td>\n",
              "      <td>30000.0</td>\n",
              "      <td>584500000.0</td>\n",
              "      <td>0.000000e+00</td>\n",
              "      <td>0.0</td>\n",
              "      <td>0.0</td>\n",
              "      <td>0.0</td>\n",
              "      <td>0.0</td>\n",
              "      <td>33590000.0</td>\n",
              "      <td>1860000.0</td>\n",
              "      <td>200040000.0</td>\n",
              "      <td>160000.0</td>\n",
              "      <td>460000.0</td>\n",
              "      <td>0.0</td>\n",
              "      <td>0.0</td>\n",
              "      <td>0.0</td>\n",
              "      <td>0.0</td>\n",
              "      <td>0.0</td>\n",
              "    </tr>\n",
              "    <tr>\n",
              "      <th>2000</th>\n",
              "      <td>0.0</td>\n",
              "      <td>0.0</td>\n",
              "      <td>0.0</td>\n",
              "      <td>7410000.0</td>\n",
              "      <td>687570000.0</td>\n",
              "      <td>29000000.0</td>\n",
              "      <td>304760000.0</td>\n",
              "      <td>196020000.0</td>\n",
              "      <td>0.0</td>\n",
              "      <td>0.0</td>\n",
              "      <td>37210000.0</td>\n",
              "      <td>0.0</td>\n",
              "      <td>0.0</td>\n",
              "      <td>83440000.0</td>\n",
              "      <td>0.0</td>\n",
              "      <td>140660000.0</td>\n",
              "      <td>1.216870e+09</td>\n",
              "      <td>345550000.0</td>\n",
              "      <td>0.0</td>\n",
              "      <td>226530000.0</td>\n",
              "      <td>0.0</td>\n",
              "      <td>0.0</td>\n",
              "      <td>0.0</td>\n",
              "      <td>0.0</td>\n",
              "      <td>0.0</td>\n",
              "      <td>960000.0</td>\n",
              "      <td>676690000.0</td>\n",
              "      <td>0.0</td>\n",
              "      <td>412450000.0</td>\n",
              "      <td>247300000.0</td>\n",
              "      <td>0.0</td>\n",
              "    </tr>\n",
              "    <tr>\n",
              "      <th>2010</th>\n",
              "      <td>0.0</td>\n",
              "      <td>0.0</td>\n",
              "      <td>231820000.0</td>\n",
              "      <td>0.0</td>\n",
              "      <td>129310000.0</td>\n",
              "      <td>0.0</td>\n",
              "      <td>0.0</td>\n",
              "      <td>0.0</td>\n",
              "      <td>0.0</td>\n",
              "      <td>0.0</td>\n",
              "      <td>0.0</td>\n",
              "      <td>0.0</td>\n",
              "      <td>0.0</td>\n",
              "      <td>119480000.0</td>\n",
              "      <td>0.0</td>\n",
              "      <td>0.0</td>\n",
              "      <td>5.570000e+06</td>\n",
              "      <td>601190000.0</td>\n",
              "      <td>275780000.0</td>\n",
              "      <td>64310000.0</td>\n",
              "      <td>61560000.0</td>\n",
              "      <td>0.0</td>\n",
              "      <td>0.0</td>\n",
              "      <td>0.0</td>\n",
              "      <td>0.0</td>\n",
              "      <td>0.0</td>\n",
              "      <td>223460000.0</td>\n",
              "      <td>81790000.0</td>\n",
              "      <td>556140000.0</td>\n",
              "      <td>0.0</td>\n",
              "      <td>141080000.0</td>\n",
              "    </tr>\n",
              "    <tr>\n",
              "      <th>2020</th>\n",
              "      <td>0.0</td>\n",
              "      <td>0.0</td>\n",
              "      <td>0.0</td>\n",
              "      <td>0.0</td>\n",
              "      <td>290000.0</td>\n",
              "      <td>0.0</td>\n",
              "      <td>0.0</td>\n",
              "      <td>0.0</td>\n",
              "      <td>0.0</td>\n",
              "      <td>0.0</td>\n",
              "      <td>0.0</td>\n",
              "      <td>0.0</td>\n",
              "      <td>0.0</td>\n",
              "      <td>0.0</td>\n",
              "      <td>0.0</td>\n",
              "      <td>0.0</td>\n",
              "      <td>0.000000e+00</td>\n",
              "      <td>0.0</td>\n",
              "      <td>0.0</td>\n",
              "      <td>0.0</td>\n",
              "      <td>0.0</td>\n",
              "      <td>0.0</td>\n",
              "      <td>0.0</td>\n",
              "      <td>0.0</td>\n",
              "      <td>0.0</td>\n",
              "      <td>0.0</td>\n",
              "      <td>0.0</td>\n",
              "      <td>0.0</td>\n",
              "      <td>0.0</td>\n",
              "      <td>0.0</td>\n",
              "      <td>0.0</td>\n",
              "    </tr>\n",
              "  </tbody>\n",
              "</table>\n",
              "</div>"
            ],
            "text/plain": [
              "Platform        2600       3DO  ...           XB         XOne\n",
              "Year                            ...                          \n",
              "1980      85980000.0       0.0  ...          0.0          0.0\n",
              "1990             0.0  100000.0  ...          0.0          0.0\n",
              "2000             0.0       0.0  ...  247300000.0          0.0\n",
              "2010             0.0       0.0  ...          0.0  141080000.0\n",
              "2020             0.0       0.0  ...          0.0          0.0\n",
              "\n",
              "[5 rows x 31 columns]"
            ]
          },
          "metadata": {
            "tags": []
          },
          "execution_count": 45
        }
      ]
    },
    {
      "cell_type": "code",
      "metadata": {
        "id": "D4CJnQwMESJo",
        "colab": {
          "base_uri": "https://localhost:8080/",
          "height": 553
        },
        "outputId": "ec19c88d-ad82-4119-cfa0-dc546171bfa5"
      },
      "source": [
        "numbers = [0,1,2,3,4]\n",
        "\n",
        "plt.figure(figsize = (30,10))\n",
        "\n",
        "for index in numbers:\n",
        "  plots = year_platform.iloc[index][:]\n",
        "  year = 1980 + 10*int(index)\n",
        "  plt.subplot(150+(int(index)+1))\n",
        "  plots.plot(kind='bar')\n",
        "  plt.title(str(year)+'s')\n",
        "\n",
        "plt.show();\n",
        "\n",
        "#1980에 가장 판매량이 높던 플랫폼 '2600'은 그 다음10개년도에서 자취를 감추었고, 1980년대에 없던 'PS'는 그 1990년대에 가장 높은 매출을 기록하였다. \n",
        "#또 과거에는 특정 플랫폼의 게임이 판매 실적을 거둔반면, 1990이후에는 플랫폼이 다각화된 모습을 볼 수 있다. 소비자의 다양한 플랫폼 니즈를 충족한 것으로 생각해볼 수 있다. (물론 출시연도 후에도 계속 흥행하고 있을 가능성도 배제할 수는 없겠다 - 다른 데이터 확인 필요)"
      ],
      "execution_count": 46,
      "outputs": [
        {
          "output_type": "display_data",
          "data": {
            "image/png": "[encoded data removed]",
            "text/plain": [
              "<Figure size 2160x720 with 5 Axes>"
            ]
          },
          "metadata": {
            "tags": [],
            "needs_background": "light"
          }
        }
      ]
    },
    {
      "cell_type": "code",
      "metadata": {
        "id": "4NNodG03umQ9"
      },
      "source": [
        "#연도에 따라 실제 플랫폼에도 영향을 미치는지 카이제곱 검정을 통해 상관관계/독립성을 알아보고자 한다.\n",
        "#출고량이 1980년부터 2020년까지 기록되는 데이터는 없으므로, 가장 긴 기간동안 데이터를 가지고 있는 플랫폼과, 해당 기간을 찾아보고자 한다\n",
        "\n",
        "chi_test = games_EDA[['Platform', 'Year', 'Genre', 'Total_Sales']]"
      ],
      "execution_count": 47,
      "outputs": []
    },
    {
      "cell_type": "code",
      "metadata": {
        "id": "o8iXBQB-0sIH"
      },
      "source": [
        "condition_chi = ( (chi_test['Platform'] == 'PC') | (chi_test['Platform'] == 'PS3') | (chi_test['Platform'] == 'PS2') | (chi_test['Platform'] == 'Wii') | (chi_test['Platform'] == 'X360') )\n",
        "chi_test_data = chi_test.loc[condition_chi]"
      ],
      "execution_count": 48,
      "outputs": []
    },
    {
      "cell_type": "code",
      "metadata": {
        "colab": {
          "base_uri": "https://localhost:8080/",
          "height": 408
        },
        "id": "I44Hnf5Z1G0g",
        "outputId": "03dcda0b-9b8c-4150-add0-efacad93e5b4"
      },
      "source": [
        "chi_test_data"
      ],
      "execution_count": 49,
      "outputs": [
        {
          "output_type": "execute_result",
          "data": {
            "text/html": [
              "<div>\n",
              "<style scoped>\n",
              "    .dataframe tbody tr th:only-of-type {\n",
              "        vertical-align: middle;\n",
              "    }\n",
              "\n",
              "    .dataframe tbody tr th {\n",
              "        vertical-align: top;\n",
              "    }\n",
              "\n",
              "    .dataframe thead th {\n",
              "        text-align: right;\n",
              "    }\n",
              "</style>\n",
              "<table border=\"1\" class=\"dataframe\">\n",
              "  <thead>\n",
              "    <tr style=\"text-align: right;\">\n",
              "      <th></th>\n",
              "      <th>Platform</th>\n",
              "      <th>Year</th>\n",
              "      <th>Genre</th>\n",
              "      <th>Total_Sales</th>\n",
              "    </tr>\n",
              "  </thead>\n",
              "  <tbody>\n",
              "    <tr>\n",
              "      <th>1</th>\n",
              "      <td>Wii</td>\n",
              "      <td>2009.0</td>\n",
              "      <td>Action</td>\n",
              "      <td>180000.0</td>\n",
              "    </tr>\n",
              "    <tr>\n",
              "      <th>4</th>\n",
              "      <td>PS3</td>\n",
              "      <td>2010.0</td>\n",
              "      <td>Platform</td>\n",
              "      <td>250000.0</td>\n",
              "    </tr>\n",
              "    <tr>\n",
              "      <th>6</th>\n",
              "      <td>PC</td>\n",
              "      <td>2011.0</td>\n",
              "      <td>Simulation</td>\n",
              "      <td>30000.0</td>\n",
              "    </tr>\n",
              "    <tr>\n",
              "      <th>8</th>\n",
              "      <td>PS3</td>\n",
              "      <td>2007.0</td>\n",
              "      <td>Adventure</td>\n",
              "      <td>40000.0</td>\n",
              "    </tr>\n",
              "    <tr>\n",
              "      <th>9</th>\n",
              "      <td>PS3</td>\n",
              "      <td>2011.0</td>\n",
              "      <td>Action</td>\n",
              "      <td>80000.0</td>\n",
              "    </tr>\n",
              "    <tr>\n",
              "      <th>...</th>\n",
              "      <td>...</td>\n",
              "      <td>...</td>\n",
              "      <td>...</td>\n",
              "      <td>...</td>\n",
              "    </tr>\n",
              "    <tr>\n",
              "      <th>16583</th>\n",
              "      <td>Wii</td>\n",
              "      <td>2009.0</td>\n",
              "      <td>Action</td>\n",
              "      <td>1430000.0</td>\n",
              "    </tr>\n",
              "    <tr>\n",
              "      <th>16588</th>\n",
              "      <td>PS3</td>\n",
              "      <td>2011.0</td>\n",
              "      <td>Shooter</td>\n",
              "      <td>180000.0</td>\n",
              "    </tr>\n",
              "    <tr>\n",
              "      <th>16590</th>\n",
              "      <td>PS3</td>\n",
              "      <td>2010.0</td>\n",
              "      <td>Adventure</td>\n",
              "      <td>50000.0</td>\n",
              "    </tr>\n",
              "    <tr>\n",
              "      <th>16591</th>\n",
              "      <td>PS2</td>\n",
              "      <td>2004.0</td>\n",
              "      <td>Sports</td>\n",
              "      <td>4530000.0</td>\n",
              "    </tr>\n",
              "    <tr>\n",
              "      <th>16595</th>\n",
              "      <td>PS3</td>\n",
              "      <td>2015.0</td>\n",
              "      <td>Sports</td>\n",
              "      <td>790000.0</td>\n",
              "    </tr>\n",
              "  </tbody>\n",
              "</table>\n",
              "<p>6870 rows × 4 columns</p>\n",
              "</div>"
            ],
            "text/plain": [
              "      Platform    Year       Genre  Total_Sales\n",
              "1          Wii  2009.0      Action     180000.0\n",
              "4          PS3  2010.0    Platform     250000.0\n",
              "6           PC  2011.0  Simulation      30000.0\n",
              "8          PS3  2007.0   Adventure      40000.0\n",
              "9          PS3  2011.0      Action      80000.0\n",
              "...        ...     ...         ...          ...\n",
              "16583      Wii  2009.0      Action    1430000.0\n",
              "16588      PS3  2011.0     Shooter     180000.0\n",
              "16590      PS3  2010.0   Adventure      50000.0\n",
              "16591      PS2  2004.0      Sports    4530000.0\n",
              "16595      PS3  2015.0      Sports     790000.0\n",
              "\n",
              "[6870 rows x 4 columns]"
            ]
          },
          "metadata": {
            "tags": []
          },
          "execution_count": 49
        }
      ]
    },
    {
      "cell_type": "code",
      "metadata": {
        "id": "uH5etu0z1N6o"
      },
      "source": [
        "chi_test_data = chi_test_data.groupby(['Platform', 'Year']).Total_Sales.sum()\n",
        "chi_test_data = pd.DataFrame(chi_test_data)\n",
        "chi_test_data.reset_index(inplace = True)"
      ],
      "execution_count": 50,
      "outputs": []
    },
    {
      "cell_type": "code",
      "metadata": {
        "colab": {
          "base_uri": "https://localhost:8080/",
          "height": 408
        },
        "id": "QlXO3XUZ2tyk",
        "outputId": "791d5956-fc57-4648-d258-83860afaea56"
      },
      "source": [
        "chi_test_data"
      ],
      "execution_count": 51,
      "outputs": [
        {
          "output_type": "execute_result",
          "data": {
            "text/html": [
              "<div>\n",
              "<style scoped>\n",
              "    .dataframe tbody tr th:only-of-type {\n",
              "        vertical-align: middle;\n",
              "    }\n",
              "\n",
              "    .dataframe tbody tr th {\n",
              "        vertical-align: top;\n",
              "    }\n",
              "\n",
              "    .dataframe thead th {\n",
              "        text-align: right;\n",
              "    }\n",
              "</style>\n",
              "<table border=\"1\" class=\"dataframe\">\n",
              "  <thead>\n",
              "    <tr style=\"text-align: right;\">\n",
              "      <th></th>\n",
              "      <th>Platform</th>\n",
              "      <th>Year</th>\n",
              "      <th>Total_Sales</th>\n",
              "    </tr>\n",
              "  </thead>\n",
              "  <tbody>\n",
              "    <tr>\n",
              "      <th>0</th>\n",
              "      <td>PC</td>\n",
              "      <td>1985.0</td>\n",
              "      <td>40000.0</td>\n",
              "    </tr>\n",
              "    <tr>\n",
              "      <th>1</th>\n",
              "      <td>PC</td>\n",
              "      <td>1988.0</td>\n",
              "      <td>30000.0</td>\n",
              "    </tr>\n",
              "    <tr>\n",
              "      <th>2</th>\n",
              "      <td>PC</td>\n",
              "      <td>1992.0</td>\n",
              "      <td>3010000.0</td>\n",
              "    </tr>\n",
              "    <tr>\n",
              "      <th>3</th>\n",
              "      <td>PC</td>\n",
              "      <td>1994.0</td>\n",
              "      <td>12860000.0</td>\n",
              "    </tr>\n",
              "    <tr>\n",
              "      <th>4</th>\n",
              "      <td>PC</td>\n",
              "      <td>1995.0</td>\n",
              "      <td>4210000.0</td>\n",
              "    </tr>\n",
              "    <tr>\n",
              "      <th>...</th>\n",
              "      <td>...</td>\n",
              "      <td>...</td>\n",
              "      <td>...</td>\n",
              "    </tr>\n",
              "    <tr>\n",
              "      <th>66</th>\n",
              "      <td>X360</td>\n",
              "      <td>2012.0</td>\n",
              "      <td>100820000.0</td>\n",
              "    </tr>\n",
              "    <tr>\n",
              "      <th>67</th>\n",
              "      <td>X360</td>\n",
              "      <td>2013.0</td>\n",
              "      <td>89560000.0</td>\n",
              "    </tr>\n",
              "    <tr>\n",
              "      <th>68</th>\n",
              "      <td>X360</td>\n",
              "      <td>2014.0</td>\n",
              "      <td>36420000.0</td>\n",
              "    </tr>\n",
              "    <tr>\n",
              "      <th>69</th>\n",
              "      <td>X360</td>\n",
              "      <td>2015.0</td>\n",
              "      <td>13020000.0</td>\n",
              "    </tr>\n",
              "    <tr>\n",
              "      <th>70</th>\n",
              "      <td>X360</td>\n",
              "      <td>2016.0</td>\n",
              "      <td>830000.0</td>\n",
              "    </tr>\n",
              "  </tbody>\n",
              "</table>\n",
              "<p>71 rows × 3 columns</p>\n",
              "</div>"
            ],
            "text/plain": [
              "   Platform    Year  Total_Sales\n",
              "0        PC  1985.0      40000.0\n",
              "1        PC  1988.0      30000.0\n",
              "2        PC  1992.0    3010000.0\n",
              "3        PC  1994.0   12860000.0\n",
              "4        PC  1995.0    4210000.0\n",
              "..      ...     ...          ...\n",
              "66     X360  2012.0  100820000.0\n",
              "67     X360  2013.0   89560000.0\n",
              "68     X360  2014.0   36420000.0\n",
              "69     X360  2015.0   13020000.0\n",
              "70     X360  2016.0     830000.0\n",
              "\n",
              "[71 rows x 3 columns]"
            ]
          },
          "metadata": {
            "tags": []
          },
          "execution_count": 51
        }
      ]
    },
    {
      "cell_type": "code",
      "metadata": {
        "colab": {
          "base_uri": "https://localhost:8080/",
          "height": 865
        },
        "id": "vGN_I1UI2wGW",
        "outputId": "a13a387c-9270-443d-8e1b-df9a1d8a99c7"
      },
      "source": [
        "chi_test_data = chi_test_data.pivot('Year', 'Platform', 'Total_Sales')\n",
        "chi_test_data\n",
        "\n",
        "#플랫폼: PC, PC3, Wii, X360 \n",
        "#기간: 2006, 2015  으로 설정해보고자 한다. "
      ],
      "execution_count": 52,
      "outputs": [
        {
          "output_type": "execute_result",
          "data": {
            "text/html": [
              "<div>\n",
              "<style scoped>\n",
              "    .dataframe tbody tr th:only-of-type {\n",
              "        vertical-align: middle;\n",
              "    }\n",
              "\n",
              "    .dataframe tbody tr th {\n",
              "        vertical-align: top;\n",
              "    }\n",
              "\n",
              "    .dataframe thead th {\n",
              "        text-align: right;\n",
              "    }\n",
              "</style>\n",
              "<table border=\"1\" class=\"dataframe\">\n",
              "  <thead>\n",
              "    <tr style=\"text-align: right;\">\n",
              "      <th>Platform</th>\n",
              "      <th>PC</th>\n",
              "      <th>PS2</th>\n",
              "      <th>PS3</th>\n",
              "      <th>Wii</th>\n",
              "      <th>X360</th>\n",
              "    </tr>\n",
              "    <tr>\n",
              "      <th>Year</th>\n",
              "      <th></th>\n",
              "      <th></th>\n",
              "      <th></th>\n",
              "      <th></th>\n",
              "      <th></th>\n",
              "    </tr>\n",
              "  </thead>\n",
              "  <tbody>\n",
              "    <tr>\n",
              "      <th>1985.0</th>\n",
              "      <td>40000.0</td>\n",
              "      <td>NaN</td>\n",
              "      <td>NaN</td>\n",
              "      <td>NaN</td>\n",
              "      <td>NaN</td>\n",
              "    </tr>\n",
              "    <tr>\n",
              "      <th>1988.0</th>\n",
              "      <td>30000.0</td>\n",
              "      <td>NaN</td>\n",
              "      <td>NaN</td>\n",
              "      <td>NaN</td>\n",
              "      <td>NaN</td>\n",
              "    </tr>\n",
              "    <tr>\n",
              "      <th>1992.0</th>\n",
              "      <td>3010000.0</td>\n",
              "      <td>NaN</td>\n",
              "      <td>NaN</td>\n",
              "      <td>NaN</td>\n",
              "      <td>NaN</td>\n",
              "    </tr>\n",
              "    <tr>\n",
              "      <th>1994.0</th>\n",
              "      <td>12860000.0</td>\n",
              "      <td>NaN</td>\n",
              "      <td>NaN</td>\n",
              "      <td>NaN</td>\n",
              "      <td>NaN</td>\n",
              "    </tr>\n",
              "    <tr>\n",
              "      <th>1995.0</th>\n",
              "      <td>4210000.0</td>\n",
              "      <td>NaN</td>\n",
              "      <td>NaN</td>\n",
              "      <td>NaN</td>\n",
              "      <td>NaN</td>\n",
              "    </tr>\n",
              "    <tr>\n",
              "      <th>1996.0</th>\n",
              "      <td>10580000.0</td>\n",
              "      <td>NaN</td>\n",
              "      <td>NaN</td>\n",
              "      <td>NaN</td>\n",
              "      <td>NaN</td>\n",
              "    </tr>\n",
              "    <tr>\n",
              "      <th>1997.0</th>\n",
              "      <td>11270000.0</td>\n",
              "      <td>NaN</td>\n",
              "      <td>NaN</td>\n",
              "      <td>NaN</td>\n",
              "      <td>NaN</td>\n",
              "    </tr>\n",
              "    <tr>\n",
              "      <th>1998.0</th>\n",
              "      <td>3280000.0</td>\n",
              "      <td>NaN</td>\n",
              "      <td>NaN</td>\n",
              "      <td>NaN</td>\n",
              "      <td>NaN</td>\n",
              "    </tr>\n",
              "    <tr>\n",
              "      <th>1999.0</th>\n",
              "      <td>4750000.0</td>\n",
              "      <td>NaN</td>\n",
              "      <td>NaN</td>\n",
              "      <td>NaN</td>\n",
              "      <td>NaN</td>\n",
              "    </tr>\n",
              "    <tr>\n",
              "      <th>2000.0</th>\n",
              "      <td>4650000.0</td>\n",
              "      <td>39170000.0</td>\n",
              "      <td>NaN</td>\n",
              "      <td>NaN</td>\n",
              "      <td>NaN</td>\n",
              "    </tr>\n",
              "    <tr>\n",
              "      <th>2001.0</th>\n",
              "      <td>5500000.0</td>\n",
              "      <td>163730000.0</td>\n",
              "      <td>NaN</td>\n",
              "      <td>NaN</td>\n",
              "      <td>NaN</td>\n",
              "    </tr>\n",
              "    <tr>\n",
              "      <th>2002.0</th>\n",
              "      <td>8570000.0</td>\n",
              "      <td>205380000.0</td>\n",
              "      <td>NaN</td>\n",
              "      <td>NaN</td>\n",
              "      <td>NaN</td>\n",
              "    </tr>\n",
              "    <tr>\n",
              "      <th>2003.0</th>\n",
              "      <td>8910000.0</td>\n",
              "      <td>184310000.0</td>\n",
              "      <td>NaN</td>\n",
              "      <td>NaN</td>\n",
              "      <td>NaN</td>\n",
              "    </tr>\n",
              "    <tr>\n",
              "      <th>2004.0</th>\n",
              "      <td>10390000.0</td>\n",
              "      <td>210470000.0</td>\n",
              "      <td>NaN</td>\n",
              "      <td>NaN</td>\n",
              "      <td>NaN</td>\n",
              "    </tr>\n",
              "    <tr>\n",
              "      <th>2005.0</th>\n",
              "      <td>4400000.0</td>\n",
              "      <td>160660000.0</td>\n",
              "      <td>NaN</td>\n",
              "      <td>NaN</td>\n",
              "      <td>8310000.0</td>\n",
              "    </tr>\n",
              "    <tr>\n",
              "      <th>2006.0</th>\n",
              "      <td>2910000.0</td>\n",
              "      <td>97470000.0</td>\n",
              "      <td>21060000.0</td>\n",
              "      <td>137850000.0</td>\n",
              "      <td>51940000.0</td>\n",
              "    </tr>\n",
              "    <tr>\n",
              "      <th>2007.0</th>\n",
              "      <td>9330000.0</td>\n",
              "      <td>75990000.0</td>\n",
              "      <td>73570000.0</td>\n",
              "      <td>154600000.0</td>\n",
              "      <td>95650000.0</td>\n",
              "    </tr>\n",
              "    <tr>\n",
              "      <th>2008.0</th>\n",
              "      <td>11650000.0</td>\n",
              "      <td>53290000.0</td>\n",
              "      <td>119800000.0</td>\n",
              "      <td>173980000.0</td>\n",
              "      <td>135660000.0</td>\n",
              "    </tr>\n",
              "    <tr>\n",
              "      <th>2009.0</th>\n",
              "      <td>17130000.0</td>\n",
              "      <td>26400000.0</td>\n",
              "      <td>131120000.0</td>\n",
              "      <td>210260000.0</td>\n",
              "      <td>120890000.0</td>\n",
              "    </tr>\n",
              "    <tr>\n",
              "      <th>2010.0</th>\n",
              "      <td>24220000.0</td>\n",
              "      <td>5120000.0</td>\n",
              "      <td>144380000.0</td>\n",
              "      <td>123290000.0</td>\n",
              "      <td>170950000.0</td>\n",
              "    </tr>\n",
              "    <tr>\n",
              "      <th>2011.0</th>\n",
              "      <td>35000000.0</td>\n",
              "      <td>450000.0</td>\n",
              "      <td>159370000.0</td>\n",
              "      <td>62020000.0</td>\n",
              "      <td>144540000.0</td>\n",
              "    </tr>\n",
              "    <tr>\n",
              "      <th>2012.0</th>\n",
              "      <td>23500000.0</td>\n",
              "      <td>NaN</td>\n",
              "      <td>108320000.0</td>\n",
              "      <td>22780000.0</td>\n",
              "      <td>100820000.0</td>\n",
              "    </tr>\n",
              "    <tr>\n",
              "      <th>2013.0</th>\n",
              "      <td>12800000.0</td>\n",
              "      <td>NaN</td>\n",
              "      <td>117420000.0</td>\n",
              "      <td>9380000.0</td>\n",
              "      <td>89560000.0</td>\n",
              "    </tr>\n",
              "    <tr>\n",
              "      <th>2014.0</th>\n",
              "      <td>13330000.0</td>\n",
              "      <td>NaN</td>\n",
              "      <td>50970000.0</td>\n",
              "      <td>4430000.0</td>\n",
              "      <td>36420000.0</td>\n",
              "    </tr>\n",
              "    <tr>\n",
              "      <th>2015.0</th>\n",
              "      <td>8030000.0</td>\n",
              "      <td>NaN</td>\n",
              "      <td>18180000.0</td>\n",
              "      <td>1560000.0</td>\n",
              "      <td>13020000.0</td>\n",
              "    </tr>\n",
              "    <tr>\n",
              "      <th>2016.0</th>\n",
              "      <td>2600000.0</td>\n",
              "      <td>NaN</td>\n",
              "      <td>2550000.0</td>\n",
              "      <td>NaN</td>\n",
              "      <td>830000.0</td>\n",
              "    </tr>\n",
              "  </tbody>\n",
              "</table>\n",
              "</div>"
            ],
            "text/plain": [
              "Platform          PC          PS2          PS3          Wii         X360\n",
              "Year                                                                    \n",
              "1985.0       40000.0          NaN          NaN          NaN          NaN\n",
              "1988.0       30000.0          NaN          NaN          NaN          NaN\n",
              "1992.0     3010000.0          NaN          NaN          NaN          NaN\n",
              "1994.0    12860000.0          NaN          NaN          NaN          NaN\n",
              "1995.0     4210000.0          NaN          NaN          NaN          NaN\n",
              "1996.0    10580000.0          NaN          NaN          NaN          NaN\n",
              "1997.0    11270000.0          NaN          NaN          NaN          NaN\n",
              "1998.0     3280000.0          NaN          NaN          NaN          NaN\n",
              "1999.0     4750000.0          NaN          NaN          NaN          NaN\n",
              "2000.0     4650000.0   39170000.0          NaN          NaN          NaN\n",
              "2001.0     5500000.0  163730000.0          NaN          NaN          NaN\n",
              "2002.0     8570000.0  205380000.0          NaN          NaN          NaN\n",
              "2003.0     8910000.0  184310000.0          NaN          NaN          NaN\n",
              "2004.0    10390000.0  210470000.0          NaN          NaN          NaN\n",
              "2005.0     4400000.0  160660000.0          NaN          NaN    8310000.0\n",
              "2006.0     2910000.0   97470000.0   21060000.0  137850000.0   51940000.0\n",
              "2007.0     9330000.0   75990000.0   73570000.0  154600000.0   95650000.0\n",
              "2008.0    11650000.0   53290000.0  119800000.0  173980000.0  135660000.0\n",
              "2009.0    17130000.0   26400000.0  131120000.0  210260000.0  120890000.0\n",
              "2010.0    24220000.0    5120000.0  144380000.0  123290000.0  170950000.0\n",
              "2011.0    35000000.0     450000.0  159370000.0   62020000.0  144540000.0\n",
              "2012.0    23500000.0          NaN  108320000.0   22780000.0  100820000.0\n",
              "2013.0    12800000.0          NaN  117420000.0    9380000.0   89560000.0\n",
              "2014.0    13330000.0          NaN   50970000.0    4430000.0   36420000.0\n",
              "2015.0     8030000.0          NaN   18180000.0    1560000.0   13020000.0\n",
              "2016.0     2600000.0          NaN    2550000.0          NaN     830000.0"
            ]
          },
          "metadata": {
            "tags": []
          },
          "execution_count": 52
        }
      ]
    },
    {
      "cell_type": "code",
      "metadata": {
        "colab": {
          "base_uri": "https://localhost:8080/",
          "height": 381
        },
        "id": "t_V_gzed4o5k",
        "outputId": "05df18e4-a62e-4f98-f252-66546c692140"
      },
      "source": [
        "chi_test_data1 = chi_test_data[['PC', 'PS3', 'Wii', 'X360']]\n",
        "chi_test_data1 = chi_test_data1.iloc[15:-1]\n",
        "chi_test_data1"
      ],
      "execution_count": 53,
      "outputs": [
        {
          "output_type": "execute_result",
          "data": {
            "text/html": [
              "<div>\n",
              "<style scoped>\n",
              "    .dataframe tbody tr th:only-of-type {\n",
              "        vertical-align: middle;\n",
              "    }\n",
              "\n",
              "    .dataframe tbody tr th {\n",
              "        vertical-align: top;\n",
              "    }\n",
              "\n",
              "    .dataframe thead th {\n",
              "        text-align: right;\n",
              "    }\n",
              "</style>\n",
              "<table border=\"1\" class=\"dataframe\">\n",
              "  <thead>\n",
              "    <tr style=\"text-align: right;\">\n",
              "      <th>Platform</th>\n",
              "      <th>PC</th>\n",
              "      <th>PS3</th>\n",
              "      <th>Wii</th>\n",
              "      <th>X360</th>\n",
              "    </tr>\n",
              "    <tr>\n",
              "      <th>Year</th>\n",
              "      <th></th>\n",
              "      <th></th>\n",
              "      <th></th>\n",
              "      <th></th>\n",
              "    </tr>\n",
              "  </thead>\n",
              "  <tbody>\n",
              "    <tr>\n",
              "      <th>2006.0</th>\n",
              "      <td>2910000.0</td>\n",
              "      <td>21060000.0</td>\n",
              "      <td>137850000.0</td>\n",
              "      <td>51940000.0</td>\n",
              "    </tr>\n",
              "    <tr>\n",
              "      <th>2007.0</th>\n",
              "      <td>9330000.0</td>\n",
              "      <td>73570000.0</td>\n",
              "      <td>154600000.0</td>\n",
              "      <td>95650000.0</td>\n",
              "    </tr>\n",
              "    <tr>\n",
              "      <th>2008.0</th>\n",
              "      <td>11650000.0</td>\n",
              "      <td>119800000.0</td>\n",
              "      <td>173980000.0</td>\n",
              "      <td>135660000.0</td>\n",
              "    </tr>\n",
              "    <tr>\n",
              "      <th>2009.0</th>\n",
              "      <td>17130000.0</td>\n",
              "      <td>131120000.0</td>\n",
              "      <td>210260000.0</td>\n",
              "      <td>120890000.0</td>\n",
              "    </tr>\n",
              "    <tr>\n",
              "      <th>2010.0</th>\n",
              "      <td>24220000.0</td>\n",
              "      <td>144380000.0</td>\n",
              "      <td>123290000.0</td>\n",
              "      <td>170950000.0</td>\n",
              "    </tr>\n",
              "    <tr>\n",
              "      <th>2011.0</th>\n",
              "      <td>35000000.0</td>\n",
              "      <td>159370000.0</td>\n",
              "      <td>62020000.0</td>\n",
              "      <td>144540000.0</td>\n",
              "    </tr>\n",
              "    <tr>\n",
              "      <th>2012.0</th>\n",
              "      <td>23500000.0</td>\n",
              "      <td>108320000.0</td>\n",
              "      <td>22780000.0</td>\n",
              "      <td>100820000.0</td>\n",
              "    </tr>\n",
              "    <tr>\n",
              "      <th>2013.0</th>\n",
              "      <td>12800000.0</td>\n",
              "      <td>117420000.0</td>\n",
              "      <td>9380000.0</td>\n",
              "      <td>89560000.0</td>\n",
              "    </tr>\n",
              "    <tr>\n",
              "      <th>2014.0</th>\n",
              "      <td>13330000.0</td>\n",
              "      <td>50970000.0</td>\n",
              "      <td>4430000.0</td>\n",
              "      <td>36420000.0</td>\n",
              "    </tr>\n",
              "    <tr>\n",
              "      <th>2015.0</th>\n",
              "      <td>8030000.0</td>\n",
              "      <td>18180000.0</td>\n",
              "      <td>1560000.0</td>\n",
              "      <td>13020000.0</td>\n",
              "    </tr>\n",
              "  </tbody>\n",
              "</table>\n",
              "</div>"
            ],
            "text/plain": [
              "Platform          PC          PS3          Wii         X360\n",
              "Year                                                       \n",
              "2006.0     2910000.0   21060000.0  137850000.0   51940000.0\n",
              "2007.0     9330000.0   73570000.0  154600000.0   95650000.0\n",
              "2008.0    11650000.0  119800000.0  173980000.0  135660000.0\n",
              "2009.0    17130000.0  131120000.0  210260000.0  120890000.0\n",
              "2010.0    24220000.0  144380000.0  123290000.0  170950000.0\n",
              "2011.0    35000000.0  159370000.0   62020000.0  144540000.0\n",
              "2012.0    23500000.0  108320000.0   22780000.0  100820000.0\n",
              "2013.0    12800000.0  117420000.0    9380000.0   89560000.0\n",
              "2014.0    13330000.0   50970000.0    4430000.0   36420000.0\n",
              "2015.0     8030000.0   18180000.0    1560000.0   13020000.0"
            ]
          },
          "metadata": {
            "tags": []
          },
          "execution_count": 53
        }
      ]
    },
    {
      "cell_type": "code",
      "metadata": {
        "colab": {
          "base_uri": "https://localhost:8080/"
        },
        "id": "FE-Gv-qB6HK7",
        "outputId": "f144a5d5-ae9e-41f1-8fea-79fdee30faef"
      },
      "source": [
        "from scipy.stats import chi2_contingency\n",
        "\n",
        "chi2_contingency(chi_test_data1)\n",
        "\n",
        "#데이터를 가지고 있는 기간과 플랫폼에 한해 카이검정을 진행, 0.0 p-value로 귀무가설 기각."
      ],
      "execution_count": 54,
      "outputs": [
        {
          "output_type": "execute_result",
          "data": {
            "text/plain": [
              "(496505989.85518503,\n",
              " 0.0,\n",
              " 27,\n",
              " array([[1.13964338e+07, 6.81469210e+07, 6.49683336e+07, 6.92483116e+07],\n",
              "        [1.77616108e+07, 1.06208583e+08, 1.01254680e+08, 1.07925126e+08],\n",
              "        [2.35163407e+07, 1.40619973e+08, 1.34061014e+08, 1.42892673e+08],\n",
              "        [2.55588060e+07, 1.52833243e+08, 1.45704618e+08, 1.55303334e+08],\n",
              "        [2.46759235e+07, 1.47553896e+08, 1.40671517e+08, 1.49938663e+08],\n",
              "        [2.13752442e+07, 1.27816921e+08, 1.21855137e+08, 1.29882698e+08],\n",
              "        [1.36175015e+07, 8.14281744e+07, 7.76301075e+07, 8.27442166e+07],\n",
              "        [1.22174718e+07, 7.30564578e+07, 6.96488741e+07, 7.42371963e+07],\n",
              "        [5.60598341e+06, 3.35219346e+07, 3.19583658e+07, 3.40637162e+07],\n",
              "        [2.17468439e+06, 1.30038965e+07, 1.23973537e+07, 1.32140654e+07]]))"
            ]
          },
          "metadata": {
            "tags": []
          },
          "execution_count": 54
        }
      ]
    },
    {
      "cell_type": "code",
      "metadata": {
        "id": "xo0coxkqGWww",
        "colab": {
          "base_uri": "https://localhost:8080/",
          "height": 1000
        },
        "outputId": "dc6a1279-2f2c-4878-c95a-78fdcf75a9d5"
      },
      "source": [
        "#데이터 솎아내기 없이, 전체데이터 카이제곱 검정 진행\n",
        "\n",
        "year_platform.T"
      ],
      "execution_count": 55,
      "outputs": [
        {
          "output_type": "execute_result",
          "data": {
            "text/html": [
              "<div>\n",
              "<style scoped>\n",
              "    .dataframe tbody tr th:only-of-type {\n",
              "        vertical-align: middle;\n",
              "    }\n",
              "\n",
              "    .dataframe tbody tr th {\n",
              "        vertical-align: top;\n",
              "    }\n",
              "\n",
              "    .dataframe thead th {\n",
              "        text-align: right;\n",
              "    }\n",
              "</style>\n",
              "<table border=\"1\" class=\"dataframe\">\n",
              "  <thead>\n",
              "    <tr style=\"text-align: right;\">\n",
              "      <th>Year</th>\n",
              "      <th>1980</th>\n",
              "      <th>1990</th>\n",
              "      <th>2000</th>\n",
              "      <th>2010</th>\n",
              "      <th>2020</th>\n",
              "    </tr>\n",
              "    <tr>\n",
              "      <th>Platform</th>\n",
              "      <th></th>\n",
              "      <th></th>\n",
              "      <th></th>\n",
              "      <th></th>\n",
              "      <th></th>\n",
              "    </tr>\n",
              "  </thead>\n",
              "  <tbody>\n",
              "    <tr>\n",
              "      <th>2600</th>\n",
              "      <td>85980000.0</td>\n",
              "      <td>0.0</td>\n",
              "      <td>0.000000e+00</td>\n",
              "      <td>0.0</td>\n",
              "      <td>0.0</td>\n",
              "    </tr>\n",
              "    <tr>\n",
              "      <th>3DO</th>\n",
              "      <td>0.0</td>\n",
              "      <td>100000.0</td>\n",
              "      <td>0.000000e+00</td>\n",
              "      <td>0.0</td>\n",
              "      <td>0.0</td>\n",
              "    </tr>\n",
              "    <tr>\n",
              "      <th>3DS</th>\n",
              "      <td>0.0</td>\n",
              "      <td>0.0</td>\n",
              "      <td>0.000000e+00</td>\n",
              "      <td>231820000.0</td>\n",
              "      <td>0.0</td>\n",
              "    </tr>\n",
              "    <tr>\n",
              "      <th>DC</th>\n",
              "      <td>0.0</td>\n",
              "      <td>8540000.0</td>\n",
              "      <td>7.410000e+06</td>\n",
              "      <td>0.0</td>\n",
              "      <td>0.0</td>\n",
              "    </tr>\n",
              "    <tr>\n",
              "      <th>DS</th>\n",
              "      <td>20000.0</td>\n",
              "      <td>0.0</td>\n",
              "      <td>6.875700e+08</td>\n",
              "      <td>129310000.0</td>\n",
              "      <td>290000.0</td>\n",
              "    </tr>\n",
              "    <tr>\n",
              "      <th>GB</th>\n",
              "      <td>66400000.0</td>\n",
              "      <td>159030000.0</td>\n",
              "      <td>2.900000e+07</td>\n",
              "      <td>0.0</td>\n",
              "      <td>0.0</td>\n",
              "    </tr>\n",
              "    <tr>\n",
              "      <th>GBA</th>\n",
              "      <td>0.0</td>\n",
              "      <td>0.0</td>\n",
              "      <td>3.047600e+08</td>\n",
              "      <td>0.0</td>\n",
              "      <td>0.0</td>\n",
              "    </tr>\n",
              "    <tr>\n",
              "      <th>GC</th>\n",
              "      <td>0.0</td>\n",
              "      <td>0.0</td>\n",
              "      <td>1.960200e+08</td>\n",
              "      <td>0.0</td>\n",
              "      <td>0.0</td>\n",
              "    </tr>\n",
              "    <tr>\n",
              "      <th>GEN</th>\n",
              "      <td>0.0</td>\n",
              "      <td>28350000.0</td>\n",
              "      <td>0.000000e+00</td>\n",
              "      <td>0.0</td>\n",
              "      <td>0.0</td>\n",
              "    </tr>\n",
              "    <tr>\n",
              "      <th>GG</th>\n",
              "      <td>0.0</td>\n",
              "      <td>40000.0</td>\n",
              "      <td>0.000000e+00</td>\n",
              "      <td>0.0</td>\n",
              "      <td>0.0</td>\n",
              "    </tr>\n",
              "    <tr>\n",
              "      <th>N64</th>\n",
              "      <td>0.0</td>\n",
              "      <td>179550000.0</td>\n",
              "      <td>3.721000e+07</td>\n",
              "      <td>0.0</td>\n",
              "      <td>0.0</td>\n",
              "    </tr>\n",
              "    <tr>\n",
              "      <th>NES</th>\n",
              "      <td>223510000.0</td>\n",
              "      <td>27540000.0</td>\n",
              "      <td>0.000000e+00</td>\n",
              "      <td>0.0</td>\n",
              "      <td>0.0</td>\n",
              "    </tr>\n",
              "    <tr>\n",
              "      <th>NG</th>\n",
              "      <td>0.0</td>\n",
              "      <td>1440000.0</td>\n",
              "      <td>0.000000e+00</td>\n",
              "      <td>0.0</td>\n",
              "      <td>0.0</td>\n",
              "    </tr>\n",
              "    <tr>\n",
              "      <th>PC</th>\n",
              "      <td>70000.0</td>\n",
              "      <td>49960000.0</td>\n",
              "      <td>8.344000e+07</td>\n",
              "      <td>119480000.0</td>\n",
              "      <td>0.0</td>\n",
              "    </tr>\n",
              "    <tr>\n",
              "      <th>PCFX</th>\n",
              "      <td>0.0</td>\n",
              "      <td>30000.0</td>\n",
              "      <td>0.000000e+00</td>\n",
              "      <td>0.0</td>\n",
              "      <td>0.0</td>\n",
              "    </tr>\n",
              "    <tr>\n",
              "      <th>PS</th>\n",
              "      <td>0.0</td>\n",
              "      <td>584500000.0</td>\n",
              "      <td>1.406600e+08</td>\n",
              "      <td>0.0</td>\n",
              "      <td>0.0</td>\n",
              "    </tr>\n",
              "    <tr>\n",
              "      <th>PS2</th>\n",
              "      <td>0.0</td>\n",
              "      <td>0.0</td>\n",
              "      <td>1.216870e+09</td>\n",
              "      <td>5570000.0</td>\n",
              "      <td>0.0</td>\n",
              "    </tr>\n",
              "    <tr>\n",
              "      <th>PS3</th>\n",
              "      <td>0.0</td>\n",
              "      <td>0.0</td>\n",
              "      <td>3.455500e+08</td>\n",
              "      <td>601190000.0</td>\n",
              "      <td>0.0</td>\n",
              "    </tr>\n",
              "    <tr>\n",
              "      <th>PS4</th>\n",
              "      <td>0.0</td>\n",
              "      <td>0.0</td>\n",
              "      <td>0.000000e+00</td>\n",
              "      <td>275780000.0</td>\n",
              "      <td>0.0</td>\n",
              "    </tr>\n",
              "    <tr>\n",
              "      <th>PSP</th>\n",
              "      <td>0.0</td>\n",
              "      <td>0.0</td>\n",
              "      <td>2.265300e+08</td>\n",
              "      <td>64310000.0</td>\n",
              "      <td>0.0</td>\n",
              "    </tr>\n",
              "    <tr>\n",
              "      <th>PSV</th>\n",
              "      <td>0.0</td>\n",
              "      <td>0.0</td>\n",
              "      <td>0.000000e+00</td>\n",
              "      <td>61560000.0</td>\n",
              "      <td>0.0</td>\n",
              "    </tr>\n",
              "    <tr>\n",
              "      <th>SAT</th>\n",
              "      <td>0.0</td>\n",
              "      <td>33590000.0</td>\n",
              "      <td>0.000000e+00</td>\n",
              "      <td>0.0</td>\n",
              "      <td>0.0</td>\n",
              "    </tr>\n",
              "    <tr>\n",
              "      <th>SCD</th>\n",
              "      <td>0.0</td>\n",
              "      <td>1860000.0</td>\n",
              "      <td>0.000000e+00</td>\n",
              "      <td>0.0</td>\n",
              "      <td>0.0</td>\n",
              "    </tr>\n",
              "    <tr>\n",
              "      <th>SNES</th>\n",
              "      <td>0.0</td>\n",
              "      <td>200040000.0</td>\n",
              "      <td>0.000000e+00</td>\n",
              "      <td>0.0</td>\n",
              "      <td>0.0</td>\n",
              "    </tr>\n",
              "    <tr>\n",
              "      <th>TG16</th>\n",
              "      <td>0.0</td>\n",
              "      <td>160000.0</td>\n",
              "      <td>0.000000e+00</td>\n",
              "      <td>0.0</td>\n",
              "      <td>0.0</td>\n",
              "    </tr>\n",
              "    <tr>\n",
              "      <th>WS</th>\n",
              "      <td>0.0</td>\n",
              "      <td>460000.0</td>\n",
              "      <td>9.600000e+05</td>\n",
              "      <td>0.0</td>\n",
              "      <td>0.0</td>\n",
              "    </tr>\n",
              "    <tr>\n",
              "      <th>Wii</th>\n",
              "      <td>0.0</td>\n",
              "      <td>0.0</td>\n",
              "      <td>6.766900e+08</td>\n",
              "      <td>223460000.0</td>\n",
              "      <td>0.0</td>\n",
              "    </tr>\n",
              "    <tr>\n",
              "      <th>WiiU</th>\n",
              "      <td>0.0</td>\n",
              "      <td>0.0</td>\n",
              "      <td>0.000000e+00</td>\n",
              "      <td>81790000.0</td>\n",
              "      <td>0.0</td>\n",
              "    </tr>\n",
              "    <tr>\n",
              "      <th>X360</th>\n",
              "      <td>0.0</td>\n",
              "      <td>0.0</td>\n",
              "      <td>4.124500e+08</td>\n",
              "      <td>556140000.0</td>\n",
              "      <td>0.0</td>\n",
              "    </tr>\n",
              "    <tr>\n",
              "      <th>XB</th>\n",
              "      <td>0.0</td>\n",
              "      <td>0.0</td>\n",
              "      <td>2.473000e+08</td>\n",
              "      <td>0.0</td>\n",
              "      <td>0.0</td>\n",
              "    </tr>\n",
              "    <tr>\n",
              "      <th>XOne</th>\n",
              "      <td>0.0</td>\n",
              "      <td>0.0</td>\n",
              "      <td>0.000000e+00</td>\n",
              "      <td>141080000.0</td>\n",
              "      <td>0.0</td>\n",
              "    </tr>\n",
              "  </tbody>\n",
              "</table>\n",
              "</div>"
            ],
            "text/plain": [
              "Year             1980         1990          2000         2010      2020\n",
              "Platform                                                               \n",
              "2600       85980000.0          0.0  0.000000e+00          0.0       0.0\n",
              "3DO               0.0     100000.0  0.000000e+00          0.0       0.0\n",
              "3DS               0.0          0.0  0.000000e+00  231820000.0       0.0\n",
              "DC                0.0    8540000.0  7.410000e+06          0.0       0.0\n",
              "DS            20000.0          0.0  6.875700e+08  129310000.0  290000.0\n",
              "GB         66400000.0  159030000.0  2.900000e+07          0.0       0.0\n",
              "GBA               0.0          0.0  3.047600e+08          0.0       0.0\n",
              "GC                0.0          0.0  1.960200e+08          0.0       0.0\n",
              "GEN               0.0   28350000.0  0.000000e+00          0.0       0.0\n",
              "GG                0.0      40000.0  0.000000e+00          0.0       0.0\n",
              "N64               0.0  179550000.0  3.721000e+07          0.0       0.0\n",
              "NES       223510000.0   27540000.0  0.000000e+00          0.0       0.0\n",
              "NG                0.0    1440000.0  0.000000e+00          0.0       0.0\n",
              "PC            70000.0   49960000.0  8.344000e+07  119480000.0       0.0\n",
              "PCFX              0.0      30000.0  0.000000e+00          0.0       0.0\n",
              "PS                0.0  584500000.0  1.406600e+08          0.0       0.0\n",
              "PS2               0.0          0.0  1.216870e+09    5570000.0       0.0\n",
              "PS3               0.0          0.0  3.455500e+08  601190000.0       0.0\n",
              "PS4               0.0          0.0  0.000000e+00  275780000.0       0.0\n",
              "PSP               0.0          0.0  2.265300e+08   64310000.0       0.0\n",
              "PSV               0.0          0.0  0.000000e+00   61560000.0       0.0\n",
              "SAT               0.0   33590000.0  0.000000e+00          0.0       0.0\n",
              "SCD               0.0    1860000.0  0.000000e+00          0.0       0.0\n",
              "SNES              0.0  200040000.0  0.000000e+00          0.0       0.0\n",
              "TG16              0.0     160000.0  0.000000e+00          0.0       0.0\n",
              "WS                0.0     460000.0  9.600000e+05          0.0       0.0\n",
              "Wii               0.0          0.0  6.766900e+08  223460000.0       0.0\n",
              "WiiU              0.0          0.0  0.000000e+00   81790000.0       0.0\n",
              "X360              0.0          0.0  4.124500e+08  556140000.0       0.0\n",
              "XB                0.0          0.0  2.473000e+08          0.0       0.0\n",
              "XOne              0.0          0.0  0.000000e+00  141080000.0       0.0"
            ]
          },
          "metadata": {
            "tags": []
          },
          "execution_count": 55
        }
      ]
    },
    {
      "cell_type": "code",
      "metadata": {
        "id": "Y832kIxImlvC",
        "colab": {
          "base_uri": "https://localhost:8080/"
        },
        "outputId": "db6927f2-5017-4bc5-e07b-c69fe26f738f"
      },
      "source": [
        "from scipy.stats import chi2_contingency\n",
        "\n",
        "chi2_contingency(year_platform.T)\n",
        "\n",
        "#게임의 트랜드라고 할 수있는 플랫폼과 장르는 연도와 유의한 관련성이 있는 것으로 확인되었다."
      ],
      "execution_count": 56,
      "outputs": [
        {
          "output_type": "execute_result",
          "data": {
            "text/plain": [
              "(17753495838.216923,\n",
              " 0.0,\n",
              " 120,\n",
              " array([[3.69222093e+06, 1.25226959e+07, 4.52951585e+07, 2.44670768e+07,\n",
              "         2.84787508e+03],\n",
              "        [4.29427883e+03, 1.45646615e+04, 5.26810403e+04, 2.84567071e+04,\n",
              "         3.31225294e+00],\n",
              "        [9.95499717e+06, 3.37637982e+07, 1.22125188e+08, 6.59683385e+07,\n",
              "         7.67846476e+03],\n",
              "        [6.84937473e+05, 2.32306350e+06, 8.40262593e+06, 4.53884479e+06,\n",
              "         5.28304344e+02],\n",
              "        [3.50924171e+07, 1.19020957e+08, 4.30504193e+08, 2.32545365e+08,\n",
              "         2.70673998e+04],\n",
              "        [1.09259336e+07, 3.70568682e+07, 1.34036371e+08, 7.24024000e+07,\n",
              "         8.42736515e+03],\n",
              "        [1.30872441e+07, 4.43872623e+07, 1.60550738e+08, 8.67246607e+07,\n",
              "         1.00944221e+04],\n",
              "        [8.41764535e+06, 2.85496494e+07, 1.03265375e+08, 5.57808373e+07,\n",
              "         6.49267821e+03],\n",
              "        [1.21742805e+06, 4.12908152e+06, 1.49350749e+07, 8.06747647e+06,\n",
              "         9.39023708e+02],\n",
              "        [1.71771153e+03, 5.82586458e+03, 2.10724161e+04, 1.13826829e+04,\n",
              "         1.32490117e+00],\n",
              "        [9.30827878e+06, 3.15703602e+07, 1.14191423e+08, 6.16827584e+07,\n",
              "         7.17963947e+03],\n",
              "        [1.07807870e+07, 3.65645826e+07, 1.32255752e+08, 7.14405633e+07,\n",
              "         8.31541100e+03],\n",
              "        [6.18376151e+04, 2.09731125e+05, 7.58606981e+05, 4.09776583e+05,\n",
              "         4.76964423e+01],\n",
              "        [1.08623783e+07, 3.68413112e+07, 1.33256691e+08, 7.19812407e+07,\n",
              "         8.37834381e+03],\n",
              "        [1.28828365e+03, 4.36939844e+03, 1.58043121e+04, 8.53701214e+03,\n",
              "         9.93675881e-01],\n",
              "        [3.11403923e+07, 1.05617099e+08, 3.82021832e+08, 2.06356658e+08,\n",
              "         2.40191334e+04],\n",
              "        [5.24949821e+07, 1.78044248e+08, 6.43994109e+08, 3.47866171e+08,\n",
              "         4.04903048e+04],\n",
              "        [4.06556554e+07, 1.37889476e+08, 4.98752481e+08, 2.69411029e+08,\n",
              "         3.13584235e+04],\n",
              "        [1.18427621e+07, 4.01664234e+07, 1.45283773e+08, 7.84779070e+07,\n",
              "         9.13453115e+03],\n",
              "        [1.24894805e+07, 4.23598614e+07, 1.53217538e+08, 8.27634870e+07,\n",
              "         9.63335644e+03],\n",
              "        [2.64355804e+06, 8.96600559e+06, 3.24304484e+07, 1.75179489e+07,\n",
              "         2.03902291e+03],\n",
              "        [1.44244826e+06, 4.89226978e+06, 1.76955614e+07, 9.55860793e+06,\n",
              "         1.11258576e+03],\n",
              "        [7.98735862e+04, 2.70902703e+05, 9.79867350e+05, 5.29294753e+05,\n",
              "         6.16079046e+01],\n",
              "        [8.59027536e+06, 2.91351488e+07, 1.05383153e+08, 5.69247970e+07,\n",
              "         6.62583078e+03],\n",
              "        [6.87084612e+03, 2.33034583e+04, 8.42896645e+04, 4.55307314e+04,\n",
              "         5.29960470e+00],\n",
              "        [6.09787593e+04, 2.06818193e+05, 7.48070773e+05, 4.04085241e+05,\n",
              "         4.70339917e+01],\n",
              "        [3.86549508e+07, 1.31103800e+08, 4.74208384e+08, 2.56153049e+08,\n",
              "         2.98152448e+04],\n",
              "        [3.51229065e+06, 1.19124366e+07, 4.30878229e+07, 2.32747408e+07,\n",
              "         2.70909168e+03],\n",
              "        [4.15939553e+07, 1.41071854e+08, 5.10263288e+08, 2.75628820e+08,\n",
              "         3.20821507e+04],\n",
              "        [1.06197515e+07, 3.60184078e+07, 1.30280213e+08, 7.03734368e+07,\n",
              "         8.19120151e+03],\n",
              "        [6.05836857e+06, 2.05478244e+07, 7.43224117e+07, 4.01467224e+07,\n",
              "         4.67292644e+03]]))"
            ]
          },
          "metadata": {
            "tags": []
          },
          "execution_count": 56
        }
      ]
    },
    {
      "cell_type": "code",
      "metadata": {
        "id": "OeGlrJTbKMpG",
        "colab": {
          "base_uri": "https://localhost:8080/",
          "height": 441
        },
        "outputId": "16f64a79-8d85-46d5-b4d7-52ce02fd9159"
      },
      "source": [
        "year_genre.T"
      ],
      "execution_count": 57,
      "outputs": [
        {
          "output_type": "execute_result",
          "data": {
            "text/html": [
              "<div>\n",
              "<style scoped>\n",
              "    .dataframe tbody tr th:only-of-type {\n",
              "        vertical-align: middle;\n",
              "    }\n",
              "\n",
              "    .dataframe tbody tr th {\n",
              "        vertical-align: top;\n",
              "    }\n",
              "\n",
              "    .dataframe thead th {\n",
              "        text-align: right;\n",
              "    }\n",
              "</style>\n",
              "<table border=\"1\" class=\"dataframe\">\n",
              "  <thead>\n",
              "    <tr style=\"text-align: right;\">\n",
              "      <th>Year</th>\n",
              "      <th>1980</th>\n",
              "      <th>1990</th>\n",
              "      <th>2000</th>\n",
              "      <th>2010</th>\n",
              "      <th>2020</th>\n",
              "    </tr>\n",
              "    <tr>\n",
              "      <th>Genre</th>\n",
              "      <th></th>\n",
              "      <th></th>\n",
              "      <th></th>\n",
              "      <th></th>\n",
              "      <th></th>\n",
              "    </tr>\n",
              "  </thead>\n",
              "  <tbody>\n",
              "    <tr>\n",
              "      <th>Action</th>\n",
              "      <td>51100000.0</td>\n",
              "      <td>139150000.0</td>\n",
              "      <td>853130000.0</td>\n",
              "      <td>669600000.0</td>\n",
              "      <td>0.0</td>\n",
              "    </tr>\n",
              "    <tr>\n",
              "      <th>Adventure</th>\n",
              "      <td>4780000.0</td>\n",
              "      <td>44800000.0</td>\n",
              "      <td>123590000.0</td>\n",
              "      <td>60850000.0</td>\n",
              "      <td>0.0</td>\n",
              "    </tr>\n",
              "    <tr>\n",
              "      <th>Fighting</th>\n",
              "      <td>7240000.0</td>\n",
              "      <td>123510000.0</td>\n",
              "      <td>231260000.0</td>\n",
              "      <td>81530000.0</td>\n",
              "      <td>0.0</td>\n",
              "    </tr>\n",
              "    <tr>\n",
              "      <th>Misc</th>\n",
              "      <td>8440000.0</td>\n",
              "      <td>63430000.0</td>\n",
              "      <td>478530000.0</td>\n",
              "      <td>229300000.0</td>\n",
              "      <td>0.0</td>\n",
              "    </tr>\n",
              "    <tr>\n",
              "      <th>Platform</th>\n",
              "      <td>122260000.0</td>\n",
              "      <td>208870000.0</td>\n",
              "      <td>376130000.0</td>\n",
              "      <td>120730000.0</td>\n",
              "      <td>0.0</td>\n",
              "    </tr>\n",
              "    <tr>\n",
              "      <th>Puzzle</th>\n",
              "      <td>62750000.0</td>\n",
              "      <td>38940000.0</td>\n",
              "      <td>117860000.0</td>\n",
              "      <td>21180000.0</td>\n",
              "      <td>0.0</td>\n",
              "    </tr>\n",
              "    <tr>\n",
              "      <th>Racing</th>\n",
              "      <td>12100000.0</td>\n",
              "      <td>148810000.0</td>\n",
              "      <td>438000000.0</td>\n",
              "      <td>123640000.0</td>\n",
              "      <td>0.0</td>\n",
              "    </tr>\n",
              "    <tr>\n",
              "      <th>Role-Playing</th>\n",
              "      <td>15250000.0</td>\n",
              "      <td>182770000.0</td>\n",
              "      <td>412200000.0</td>\n",
              "      <td>291290000.0</td>\n",
              "      <td>0.0</td>\n",
              "    </tr>\n",
              "    <tr>\n",
              "      <th>Shooter</th>\n",
              "      <td>59770000.0</td>\n",
              "      <td>68890000.0</td>\n",
              "      <td>433450000.0</td>\n",
              "      <td>462640000.0</td>\n",
              "      <td>0.0</td>\n",
              "    </tr>\n",
              "    <tr>\n",
              "      <th>Simulation</th>\n",
              "      <td>510000.0</td>\n",
              "      <td>52040000.0</td>\n",
              "      <td>265640000.0</td>\n",
              "      <td>70800000.0</td>\n",
              "      <td>290000.0</td>\n",
              "    </tr>\n",
              "    <tr>\n",
              "      <th>Sports</th>\n",
              "      <td>31780000.0</td>\n",
              "      <td>146470000.0</td>\n",
              "      <td>802810000.0</td>\n",
              "      <td>324280000.0</td>\n",
              "      <td>0.0</td>\n",
              "    </tr>\n",
              "    <tr>\n",
              "      <th>Strategy</th>\n",
              "      <td>0.0</td>\n",
              "      <td>57510000.0</td>\n",
              "      <td>79820000.0</td>\n",
              "      <td>35650000.0</td>\n",
              "      <td>0.0</td>\n",
              "    </tr>\n",
              "  </tbody>\n",
              "</table>\n",
              "</div>"
            ],
            "text/plain": [
              "Year                 1980         1990         2000         2010      2020\n",
              "Genre                                                                     \n",
              "Action         51100000.0  139150000.0  853130000.0  669600000.0       0.0\n",
              "Adventure       4780000.0   44800000.0  123590000.0   60850000.0       0.0\n",
              "Fighting        7240000.0  123510000.0  231260000.0   81530000.0       0.0\n",
              "Misc            8440000.0   63430000.0  478530000.0  229300000.0       0.0\n",
              "Platform      122260000.0  208870000.0  376130000.0  120730000.0       0.0\n",
              "Puzzle         62750000.0   38940000.0  117860000.0   21180000.0       0.0\n",
              "Racing         12100000.0  148810000.0  438000000.0  123640000.0       0.0\n",
              "Role-Playing   15250000.0  182770000.0  412200000.0  291290000.0       0.0\n",
              "Shooter        59770000.0   68890000.0  433450000.0  462640000.0       0.0\n",
              "Simulation       510000.0   52040000.0  265640000.0   70800000.0  290000.0\n",
              "Sports         31780000.0  146470000.0  802810000.0  324280000.0       0.0\n",
              "Strategy              0.0   57510000.0   79820000.0   35650000.0       0.0"
            ]
          },
          "metadata": {
            "tags": []
          },
          "execution_count": 57
        }
      ]
    },
    {
      "cell_type": "code",
      "metadata": {
        "id": "noyrzA-8nalC",
        "colab": {
          "base_uri": "https://localhost:8080/"
        },
        "outputId": "d9bc1175-1fdc-4b78-d895-ef669dba3c25"
      },
      "source": [
        "chi2_contingency(year_genre.T)"
      ],
      "execution_count": 58,
      "outputs": [
        {
          "output_type": "execute_result",
          "data": {
            "text/plain": [
              "(1345002334.6257122,\n",
              " 0.0,\n",
              " 44,\n",
              " array([[7.35601374e+07, 2.49489738e+08, 9.02415684e+08, 4.87457702e+08,\n",
              "         5.67382304e+04],\n",
              "        [1.00494713e+07, 3.40842207e+07, 1.23284171e+08, 6.65943861e+07,\n",
              "         7.75133432e+03],\n",
              "        [1.90468443e+07, 6.46000994e+07, 2.33661486e+08, 1.26216879e+08,\n",
              "         1.46911667e+04],\n",
              "        [3.34824920e+07, 1.13560665e+08, 4.10754071e+08, 2.21876946e+08,\n",
              "         2.58256362e+04],\n",
              "        [3.55561992e+07, 1.20593940e+08, 4.36193746e+08, 2.35618689e+08,\n",
              "         2.74251231e+04],\n",
              "        [1.03376174e+07, 3.50615095e+07, 1.26819068e+08, 6.85038311e+07,\n",
              "         7.97358650e+03],\n",
              "        [3.10283117e+07, 1.05236961e+08, 3.80646857e+08, 2.05613937e+08,\n",
              "         2.39326836e+04],\n",
              "        [3.87133530e+07, 1.31301880e+08, 4.74924847e+08, 2.56540061e+08,\n",
              "         2.98602915e+04],\n",
              "        [4.40056223e+07, 1.49251368e+08, 5.39848961e+08, 2.91610106e+08,\n",
              "         3.39423120e+04],\n",
              "        [1.67167686e+07, 5.66973141e+07, 2.05076754e+08, 1.10776270e+08,\n",
              "         1.28939382e+04],\n",
              "        [5.60549392e+07, 1.90118352e+08, 6.87666692e+08, 3.71456781e+08,\n",
              "         4.32361625e+04],\n",
              "        [7.42824351e+06, 2.51939514e+07, 9.11276635e+07, 4.92244120e+07,\n",
              "         5.72953513e+03]]))"
            ]
          },
          "metadata": {
            "tags": []
          },
          "execution_count": 58
        }
      ]
    },
    {
      "cell_type": "code",
      "metadata": {
        "id": "kMWUNBW0GZhx"
      },
      "source": [
        "# 사용자 선호 플랫폼과 게임 장르별 판매량은 연대별로 유의한 차이를 가짐을 확인할 수 있었다."
      ],
      "execution_count": 59,
      "outputs": []
    },
    {
      "cell_type": "markdown",
      "metadata": {
        "id": "O7LRGVgFLd3z"
      },
      "source": [
        "## 2 -3. 출고량이 높은 게임에 대한 분석과 시각화 및 다음분기 게임기획"
      ]
    },
    {
      "cell_type": "markdown",
      "metadata": {
        "id": "e-ZeOa50Kmx_"
      },
      "source": [
        "### 2-3-(1) 상위업체로 데이터 추려내기"
      ]
    },
    {
      "cell_type": "code",
      "metadata": {
        "id": "qnwjhjiaP3e4",
        "colab": {
          "base_uri": "https://localhost:8080/",
          "height": 408
        },
        "outputId": "5e39c70a-a891-422d-83a7-a3097b55b51f"
      },
      "source": [
        "Sales_Descending = games_EDA.sort_values(by = 'Total_Sales', ascending= False)\n",
        "Sales_Descending = Sales_Descending.reset_index(drop=True)\n",
        "Sales_Descending.head(100)"
      ],
      "execution_count": 60,
      "outputs": [
        {
          "output_type": "execute_result",
          "data": {
            "text/html": [
              "<div>\n",
              "<style scoped>\n",
              "    .dataframe tbody tr th:only-of-type {\n",
              "        vertical-align: middle;\n",
              "    }\n",
              "\n",
              "    .dataframe tbody tr th {\n",
              "        vertical-align: top;\n",
              "    }\n",
              "\n",
              "    .dataframe thead th {\n",
              "        text-align: right;\n",
              "    }\n",
              "</style>\n",
              "<table border=\"1\" class=\"dataframe\">\n",
              "  <thead>\n",
              "    <tr style=\"text-align: right;\">\n",
              "      <th></th>\n",
              "      <th>Name</th>\n",
              "      <th>Platform</th>\n",
              "      <th>Year</th>\n",
              "      <th>Genre</th>\n",
              "      <th>Publisher</th>\n",
              "      <th>NA_Sales</th>\n",
              "      <th>EU_Sales</th>\n",
              "      <th>JP_Sales</th>\n",
              "      <th>Other_Sales</th>\n",
              "      <th>Total_Sales</th>\n",
              "    </tr>\n",
              "  </thead>\n",
              "  <tbody>\n",
              "    <tr>\n",
              "      <th>0</th>\n",
              "      <td>Wii Sports</td>\n",
              "      <td>Wii</td>\n",
              "      <td>2006.0</td>\n",
              "      <td>Sports</td>\n",
              "      <td>Nintendo</td>\n",
              "      <td>41490000.0</td>\n",
              "      <td>29020000.0</td>\n",
              "      <td>3770000.0</td>\n",
              "      <td>8460000.0</td>\n",
              "      <td>82740000.0</td>\n",
              "    </tr>\n",
              "    <tr>\n",
              "      <th>1</th>\n",
              "      <td>Super Mario Bros.</td>\n",
              "      <td>NES</td>\n",
              "      <td>1985.0</td>\n",
              "      <td>Platform</td>\n",
              "      <td>Nintendo</td>\n",
              "      <td>29080000.0</td>\n",
              "      <td>3580000.0</td>\n",
              "      <td>6810000.0</td>\n",
              "      <td>770000.0</td>\n",
              "      <td>40240000.0</td>\n",
              "    </tr>\n",
              "    <tr>\n",
              "      <th>2</th>\n",
              "      <td>Mario Kart Wii</td>\n",
              "      <td>Wii</td>\n",
              "      <td>2008.0</td>\n",
              "      <td>Racing</td>\n",
              "      <td>Nintendo</td>\n",
              "      <td>15850000.0</td>\n",
              "      <td>12880000.0</td>\n",
              "      <td>3790000.0</td>\n",
              "      <td>3310000.0</td>\n",
              "      <td>35830000.0</td>\n",
              "    </tr>\n",
              "    <tr>\n",
              "      <th>3</th>\n",
              "      <td>Wii Sports Resort</td>\n",
              "      <td>Wii</td>\n",
              "      <td>2009.0</td>\n",
              "      <td>Sports</td>\n",
              "      <td>Nintendo</td>\n",
              "      <td>15750000.0</td>\n",
              "      <td>11010000.0</td>\n",
              "      <td>3280000.0</td>\n",
              "      <td>2960000.0</td>\n",
              "      <td>33000000.0</td>\n",
              "    </tr>\n",
              "    <tr>\n",
              "      <th>4</th>\n",
              "      <td>Pokemon Red/Pokemon Blue</td>\n",
              "      <td>GB</td>\n",
              "      <td>1996.0</td>\n",
              "      <td>Role-Playing</td>\n",
              "      <td>Nintendo</td>\n",
              "      <td>11270000.0</td>\n",
              "      <td>8890000.0</td>\n",
              "      <td>10220000.0</td>\n",
              "      <td>1000000.0</td>\n",
              "      <td>31380000.0</td>\n",
              "    </tr>\n",
              "    <tr>\n",
              "      <th>...</th>\n",
              "      <td>...</td>\n",
              "      <td>...</td>\n",
              "      <td>...</td>\n",
              "      <td>...</td>\n",
              "      <td>...</td>\n",
              "      <td>...</td>\n",
              "      <td>...</td>\n",
              "      <td>...</td>\n",
              "      <td>...</td>\n",
              "      <td>...</td>\n",
              "    </tr>\n",
              "    <tr>\n",
              "      <th>95</th>\n",
              "      <td>Super Smash Bros. for Wii U and 3DS</td>\n",
              "      <td>3DS</td>\n",
              "      <td>2014.0</td>\n",
              "      <td>Fighting</td>\n",
              "      <td>Nintendo</td>\n",
              "      <td>3240000.0</td>\n",
              "      <td>1350000.0</td>\n",
              "      <td>2420000.0</td>\n",
              "      <td>430000.0</td>\n",
              "      <td>7440000.0</td>\n",
              "    </tr>\n",
              "    <tr>\n",
              "      <th>96</th>\n",
              "      <td>Call of Duty: World at War</td>\n",
              "      <td>X360</td>\n",
              "      <td>2008.0</td>\n",
              "      <td>Shooter</td>\n",
              "      <td>Activision</td>\n",
              "      <td>4790000.0</td>\n",
              "      <td>1900000.0</td>\n",
              "      <td>0.0</td>\n",
              "      <td>690000.0</td>\n",
              "      <td>7380000.0</td>\n",
              "    </tr>\n",
              "    <tr>\n",
              "      <th>97</th>\n",
              "      <td>Battlefield 3</td>\n",
              "      <td>X360</td>\n",
              "      <td>2011.0</td>\n",
              "      <td>Shooter</td>\n",
              "      <td>Electronic Arts</td>\n",
              "      <td>4460000.0</td>\n",
              "      <td>2130000.0</td>\n",
              "      <td>60000.0</td>\n",
              "      <td>690000.0</td>\n",
              "      <td>7340000.0</td>\n",
              "    </tr>\n",
              "    <tr>\n",
              "      <th>98</th>\n",
              "      <td>The Legend of Zelda: Twilight Princess</td>\n",
              "      <td>Wii</td>\n",
              "      <td>2006.0</td>\n",
              "      <td>Action</td>\n",
              "      <td>Nintendo</td>\n",
              "      <td>3830000.0</td>\n",
              "      <td>2190000.0</td>\n",
              "      <td>600000.0</td>\n",
              "      <td>700000.0</td>\n",
              "      <td>7320000.0</td>\n",
              "    </tr>\n",
              "    <tr>\n",
              "      <th>99</th>\n",
              "      <td>Call of Duty: Black Ops 3</td>\n",
              "      <td>XOne</td>\n",
              "      <td>2015.0</td>\n",
              "      <td>Shooter</td>\n",
              "      <td>Activision</td>\n",
              "      <td>4520000.0</td>\n",
              "      <td>2090000.0</td>\n",
              "      <td>10000.0</td>\n",
              "      <td>670000.0</td>\n",
              "      <td>7290000.0</td>\n",
              "    </tr>\n",
              "  </tbody>\n",
              "</table>\n",
              "<p>100 rows × 10 columns</p>\n",
              "</div>"
            ],
            "text/plain": [
              "                                      Name Platform  ...  Other_Sales Total_Sales\n",
              "0                               Wii Sports      Wii  ...    8460000.0  82740000.0\n",
              "1                        Super Mario Bros.      NES  ...     770000.0  40240000.0\n",
              "2                           Mario Kart Wii      Wii  ...    3310000.0  35830000.0\n",
              "3                        Wii Sports Resort      Wii  ...    2960000.0  33000000.0\n",
              "4                 Pokemon Red/Pokemon Blue       GB  ...    1000000.0  31380000.0\n",
              "..                                     ...      ...  ...          ...         ...\n",
              "95     Super Smash Bros. for Wii U and 3DS      3DS  ...     430000.0   7440000.0\n",
              "96              Call of Duty: World at War     X360  ...     690000.0   7380000.0\n",
              "97                           Battlefield 3     X360  ...     690000.0   7340000.0\n",
              "98  The Legend of Zelda: Twilight Princess      Wii  ...     700000.0   7320000.0\n",
              "99               Call of Duty: Black Ops 3     XOne  ...     670000.0   7290000.0\n",
              "\n",
              "[100 rows x 10 columns]"
            ]
          },
          "metadata": {
            "tags": []
          },
          "execution_count": 60
        }
      ]
    },
    {
      "cell_type": "code",
      "metadata": {
        "id": "iblTdffEU6io",
        "colab": {
          "base_uri": "https://localhost:8080/"
        },
        "outputId": "4c865555-2c7b-4507-905d-99b15ce7ec6c"
      },
      "source": [
        "Sales_Descending.shape[0]*0.1"
      ],
      "execution_count": 61,
      "outputs": [
        {
          "output_type": "execute_result",
          "data": {
            "text/plain": [
              "1624.1000000000001"
            ]
          },
          "metadata": {
            "tags": []
          },
          "execution_count": 61
        }
      ]
    },
    {
      "cell_type": "code",
      "metadata": {
        "id": "PBQlX9wCR1om",
        "colab": {
          "base_uri": "https://localhost:8080/"
        },
        "outputId": "14ad63a6-71d8-4e22-c582-1ed2bbee1b15"
      },
      "source": [
        "top10percentile_sales = Sales_Descending.iloc[:1625].Total_Sales.sum()\n",
        "top10percentile_sales"
      ],
      "execution_count": 62,
      "outputs": [
        {
          "output_type": "execute_result",
          "data": {
            "text/plain": [
              "5159160000.0"
            ]
          },
          "metadata": {
            "tags": []
          },
          "execution_count": 62
        }
      ]
    },
    {
      "cell_type": "code",
      "metadata": {
        "id": "B_79nTSdTbcc",
        "colab": {
          "base_uri": "https://localhost:8080/"
        },
        "outputId": "111355fa-9a73-47d0-e65b-13bffecf4a33"
      },
      "source": [
        "top10_ratio = round(top10percentile_sales / Sales_Descending.Total_Sales.sum() , 2)\n",
        "top10_ratio\n",
        "\n",
        "#상위랭크 10%, 즉 1624 개의 게임이 전체 비디오 게임 매출액의 59%를 차지하고 있다. 이 10%의 게임을 대상으로 분석과 시각화 및 다음분기 게임기획을 하려고한다"
      ],
      "execution_count": 63,
      "outputs": [
        {
          "output_type": "execute_result",
          "data": {
            "text/plain": [
              "0.59"
            ]
          },
          "metadata": {
            "tags": []
          },
          "execution_count": 63
        }
      ]
    },
    {
      "cell_type": "code",
      "metadata": {
        "colab": {
          "base_uri": "https://localhost:8080/"
        },
        "id": "3mWzZUjrMZ7E",
        "outputId": "719785ed-5feb-4e2c-dc45-39a09b1fc2ee"
      },
      "source": [
        "Sales_Descending['Total_Sales'].sum()"
      ],
      "execution_count": 64,
      "outputs": [
        {
          "output_type": "execute_result",
          "data": {
            "text/plain": [
              "8755370000.0"
            ]
          },
          "metadata": {
            "tags": []
          },
          "execution_count": 64
        }
      ]
    },
    {
      "cell_type": "code",
      "metadata": {
        "id": "crqwC5fmUlUh",
        "colab": {
          "base_uri": "https://localhost:8080/",
          "height": 263
        },
        "outputId": "15b66312-1262-4dc2-ae2d-cc932ef4a724"
      },
      "source": [
        "labels = ['Top 10% Games Sales', 'Bottom 90% Games Sales']\n",
        "sizes = [59,41]\n",
        "explode = (0.1, 0)\n",
        "\n",
        "fig1, ax1 = plt.subplots()\n",
        "ax1.pie(sizes, explode = explode,  labels = labels, autopct = '%1.1f%%', shadow=True, startangle=90)\n",
        "plt.title('Video Games Market Share(1950-2020)')\n",
        "plt.show()"
      ],
      "execution_count": 92,
      "outputs": [
        {
          "output_type": "display_data",
          "data": {
            "image/png": "[encoded data removed]",
            "text/plain": [
              "<Figure size 432x288 with 1 Axes>"
            ]
          },
          "metadata": {
            "tags": []
          }
        }
      ]
    },
    {
      "cell_type": "code",
      "metadata": {
        "id": "i49ZMk_CUppZ",
        "colab": {
          "base_uri": "https://localhost:8080/",
          "height": 351
        },
        "outputId": "8aaed8c9-94e8-4d96-8ba3-93a5cd792a7c"
      },
      "source": [
        "Sales_Descending = Sales_Descending.iloc[:1624]\n",
        "Sales_Descending[['Name', 'Publisher', 'Total_Sales']].head(10)"
      ],
      "execution_count": 66,
      "outputs": [
        {
          "output_type": "execute_result",
          "data": {
            "text/html": [
              "<div>\n",
              "<style scoped>\n",
              "    .dataframe tbody tr th:only-of-type {\n",
              "        vertical-align: middle;\n",
              "    }\n",
              "\n",
              "    .dataframe tbody tr th {\n",
              "        vertical-align: top;\n",
              "    }\n",
              "\n",
              "    .dataframe thead th {\n",
              "        text-align: right;\n",
              "    }\n",
              "</style>\n",
              "<table border=\"1\" class=\"dataframe\">\n",
              "  <thead>\n",
              "    <tr style=\"text-align: right;\">\n",
              "      <th></th>\n",
              "      <th>Name</th>\n",
              "      <th>Publisher</th>\n",
              "      <th>Total_Sales</th>\n",
              "    </tr>\n",
              "  </thead>\n",
              "  <tbody>\n",
              "    <tr>\n",
              "      <th>0</th>\n",
              "      <td>Wii Sports</td>\n",
              "      <td>Nintendo</td>\n",
              "      <td>82740000.0</td>\n",
              "    </tr>\n",
              "    <tr>\n",
              "      <th>1</th>\n",
              "      <td>Super Mario Bros.</td>\n",
              "      <td>Nintendo</td>\n",
              "      <td>40240000.0</td>\n",
              "    </tr>\n",
              "    <tr>\n",
              "      <th>2</th>\n",
              "      <td>Mario Kart Wii</td>\n",
              "      <td>Nintendo</td>\n",
              "      <td>35830000.0</td>\n",
              "    </tr>\n",
              "    <tr>\n",
              "      <th>3</th>\n",
              "      <td>Wii Sports Resort</td>\n",
              "      <td>Nintendo</td>\n",
              "      <td>33000000.0</td>\n",
              "    </tr>\n",
              "    <tr>\n",
              "      <th>4</th>\n",
              "      <td>Pokemon Red/Pokemon Blue</td>\n",
              "      <td>Nintendo</td>\n",
              "      <td>31380000.0</td>\n",
              "    </tr>\n",
              "    <tr>\n",
              "      <th>5</th>\n",
              "      <td>Tetris</td>\n",
              "      <td>Nintendo</td>\n",
              "      <td>30260000.0</td>\n",
              "    </tr>\n",
              "    <tr>\n",
              "      <th>6</th>\n",
              "      <td>New Super Mario Bros.</td>\n",
              "      <td>Nintendo</td>\n",
              "      <td>30010000.0</td>\n",
              "    </tr>\n",
              "    <tr>\n",
              "      <th>7</th>\n",
              "      <td>Wii Play</td>\n",
              "      <td>Nintendo</td>\n",
              "      <td>29010000.0</td>\n",
              "    </tr>\n",
              "    <tr>\n",
              "      <th>8</th>\n",
              "      <td>New Super Mario Bros. Wii</td>\n",
              "      <td>Nintendo</td>\n",
              "      <td>28610000.0</td>\n",
              "    </tr>\n",
              "    <tr>\n",
              "      <th>9</th>\n",
              "      <td>Duck Hunt</td>\n",
              "      <td>Nintendo</td>\n",
              "      <td>28310000.0</td>\n",
              "    </tr>\n",
              "  </tbody>\n",
              "</table>\n",
              "</div>"
            ],
            "text/plain": [
              "                        Name Publisher  Total_Sales\n",
              "0                 Wii Sports  Nintendo   82740000.0\n",
              "1          Super Mario Bros.  Nintendo   40240000.0\n",
              "2             Mario Kart Wii  Nintendo   35830000.0\n",
              "3          Wii Sports Resort  Nintendo   33000000.0\n",
              "4   Pokemon Red/Pokemon Blue  Nintendo   31380000.0\n",
              "5                     Tetris  Nintendo   30260000.0\n",
              "6      New Super Mario Bros.  Nintendo   30010000.0\n",
              "7                   Wii Play  Nintendo   29010000.0\n",
              "8  New Super Mario Bros. Wii  Nintendo   28610000.0\n",
              "9                  Duck Hunt  Nintendo   28310000.0"
            ]
          },
          "metadata": {
            "tags": []
          },
          "execution_count": 66
        }
      ]
    },
    {
      "cell_type": "markdown",
      "metadata": {
        "id": "HEaQDH59Kre0"
      },
      "source": [
        "### 2-3-(2) 메인 퍼블리셔(업체) 조사"
      ]
    },
    {
      "cell_type": "code",
      "metadata": {
        "id": "9bR-n0Nc8UeG",
        "colab": {
          "base_uri": "https://localhost:8080/",
          "height": 408
        },
        "outputId": "c8667938-1286-4cbd-b1a5-efd59b52904f"
      },
      "source": [
        "#이어 메인 게임업체(Publisher)에 대해 알아보고자 했다.\n",
        "major_publisher_sales = Sales_Descending.groupby('Publisher').Total_Sales.sum()\n",
        "major_publisher_sales = pd.DataFrame(major_publisher_sales)\n",
        "major_publisher = major_publisher_sales.reset_index()\n",
        "major_publisher['Total_Sales'] = major_publisher['Total_Sales'] / 1000000 \n",
        "major_publisher.sort_values(by = 'Total_Sales', ascending= False)"
      ],
      "execution_count": 67,
      "outputs": [
        {
          "output_type": "execute_result",
          "data": {
            "text/html": [
              "<div>\n",
              "<style scoped>\n",
              "    .dataframe tbody tr th:only-of-type {\n",
              "        vertical-align: middle;\n",
              "    }\n",
              "\n",
              "    .dataframe tbody tr th {\n",
              "        vertical-align: top;\n",
              "    }\n",
              "\n",
              "    .dataframe thead th {\n",
              "        text-align: right;\n",
              "    }\n",
              "</style>\n",
              "<table border=\"1\" class=\"dataframe\">\n",
              "  <thead>\n",
              "    <tr style=\"text-align: right;\">\n",
              "      <th></th>\n",
              "      <th>Publisher</th>\n",
              "      <th>Total_Sales</th>\n",
              "    </tr>\n",
              "  </thead>\n",
              "  <tbody>\n",
              "    <tr>\n",
              "      <th>48</th>\n",
              "      <td>Nintendo</td>\n",
              "      <td>1585.62</td>\n",
              "    </tr>\n",
              "    <tr>\n",
              "      <th>22</th>\n",
              "      <td>Electronic Arts</td>\n",
              "      <td>645.48</td>\n",
              "    </tr>\n",
              "    <tr>\n",
              "      <th>7</th>\n",
              "      <td>Activision</td>\n",
              "      <td>451.93</td>\n",
              "    </tr>\n",
              "    <tr>\n",
              "      <th>58</th>\n",
              "      <td>Sony Computer Entertainment</td>\n",
              "      <td>402.45</td>\n",
              "    </tr>\n",
              "    <tr>\n",
              "      <th>66</th>\n",
              "      <td>Take-Two Interactive</td>\n",
              "      <td>291.12</td>\n",
              "    </tr>\n",
              "    <tr>\n",
              "      <th>...</th>\n",
              "      <td>...</td>\n",
              "      <td>...</td>\n",
              "    </tr>\n",
              "    <tr>\n",
              "      <th>60</th>\n",
              "      <td>Sony Online Entertainment</td>\n",
              "      <td>1.28</td>\n",
              "    </tr>\n",
              "    <tr>\n",
              "      <th>0</th>\n",
              "      <td>3DO</td>\n",
              "      <td>1.28</td>\n",
              "    </tr>\n",
              "    <tr>\n",
              "      <th>47</th>\n",
              "      <td>Natsume</td>\n",
              "      <td>1.26</td>\n",
              "    </tr>\n",
              "    <tr>\n",
              "      <th>52</th>\n",
              "      <td>RTL</td>\n",
              "      <td>1.25</td>\n",
              "    </tr>\n",
              "    <tr>\n",
              "      <th>24</th>\n",
              "      <td>Focus Home Interactive</td>\n",
              "      <td>1.23</td>\n",
              "    </tr>\n",
              "  </tbody>\n",
              "</table>\n",
              "<p>80 rows × 2 columns</p>\n",
              "</div>"
            ],
            "text/plain": [
              "                      Publisher  Total_Sales\n",
              "48                     Nintendo      1585.62\n",
              "22              Electronic Arts       645.48\n",
              "7                    Activision       451.93\n",
              "58  Sony Computer Entertainment       402.45\n",
              "66         Take-Two Interactive       291.12\n",
              "..                          ...          ...\n",
              "60    Sony Online Entertainment         1.28\n",
              "0                           3DO         1.28\n",
              "47                      Natsume         1.26\n",
              "52                          RTL         1.25\n",
              "24       Focus Home Interactive         1.23\n",
              "\n",
              "[80 rows x 2 columns]"
            ]
          },
          "metadata": {
            "tags": []
          },
          "execution_count": 67
        }
      ]
    },
    {
      "cell_type": "code",
      "metadata": {
        "id": "pJFERfNvAU4V",
        "colab": {
          "base_uri": "https://localhost:8080/",
          "height": 282
        },
        "outputId": "dd018407-3dec-4ddd-ba6c-efb1f666e9dd"
      },
      "source": [
        "#하기와 같이 상위 5업체를 추려보았으며, 버블  플롯으로 시각화 하였다. 업계 1위 닌텐도는 뒤를 잇는 4개 업체 매출합보다 매출액이 크다.\n",
        "\n",
        "publisher_name = ['Nintendo', 'Electronic Arts', 'Activision', 'Sony Computer Entertainment', 'Take-Two Interactive']\n",
        "publisher_sales = [1488.66, 470.82, 378.97, 356.10, 255.90]\n",
        "publisher_rank = [1,2,3,4,5]\n",
        "\n",
        "fig, ax = plt.subplots()\n",
        "ax.scatter(publisher_rank, publisher_sales, s = publisher_sales, marker = 'o', c = publisher_rank)\n",
        "\n",
        "for i in range(len(publisher_rank)):\n",
        "  plt.annotate(\"({}) {}\".format(i+1,publisher_name[i]), xy= (publisher_rank[i], publisher_sales[i]))\n",
        "\n",
        "plt.xlim(0,6)\n",
        "plt.ylim(0,1800)\n",
        "plt.ylabel('Sales')\n",
        "plt.xlabel('Publiser Rank')\n",
        "plt.show();\n"
      ],
      "execution_count": 68,
      "outputs": [
        {
          "output_type": "display_data",
          "data": {
            "image/png": "[encoded data removed]",
            "text/plain": [
              "<Figure size 432x288 with 1 Axes>"
            ]
          },
          "metadata": {
            "tags": [],
            "needs_background": "light"
          }
        }
      ]
    },
    {
      "cell_type": "markdown",
      "metadata": {
        "id": "lmADWcVUKvyS"
      },
      "source": [
        "###2-3-(3)  인기 플랫폼, 장르, 시장 조사"
      ]
    },
    {
      "cell_type": "code",
      "metadata": {
        "id": "Fb0n93FNbR1v",
        "colab": {
          "base_uri": "https://localhost:8080/"
        },
        "outputId": "88406a4b-4068-4487-912b-48eac60160ce"
      },
      "source": [
        "platform = Sales_Descending.groupby('Platform').Name.count().sort_values(ascending = False)\n",
        "#platform = platform.reset_index()\n",
        "platform = platform.iloc[:10]\n",
        "platform"
      ],
      "execution_count": 69,
      "outputs": [
        {
          "output_type": "execute_result",
          "data": {
            "text/plain": [
              "Platform\n",
              "PS2     263\n",
              "X360    193\n",
              "PS3     190\n",
              "PS      152\n",
              "Wii     124\n",
              "DS      116\n",
              "PS4      61\n",
              "NES      56\n",
              "PC       56\n",
              "GBA      54\n",
              "Name: Name, dtype: int64"
            ]
          },
          "metadata": {
            "tags": []
          },
          "execution_count": 69
        }
      ]
    },
    {
      "cell_type": "code",
      "metadata": {
        "id": "Neqc7HqbcdFB",
        "colab": {
          "base_uri": "https://localhost:8080/"
        },
        "outputId": "a3cc5c5f-e440-4520-b5d1-dc25e8a5d9f2"
      },
      "source": [
        "Genre = Sales_Descending.groupby('Genre').Name.count().sort_values(ascending = False)\n",
        "#Genre = Genre.reset_index()\n",
        "Genre = Genre.iloc[:10]\n",
        "Genre"
      ],
      "execution_count": 70,
      "outputs": [
        {
          "output_type": "execute_result",
          "data": {
            "text/plain": [
              "Genre\n",
              "Action          329\n",
              "Sports          232\n",
              "Shooter         203\n",
              "Role-Playing    171\n",
              "Platform        155\n",
              "Racing          134\n",
              "Misc            134\n",
              "Fighting         98\n",
              "Simulation       70\n",
              "Puzzle           44\n",
              "Name: Name, dtype: int64"
            ]
          },
          "metadata": {
            "tags": []
          },
          "execution_count": 70
        }
      ]
    },
    {
      "cell_type": "code",
      "metadata": {
        "id": "zWK2HRXbcmtV",
        "colab": {
          "base_uri": "https://localhost:8080/"
        },
        "outputId": "94115dd1-a374-440d-a35c-8e809e363e2b"
      },
      "source": [
        "tidy = Sales_Descending[['Name', 'NA_Sales', 'EU_Sales', 'JP_Sales', 'Other_Sales']].melt(id_vars = 'Name', var_name = 'region', value_name ='sales')\n",
        "tidy_sales = tidy.groupby('region').sales.sum()\n",
        "tidy_sales = tidy_sales.sort_values(ascending= False)\n",
        "\n",
        "tidy_sales"
      ],
      "execution_count": 71,
      "outputs": [
        {
          "output_type": "execute_result",
          "data": {
            "text/plain": [
              "region\n",
              "NA_Sales       2.522050e+09\n",
              "EU_Sales       1.505280e+09\n",
              "JP_Sales       6.471300e+08\n",
              "Other_Sales    4.834900e+08\n",
              "Name: sales, dtype: float64"
            ]
          },
          "metadata": {
            "tags": []
          },
          "execution_count": 71
        }
      ]
    },
    {
      "cell_type": "code",
      "metadata": {
        "colab": {
          "base_uri": "https://localhost:8080/",
          "height": 707
        },
        "id": "xNV06Zavd9U1",
        "outputId": "625e3001-e5ea-46c0-b4a2-d39a5ef7cbbe"
      },
      "source": [
        "plt.figure(figsize = (20,5))\n",
        "\n",
        "plt.subplot(131)\n",
        "platform.plot(kind = 'bar')\n",
        "\n",
        "plt.subplot(132)\n",
        "Genre.plot(kind = 'bar', color = 'g')\n",
        "plt.show()\n",
        "\n",
        "plt.subplot(133)\n",
        "tidy_sales.plot(kind = 'bar', color = 'r')\n",
        "\n",
        "plt.show();"
      ],
      "execution_count": 72,
      "outputs": [
        {
          "output_type": "display_data",
          "data": {
            "image/png": "[encoded data removed]",
            "text/plain": [
              "<Figure size 1440x360 with 2 Axes>"
            ]
          },
          "metadata": {
            "tags": [],
            "needs_background": "light"
          }
        },
        {
          "output_type": "display_data",
          "data": {
            "image/png": "[encoded data removed]",
            "text/plain": [
              "<Figure size 432x288 with 1 Axes>"
            ]
          },
          "metadata": {
            "tags": [],
            "needs_background": "light"
          }
        }
      ]
    },
    {
      "cell_type": "code",
      "metadata": {
        "id": "6sCwgYxpf2rY",
        "colab": {
          "base_uri": "https://localhost:8080/"
        },
        "outputId": "73eaee79-3998-46b1-e03b-b9422262a965"
      },
      "source": [
        "#전체 매출액의 59%를 차지하는 데이터를 분석해보면,\n",
        "#플랫폼, 장르, 지역판매량을 순위대로 top3를 상기 및 하기와 같이 꼽아볼 수 있다. \n",
        "#따라서 다음 분기 게임 기획을 위해서는 하기 데이터를 참고하여, 게임 플랫폼 및 장르, 타겟 지역군에 우선순위를 두는 것이 매출향상에 유리하다.\n",
        "\n",
        "print('매출 상위 10% 게임(1624 종목)의 플랫폼, 장르, 출고 지역추이')\n",
        "print('------------------------------------------------')\n",
        "print('단위: 개', platform[0:3])\n",
        "print('------------------------------------------------')\n",
        "print('단위: 개', Genre[0:3])\n",
        "print('------------------------------------------------')\n",
        "print('단위: 달러', tidy_sales[0:3])"
      ],
      "execution_count": 73,
      "outputs": [
        {
          "output_type": "stream",
          "text": [
            "매출 상위 10% 게임(1624 종목)의 플랫폼, 장르, 출고 지역추이\n",
            "------------------------------------------------\n",
            "단위: 개 Platform\n",
            "PS2     263\n",
            "X360    193\n",
            "PS3     190\n",
            "Name: Name, dtype: int64\n",
            "------------------------------------------------\n",
            "단위: 개 Genre\n",
            "Action     329\n",
            "Sports     232\n",
            "Shooter    203\n",
            "Name: Name, dtype: int64\n",
            "------------------------------------------------\n",
            "단위: 달러 region\n",
            "NA_Sales    2.522050e+09\n",
            "EU_Sales    1.505280e+09\n",
            "JP_Sales    6.471300e+08\n",
            "Name: sales, dtype: float64\n"
          ],
          "name": "stdout"
        }
      ]
    },
    {
      "cell_type": "markdown",
      "metadata": {
        "id": "ve6evYgeZ46F"
      },
      "source": [
        "#개인과제 "
      ]
    },
    {
      "cell_type": "markdown",
      "metadata": {
        "id": "vW9p8UQgaySL"
      },
      "source": [
        "## 어떤 조합으로 게임을 기획해야 할까?\n",
        "앞서 2-1에서는 **지역**별로 선호하는 게임 장르가 다름을 확인하였고, <br>\n",
        "2-2 에서는 **연도**별로 선호하는 게임 트랜드가 다른 것을 확인하였다. <br>\n",
        "\n",
        "시간도 예산도 촉박하여, 지역과 게임 장르, 플랫폼을 각각 1가지만 선택할 수 있을 때 최대의 이익을 창출할 수 있는 조합을 찾아보자.\n",
        "\n",
        "`연도의 트랜드를 반영하여, 관련 데이터는 최근 10개년으로 추려보았다(2-2 카이제곱 검정으로 연도별로 선호 장르, 플랫폼이 유의하게 연관이 있을 것임을 확인하였다).`"
      ]
    },
    {
      "cell_type": "code",
      "metadata": {
        "id": "wn0sdm3sk5rP",
        "colab": {
          "base_uri": "https://localhost:8080/",
          "height": 408
        },
        "outputId": "de818f6f-d361-4ec1-a557-b785b477f831"
      },
      "source": [
        "final = games_EDA.loc[:][games_EDA['Year'] >= 2010]\n",
        "final"
      ],
      "execution_count": 74,
      "outputs": [
        {
          "output_type": "execute_result",
          "data": {
            "text/html": [
              "<div>\n",
              "<style scoped>\n",
              "    .dataframe tbody tr th:only-of-type {\n",
              "        vertical-align: middle;\n",
              "    }\n",
              "\n",
              "    .dataframe tbody tr th {\n",
              "        vertical-align: top;\n",
              "    }\n",
              "\n",
              "    .dataframe thead th {\n",
              "        text-align: right;\n",
              "    }\n",
              "</style>\n",
              "<table border=\"1\" class=\"dataframe\">\n",
              "  <thead>\n",
              "    <tr style=\"text-align: right;\">\n",
              "      <th></th>\n",
              "      <th>Name</th>\n",
              "      <th>Platform</th>\n",
              "      <th>Year</th>\n",
              "      <th>Genre</th>\n",
              "      <th>Publisher</th>\n",
              "      <th>NA_Sales</th>\n",
              "      <th>EU_Sales</th>\n",
              "      <th>JP_Sales</th>\n",
              "      <th>Other_Sales</th>\n",
              "      <th>Total_Sales</th>\n",
              "    </tr>\n",
              "  </thead>\n",
              "  <tbody>\n",
              "    <tr>\n",
              "      <th>2</th>\n",
              "      <td>Otome wa Oanesama Boku ni Koi Shiteru Portable</td>\n",
              "      <td>PSP</td>\n",
              "      <td>2010.0</td>\n",
              "      <td>Adventure</td>\n",
              "      <td>Alchemist</td>\n",
              "      <td>0.0</td>\n",
              "      <td>0.0</td>\n",
              "      <td>20000.0</td>\n",
              "      <td>0.0</td>\n",
              "      <td>20000.0</td>\n",
              "    </tr>\n",
              "    <tr>\n",
              "      <th>3</th>\n",
              "      <td>Deal or No Deal: Special Edition</td>\n",
              "      <td>DS</td>\n",
              "      <td>2010.0</td>\n",
              "      <td>Misc</td>\n",
              "      <td>Zoo Games</td>\n",
              "      <td>40000.0</td>\n",
              "      <td>0.0</td>\n",
              "      <td>0.0</td>\n",
              "      <td>0.0</td>\n",
              "      <td>40000.0</td>\n",
              "    </tr>\n",
              "    <tr>\n",
              "      <th>4</th>\n",
              "      <td>Ben 10 Ultimate Alien: Cosmic Destruction</td>\n",
              "      <td>PS3</td>\n",
              "      <td>2010.0</td>\n",
              "      <td>Platform</td>\n",
              "      <td>D3Publisher</td>\n",
              "      <td>120000.0</td>\n",
              "      <td>90000.0</td>\n",
              "      <td>0.0</td>\n",
              "      <td>40000.0</td>\n",
              "      <td>250000.0</td>\n",
              "    </tr>\n",
              "    <tr>\n",
              "      <th>6</th>\n",
              "      <td>JASF: Jane's Advanced Strike Fighters</td>\n",
              "      <td>PC</td>\n",
              "      <td>2011.0</td>\n",
              "      <td>Simulation</td>\n",
              "      <td>Deep Silver</td>\n",
              "      <td>20000.0</td>\n",
              "      <td>10000.0</td>\n",
              "      <td>0.0</td>\n",
              "      <td>0.0</td>\n",
              "      <td>30000.0</td>\n",
              "    </tr>\n",
              "    <tr>\n",
              "      <th>9</th>\n",
              "      <td>The Penguins of Madagascar: Dr. Blowhole Retur...</td>\n",
              "      <td>PS3</td>\n",
              "      <td>2011.0</td>\n",
              "      <td>Action</td>\n",
              "      <td>THQ</td>\n",
              "      <td>40000.0</td>\n",
              "      <td>30000.0</td>\n",
              "      <td>0.0</td>\n",
              "      <td>10000.0</td>\n",
              "      <td>80000.0</td>\n",
              "    </tr>\n",
              "    <tr>\n",
              "      <th>...</th>\n",
              "      <td>...</td>\n",
              "      <td>...</td>\n",
              "      <td>...</td>\n",
              "      <td>...</td>\n",
              "      <td>...</td>\n",
              "      <td>...</td>\n",
              "      <td>...</td>\n",
              "      <td>...</td>\n",
              "      <td>...</td>\n",
              "      <td>...</td>\n",
              "    </tr>\n",
              "    <tr>\n",
              "      <th>16581</th>\n",
              "      <td>LEGO The Hobbit</td>\n",
              "      <td>XOne</td>\n",
              "      <td>2014.0</td>\n",
              "      <td>Action</td>\n",
              "      <td>Warner Bros. Interactive Entertainment</td>\n",
              "      <td>130000.0</td>\n",
              "      <td>120000.0</td>\n",
              "      <td>0.0</td>\n",
              "      <td>20000.0</td>\n",
              "      <td>270000.0</td>\n",
              "    </tr>\n",
              "    <tr>\n",
              "      <th>16588</th>\n",
              "      <td>MindJack</td>\n",
              "      <td>PS3</td>\n",
              "      <td>2011.0</td>\n",
              "      <td>Shooter</td>\n",
              "      <td>Square Enix</td>\n",
              "      <td>70000.0</td>\n",
              "      <td>80000.0</td>\n",
              "      <td>0.0</td>\n",
              "      <td>30000.0</td>\n",
              "      <td>180000.0</td>\n",
              "    </tr>\n",
              "    <tr>\n",
              "      <th>16590</th>\n",
              "      <td>White Album: Tsuzurareru Fuyu no Omoide</td>\n",
              "      <td>PS3</td>\n",
              "      <td>2010.0</td>\n",
              "      <td>Adventure</td>\n",
              "      <td>Aqua Plus</td>\n",
              "      <td>0.0</td>\n",
              "      <td>0.0</td>\n",
              "      <td>50000.0</td>\n",
              "      <td>0.0</td>\n",
              "      <td>50000.0</td>\n",
              "    </tr>\n",
              "    <tr>\n",
              "      <th>16595</th>\n",
              "      <td>NBA 2K16</td>\n",
              "      <td>PS3</td>\n",
              "      <td>2015.0</td>\n",
              "      <td>Sports</td>\n",
              "      <td>Take-Two Interactive</td>\n",
              "      <td>440000.0</td>\n",
              "      <td>190000.0</td>\n",
              "      <td>30000.0</td>\n",
              "      <td>130000.0</td>\n",
              "      <td>790000.0</td>\n",
              "    </tr>\n",
              "    <tr>\n",
              "      <th>16596</th>\n",
              "      <td>Toukiden: The Age of Demons</td>\n",
              "      <td>PSV</td>\n",
              "      <td>2013.0</td>\n",
              "      <td>Action</td>\n",
              "      <td>Tecmo Koei</td>\n",
              "      <td>50000.0</td>\n",
              "      <td>50000.0</td>\n",
              "      <td>250000.0</td>\n",
              "      <td>30000.0</td>\n",
              "      <td>380000.0</td>\n",
              "    </tr>\n",
              "  </tbody>\n",
              "</table>\n",
              "<p>5120 rows × 10 columns</p>\n",
              "</div>"
            ],
            "text/plain": [
              "                                                    Name  ... Total_Sales\n",
              "2         Otome wa Oanesama Boku ni Koi Shiteru Portable  ...     20000.0\n",
              "3                       Deal or No Deal: Special Edition  ...     40000.0\n",
              "4              Ben 10 Ultimate Alien: Cosmic Destruction  ...    250000.0\n",
              "6                  JASF: Jane's Advanced Strike Fighters  ...     30000.0\n",
              "9      The Penguins of Madagascar: Dr. Blowhole Retur...  ...     80000.0\n",
              "...                                                  ...  ...         ...\n",
              "16581                                    LEGO The Hobbit  ...    270000.0\n",
              "16588                                           MindJack  ...    180000.0\n",
              "16590            White Album: Tsuzurareru Fuyu no Omoide  ...     50000.0\n",
              "16595                                           NBA 2K16  ...    790000.0\n",
              "16596                        Toukiden: The Age of Demons  ...    380000.0\n",
              "\n",
              "[5120 rows x 10 columns]"
            ]
          },
          "metadata": {
            "tags": []
          },
          "execution_count": 74
        }
      ]
    },
    {
      "cell_type": "code",
      "metadata": {
        "id": "cCIa02wXsTbi"
      },
      "source": [
        "#북아메리카에서 판매할 때 최고의 조합 \n",
        "conditions = (final['NA_Sales'] > 0)\n",
        "target_NA = final[conditions]\n",
        "target_NA = target_NA.groupby(['Genre','Platform']).NA_Sales.sum().reset_index()"
      ],
      "execution_count": 75,
      "outputs": []
    },
    {
      "cell_type": "code",
      "metadata": {
        "id": "85SDkM5rtXQh",
        "colab": {
          "base_uri": "https://localhost:8080/",
          "height": 200
        },
        "outputId": "08d5932f-a912-4abf-cfb3-eb536e2f514e"
      },
      "source": [
        "target_NA.head()"
      ],
      "execution_count": 76,
      "outputs": [
        {
          "output_type": "execute_result",
          "data": {
            "text/html": [
              "<div>\n",
              "<style scoped>\n",
              "    .dataframe tbody tr th:only-of-type {\n",
              "        vertical-align: middle;\n",
              "    }\n",
              "\n",
              "    .dataframe tbody tr th {\n",
              "        vertical-align: top;\n",
              "    }\n",
              "\n",
              "    .dataframe thead th {\n",
              "        text-align: right;\n",
              "    }\n",
              "</style>\n",
              "<table border=\"1\" class=\"dataframe\">\n",
              "  <thead>\n",
              "    <tr style=\"text-align: right;\">\n",
              "      <th></th>\n",
              "      <th>Genre</th>\n",
              "      <th>Platform</th>\n",
              "      <th>NA_Sales</th>\n",
              "    </tr>\n",
              "  </thead>\n",
              "  <tbody>\n",
              "    <tr>\n",
              "      <th>0</th>\n",
              "      <td>Action</td>\n",
              "      <td>3DS</td>\n",
              "      <td>19310000.0</td>\n",
              "    </tr>\n",
              "    <tr>\n",
              "      <th>1</th>\n",
              "      <td>Action</td>\n",
              "      <td>DS</td>\n",
              "      <td>13040000.0</td>\n",
              "    </tr>\n",
              "    <tr>\n",
              "      <th>2</th>\n",
              "      <td>Action</td>\n",
              "      <td>PC</td>\n",
              "      <td>6650000.0</td>\n",
              "    </tr>\n",
              "    <tr>\n",
              "      <th>3</th>\n",
              "      <td>Action</td>\n",
              "      <td>PS2</td>\n",
              "      <td>580000.0</td>\n",
              "    </tr>\n",
              "    <tr>\n",
              "      <th>4</th>\n",
              "      <td>Action</td>\n",
              "      <td>PS3</td>\n",
              "      <td>73930000.0</td>\n",
              "    </tr>\n",
              "  </tbody>\n",
              "</table>\n",
              "</div>"
            ],
            "text/plain": [
              "    Genre Platform    NA_Sales\n",
              "0  Action      3DS  19310000.0\n",
              "1  Action       DS  13040000.0\n",
              "2  Action       PC   6650000.0\n",
              "3  Action      PS2    580000.0\n",
              "4  Action      PS3  73930000.0"
            ]
          },
          "metadata": {
            "tags": []
          },
          "execution_count": 76
        }
      ]
    },
    {
      "cell_type": "code",
      "metadata": {
        "id": "tDWvuwR3zs_D",
        "colab": {
          "base_uri": "https://localhost:8080/"
        },
        "outputId": "166d8ea1-f7f7-49e7-ed5a-33e3088f2b84"
      },
      "source": [
        "NA_List = target_NA.Genre.unique()\n",
        "\n",
        "list_NA = []\n",
        "\n",
        "for i in NA_List:\n",
        "  x = target_NA[(target_NA['Genre'] == i)].NA_Sales.max()\n",
        "  y = target_NA[(target_NA['NA_Sales'] == x)].index.values\n",
        "  list_NA.append(y)\n",
        "\n",
        "list_NA"
      ],
      "execution_count": 77,
      "outputs": [
        {
          "output_type": "execute_result",
          "data": {
            "text/plain": [
              "[array([10]),\n",
              " array([15]),\n",
              " array([27]),\n",
              " array([43]),\n",
              " array([55]),\n",
              " array([60]),\n",
              " array([75]),\n",
              " array([86]),\n",
              " array([98]),\n",
              " array([100]),\n",
              " array([121]),\n",
              " array([125])]"
            ]
          },
          "metadata": {
            "tags": []
          },
          "execution_count": 77
        }
      ]
    },
    {
      "cell_type": "code",
      "metadata": {
        "id": "g-XsLNvB0De-",
        "colab": {
          "base_uri": "https://localhost:8080/",
          "height": 411
        },
        "outputId": "99fb18f0-03c3-4367-a86a-90559f371e65"
      },
      "source": [
        "target_NA = target_NA.iloc[[10,15,27,43,55,60,75,86,98,100,121,125]].sort_values(by='NA_Sales', ascending = False)\n",
        "target_NA"
      ],
      "execution_count": 78,
      "outputs": [
        {
          "output_type": "execute_result",
          "data": {
            "text/html": [
              "<div>\n",
              "<style scoped>\n",
              "    .dataframe tbody tr th:only-of-type {\n",
              "        vertical-align: middle;\n",
              "    }\n",
              "\n",
              "    .dataframe tbody tr th {\n",
              "        vertical-align: top;\n",
              "    }\n",
              "\n",
              "    .dataframe thead th {\n",
              "        text-align: right;\n",
              "    }\n",
              "</style>\n",
              "<table border=\"1\" class=\"dataframe\">\n",
              "  <thead>\n",
              "    <tr style=\"text-align: right;\">\n",
              "      <th></th>\n",
              "      <th>Genre</th>\n",
              "      <th>Platform</th>\n",
              "      <th>NA_Sales</th>\n",
              "    </tr>\n",
              "  </thead>\n",
              "  <tbody>\n",
              "    <tr>\n",
              "      <th>98</th>\n",
              "      <td>Shooter</td>\n",
              "      <td>X360</td>\n",
              "      <td>98570000.0</td>\n",
              "    </tr>\n",
              "    <tr>\n",
              "      <th>10</th>\n",
              "      <td>Action</td>\n",
              "      <td>X360</td>\n",
              "      <td>81930000.0</td>\n",
              "    </tr>\n",
              "    <tr>\n",
              "      <th>121</th>\n",
              "      <td>Sports</td>\n",
              "      <td>X360</td>\n",
              "      <td>52100000.0</td>\n",
              "    </tr>\n",
              "    <tr>\n",
              "      <th>43</th>\n",
              "      <td>Misc</td>\n",
              "      <td>Wii</td>\n",
              "      <td>46470000.0</td>\n",
              "    </tr>\n",
              "    <tr>\n",
              "      <th>86</th>\n",
              "      <td>Role-Playing</td>\n",
              "      <td>X360</td>\n",
              "      <td>23210000.0</td>\n",
              "    </tr>\n",
              "    <tr>\n",
              "      <th>55</th>\n",
              "      <td>Platform</td>\n",
              "      <td>Wii</td>\n",
              "      <td>15680000.0</td>\n",
              "    </tr>\n",
              "    <tr>\n",
              "      <th>75</th>\n",
              "      <td>Racing</td>\n",
              "      <td>X360</td>\n",
              "      <td>12020000.0</td>\n",
              "    </tr>\n",
              "    <tr>\n",
              "      <th>27</th>\n",
              "      <td>Fighting</td>\n",
              "      <td>PS3</td>\n",
              "      <td>11470000.0</td>\n",
              "    </tr>\n",
              "    <tr>\n",
              "      <th>100</th>\n",
              "      <td>Simulation</td>\n",
              "      <td>3DS</td>\n",
              "      <td>7010000.0</td>\n",
              "    </tr>\n",
              "    <tr>\n",
              "      <th>15</th>\n",
              "      <td>Adventure</td>\n",
              "      <td>PS3</td>\n",
              "      <td>6290000.0</td>\n",
              "    </tr>\n",
              "    <tr>\n",
              "      <th>125</th>\n",
              "      <td>Strategy</td>\n",
              "      <td>PC</td>\n",
              "      <td>5930000.0</td>\n",
              "    </tr>\n",
              "    <tr>\n",
              "      <th>60</th>\n",
              "      <td>Puzzle</td>\n",
              "      <td>DS</td>\n",
              "      <td>5860000.0</td>\n",
              "    </tr>\n",
              "  </tbody>\n",
              "</table>\n",
              "</div>"
            ],
            "text/plain": [
              "            Genre Platform    NA_Sales\n",
              "98        Shooter     X360  98570000.0\n",
              "10         Action     X360  81930000.0\n",
              "121        Sports     X360  52100000.0\n",
              "43           Misc      Wii  46470000.0\n",
              "86   Role-Playing     X360  23210000.0\n",
              "55       Platform      Wii  15680000.0\n",
              "75         Racing     X360  12020000.0\n",
              "27       Fighting      PS3  11470000.0\n",
              "100    Simulation      3DS   7010000.0\n",
              "15      Adventure      PS3   6290000.0\n",
              "125      Strategy       PC   5930000.0\n",
              "60         Puzzle       DS   5860000.0"
            ]
          },
          "metadata": {
            "tags": []
          },
          "execution_count": 78
        }
      ]
    },
    {
      "cell_type": "code",
      "metadata": {
        "id": "SdoXRFcV3qrY",
        "colab": {
          "base_uri": "https://localhost:8080/"
        },
        "outputId": "54747ef4-5c90-494b-825c-5b8e4d4d405c"
      },
      "source": [
        "#유럽, 일본, 그 외 지역도 동일하게 처리\n",
        "\n",
        "conditions2 = (final['EU_Sales'] > 0)\n",
        "target_EU = final[conditions2]\n",
        "target_EU = target_EU.groupby(['Genre','Platform']).EU_Sales.sum().reset_index()\n",
        "\n",
        "EU_List = target_EU.Genre.unique()\n",
        "\n",
        "list_EU = []\n",
        "\n",
        "for i in EU_List:\n",
        "  x = target_EU[(target_EU['Genre'] == i)].EU_Sales.max()\n",
        "  y = target_EU[(target_EU['EU_Sales'] == x)].index.values\n",
        "  list_EU.append(y)\n",
        "\n",
        "list_EU"
      ],
      "execution_count": 79,
      "outputs": [
        {
          "output_type": "execute_result",
          "data": {
            "text/plain": [
              "[array([4]),\n",
              " array([15]),\n",
              " array([26]),\n",
              " array([42]),\n",
              " array([46]),\n",
              " array([59]),\n",
              " array([68]),\n",
              " array([79]),\n",
              " array([91]),\n",
              " array([101]),\n",
              " array([113]),\n",
              " array([123])]"
            ]
          },
          "metadata": {
            "tags": []
          },
          "execution_count": 79
        }
      ]
    },
    {
      "cell_type": "code",
      "metadata": {
        "id": "uuLybYTO4itW",
        "colab": {
          "base_uri": "https://localhost:8080/",
          "height": 411
        },
        "outputId": "f57a22e8-24c4-4714-d9cc-2ab395654807"
      },
      "source": [
        "target_EU = target_EU.iloc[[4,15,26,42,46,59,68,79,91,101,113,123]].sort_values(by='EU_Sales', ascending = False)\n",
        "target_EU"
      ],
      "execution_count": 80,
      "outputs": [
        {
          "output_type": "execute_result",
          "data": {
            "text/html": [
              "<div>\n",
              "<style scoped>\n",
              "    .dataframe tbody tr th:only-of-type {\n",
              "        vertical-align: middle;\n",
              "    }\n",
              "\n",
              "    .dataframe tbody tr th {\n",
              "        vertical-align: top;\n",
              "    }\n",
              "\n",
              "    .dataframe thead th {\n",
              "        text-align: right;\n",
              "    }\n",
              "</style>\n",
              "<table border=\"1\" class=\"dataframe\">\n",
              "  <thead>\n",
              "    <tr style=\"text-align: right;\">\n",
              "      <th></th>\n",
              "      <th>Genre</th>\n",
              "      <th>Platform</th>\n",
              "      <th>EU_Sales</th>\n",
              "    </tr>\n",
              "  </thead>\n",
              "  <tbody>\n",
              "    <tr>\n",
              "      <th>4</th>\n",
              "      <td>Action</td>\n",
              "      <td>PS3</td>\n",
              "      <td>75780000.0</td>\n",
              "    </tr>\n",
              "    <tr>\n",
              "      <th>91</th>\n",
              "      <td>Shooter</td>\n",
              "      <td>PS3</td>\n",
              "      <td>52190000.0</td>\n",
              "    </tr>\n",
              "    <tr>\n",
              "      <th>113</th>\n",
              "      <td>Sports</td>\n",
              "      <td>PS3</td>\n",
              "      <td>33880000.0</td>\n",
              "    </tr>\n",
              "    <tr>\n",
              "      <th>42</th>\n",
              "      <td>Misc</td>\n",
              "      <td>Wii</td>\n",
              "      <td>24640000.0</td>\n",
              "    </tr>\n",
              "    <tr>\n",
              "      <th>68</th>\n",
              "      <td>Racing</td>\n",
              "      <td>PS3</td>\n",
              "      <td>18680000.0</td>\n",
              "    </tr>\n",
              "    <tr>\n",
              "      <th>79</th>\n",
              "      <td>Role-Playing</td>\n",
              "      <td>PS3</td>\n",
              "      <td>14210000.0</td>\n",
              "    </tr>\n",
              "    <tr>\n",
              "      <th>46</th>\n",
              "      <td>Platform</td>\n",
              "      <td>3DS</td>\n",
              "      <td>10350000.0</td>\n",
              "    </tr>\n",
              "    <tr>\n",
              "      <th>101</th>\n",
              "      <td>Simulation</td>\n",
              "      <td>PC</td>\n",
              "      <td>9370000.0</td>\n",
              "    </tr>\n",
              "    <tr>\n",
              "      <th>123</th>\n",
              "      <td>Strategy</td>\n",
              "      <td>PC</td>\n",
              "      <td>8810000.0</td>\n",
              "    </tr>\n",
              "    <tr>\n",
              "      <th>26</th>\n",
              "      <td>Fighting</td>\n",
              "      <td>PS3</td>\n",
              "      <td>7360000.0</td>\n",
              "    </tr>\n",
              "    <tr>\n",
              "      <th>15</th>\n",
              "      <td>Adventure</td>\n",
              "      <td>PS3</td>\n",
              "      <td>5960000.0</td>\n",
              "    </tr>\n",
              "    <tr>\n",
              "      <th>59</th>\n",
              "      <td>Puzzle</td>\n",
              "      <td>DS</td>\n",
              "      <td>3290000.0</td>\n",
              "    </tr>\n",
              "  </tbody>\n",
              "</table>\n",
              "</div>"
            ],
            "text/plain": [
              "            Genre Platform    EU_Sales\n",
              "4          Action      PS3  75780000.0\n",
              "91        Shooter      PS3  52190000.0\n",
              "113        Sports      PS3  33880000.0\n",
              "42           Misc      Wii  24640000.0\n",
              "68         Racing      PS3  18680000.0\n",
              "79   Role-Playing      PS3  14210000.0\n",
              "46       Platform      3DS  10350000.0\n",
              "101    Simulation       PC   9370000.0\n",
              "123      Strategy       PC   8810000.0\n",
              "26       Fighting      PS3   7360000.0\n",
              "15      Adventure      PS3   5960000.0\n",
              "59         Puzzle       DS   3290000.0"
            ]
          },
          "metadata": {
            "tags": []
          },
          "execution_count": 80
        }
      ]
    },
    {
      "cell_type": "code",
      "metadata": {
        "id": "FBbNj4Vl63-b",
        "colab": {
          "base_uri": "https://localhost:8080/"
        },
        "outputId": "2093bf81-2765-479d-fb02-b3edb8d8bfe3"
      },
      "source": [
        "conditions3 = (final['JP_Sales'] > 0)\n",
        "target_JP = final[conditions3]\n",
        "target_JP = target_JP.groupby(['Genre','Platform']).JP_Sales.sum().reset_index()\n",
        "\n",
        "JP_List = target_JP.Genre.unique()\n",
        "\n",
        "list_JP = []\n",
        "\n",
        "for i in JP_List:\n",
        "  x = target_JP[(target_JP['Genre'] == i)].JP_Sales.max()\n",
        "  y = target_JP[(target_JP['JP_Sales'] == x)].index.values\n",
        "  list_JP.append(y)\n",
        "\n",
        "list_JP"
      ],
      "execution_count": 81,
      "outputs": [
        {
          "output_type": "execute_result",
          "data": {
            "text/plain": [
              "[array([0]),\n",
              " array([16]),\n",
              " array([23]),\n",
              " array([31]),\n",
              " array([42]),\n",
              " array([50]),\n",
              " array([56]),\n",
              " array([65]),\n",
              " array([77]),\n",
              " array([85]),\n",
              " array([96]),\n",
              " array([108])]"
            ]
          },
          "metadata": {
            "tags": []
          },
          "execution_count": 81
        }
      ]
    },
    {
      "cell_type": "code",
      "metadata": {
        "id": "S5vM_VGi65b9",
        "colab": {
          "base_uri": "https://localhost:8080/",
          "height": 411
        },
        "outputId": "4373edb5-fae3-4a5e-8350-1fa04850635e"
      },
      "source": [
        "target_JP = target_JP.iloc[[0,16,23,31,42,50,56,65,77,85,96,108]].sort_values(by='JP_Sales', ascending = False)\n",
        "target_JP"
      ],
      "execution_count": 82,
      "outputs": [
        {
          "output_type": "execute_result",
          "data": {
            "text/html": [
              "<div>\n",
              "<style scoped>\n",
              "    .dataframe tbody tr th:only-of-type {\n",
              "        vertical-align: middle;\n",
              "    }\n",
              "\n",
              "    .dataframe tbody tr th {\n",
              "        vertical-align: top;\n",
              "    }\n",
              "\n",
              "    .dataframe thead th {\n",
              "        text-align: right;\n",
              "    }\n",
              "</style>\n",
              "<table border=\"1\" class=\"dataframe\">\n",
              "  <thead>\n",
              "    <tr style=\"text-align: right;\">\n",
              "      <th></th>\n",
              "      <th>Genre</th>\n",
              "      <th>Platform</th>\n",
              "      <th>JP_Sales</th>\n",
              "    </tr>\n",
              "  </thead>\n",
              "  <tbody>\n",
              "    <tr>\n",
              "      <th>65</th>\n",
              "      <td>Role-Playing</td>\n",
              "      <td>3DS</td>\n",
              "      <td>35240000.0</td>\n",
              "    </tr>\n",
              "    <tr>\n",
              "      <th>0</th>\n",
              "      <td>Action</td>\n",
              "      <td>3DS</td>\n",
              "      <td>22050000.0</td>\n",
              "    </tr>\n",
              "    <tr>\n",
              "      <th>85</th>\n",
              "      <td>Simulation</td>\n",
              "      <td>3DS</td>\n",
              "      <td>10320000.0</td>\n",
              "    </tr>\n",
              "    <tr>\n",
              "      <th>77</th>\n",
              "      <td>Shooter</td>\n",
              "      <td>PS3</td>\n",
              "      <td>7260000.0</td>\n",
              "    </tr>\n",
              "    <tr>\n",
              "      <th>42</th>\n",
              "      <td>Platform</td>\n",
              "      <td>3DS</td>\n",
              "      <td>6450000.0</td>\n",
              "    </tr>\n",
              "    <tr>\n",
              "      <th>16</th>\n",
              "      <td>Adventure</td>\n",
              "      <td>PSP</td>\n",
              "      <td>5880000.0</td>\n",
              "    </tr>\n",
              "    <tr>\n",
              "      <th>31</th>\n",
              "      <td>Misc</td>\n",
              "      <td>3DS</td>\n",
              "      <td>5380000.0</td>\n",
              "    </tr>\n",
              "    <tr>\n",
              "      <th>96</th>\n",
              "      <td>Sports</td>\n",
              "      <td>PS3</td>\n",
              "      <td>5260000.0</td>\n",
              "    </tr>\n",
              "    <tr>\n",
              "      <th>23</th>\n",
              "      <td>Fighting</td>\n",
              "      <td>PS3</td>\n",
              "      <td>5040000.0</td>\n",
              "    </tr>\n",
              "    <tr>\n",
              "      <th>56</th>\n",
              "      <td>Racing</td>\n",
              "      <td>3DS</td>\n",
              "      <td>2810000.0</td>\n",
              "    </tr>\n",
              "    <tr>\n",
              "      <th>108</th>\n",
              "      <td>Strategy</td>\n",
              "      <td>PSP</td>\n",
              "      <td>2520000.0</td>\n",
              "    </tr>\n",
              "    <tr>\n",
              "      <th>50</th>\n",
              "      <td>Puzzle</td>\n",
              "      <td>3DS</td>\n",
              "      <td>1800000.0</td>\n",
              "    </tr>\n",
              "  </tbody>\n",
              "</table>\n",
              "</div>"
            ],
            "text/plain": [
              "            Genre Platform    JP_Sales\n",
              "65   Role-Playing      3DS  35240000.0\n",
              "0          Action      3DS  22050000.0\n",
              "85     Simulation      3DS  10320000.0\n",
              "77        Shooter      PS3   7260000.0\n",
              "42       Platform      3DS   6450000.0\n",
              "16      Adventure      PSP   5880000.0\n",
              "31           Misc      3DS   5380000.0\n",
              "96         Sports      PS3   5260000.0\n",
              "23       Fighting      PS3   5040000.0\n",
              "56         Racing      3DS   2810000.0\n",
              "108      Strategy      PSP   2520000.0\n",
              "50         Puzzle      3DS   1800000.0"
            ]
          },
          "metadata": {
            "tags": []
          },
          "execution_count": 82
        }
      ]
    },
    {
      "cell_type": "code",
      "metadata": {
        "id": "Fuk8OBsJ7-vS",
        "colab": {
          "base_uri": "https://localhost:8080/"
        },
        "outputId": "5eee0bf3-49e8-4f25-e021-6f21a5a61acc"
      },
      "source": [
        "conditions4 = (final['Other_Sales'] > 0)\n",
        "target_Others = final[conditions4]\n",
        "target_Others = target_Others.groupby(['Genre','Platform']).Other_Sales.sum().reset_index()\n",
        "\n",
        "Others_List = target_Others.Genre.unique()\n",
        "\n",
        "list_Others = []\n",
        "\n",
        "for i in Others_List:\n",
        "  x = target_Others[(target_Others['Genre'] == i)].Other_Sales.max()\n",
        "  y = target_Others[(target_Others['Other_Sales'] == x)].index.values\n",
        "  list_Others.append(y)\n",
        "\n",
        "list_Others"
      ],
      "execution_count": 83,
      "outputs": [
        {
          "output_type": "execute_result",
          "data": {
            "text/plain": [
              "[array([4]),\n",
              " array([15]),\n",
              " array([25, 76]),\n",
              " array([40]),\n",
              " array([ 44, 121]),\n",
              " array([ 57, 100]),\n",
              " array([66]),\n",
              " array([77]),\n",
              " array([89]),\n",
              " array([99]),\n",
              " array([111]),\n",
              " array([ 44, 121])]"
            ]
          },
          "metadata": {
            "tags": []
          },
          "execution_count": 83
        }
      ]
    },
    {
      "cell_type": "code",
      "metadata": {
        "id": "AaK62_OZ8fcO",
        "colab": {
          "base_uri": "https://localhost:8080/",
          "height": 471
        },
        "outputId": "090eba98-b685-4c5a-ee4d-0eabfd4fff5b"
      },
      "source": [
        "target_Others = target_Others.iloc[[4,15,25,76,40,44,121,57,100,66,77,89,99,111]].sort_values(by='Other_Sales', ascending = False)\n",
        "target_Others"
      ],
      "execution_count": 84,
      "outputs": [
        {
          "output_type": "execute_result",
          "data": {
            "text/html": [
              "<div>\n",
              "<style scoped>\n",
              "    .dataframe tbody tr th:only-of-type {\n",
              "        vertical-align: middle;\n",
              "    }\n",
              "\n",
              "    .dataframe tbody tr th {\n",
              "        vertical-align: top;\n",
              "    }\n",
              "\n",
              "    .dataframe thead th {\n",
              "        text-align: right;\n",
              "    }\n",
              "</style>\n",
              "<table border=\"1\" class=\"dataframe\">\n",
              "  <thead>\n",
              "    <tr style=\"text-align: right;\">\n",
              "      <th></th>\n",
              "      <th>Genre</th>\n",
              "      <th>Platform</th>\n",
              "      <th>Other_Sales</th>\n",
              "    </tr>\n",
              "  </thead>\n",
              "  <tbody>\n",
              "    <tr>\n",
              "      <th>4</th>\n",
              "      <td>Action</td>\n",
              "      <td>PS3</td>\n",
              "      <td>31100000.0</td>\n",
              "    </tr>\n",
              "    <tr>\n",
              "      <th>89</th>\n",
              "      <td>Shooter</td>\n",
              "      <td>PS3</td>\n",
              "      <td>20080000.0</td>\n",
              "    </tr>\n",
              "    <tr>\n",
              "      <th>111</th>\n",
              "      <td>Sports</td>\n",
              "      <td>PS3</td>\n",
              "      <td>13880000.0</td>\n",
              "    </tr>\n",
              "    <tr>\n",
              "      <th>66</th>\n",
              "      <td>Racing</td>\n",
              "      <td>PS3</td>\n",
              "      <td>7380000.0</td>\n",
              "    </tr>\n",
              "    <tr>\n",
              "      <th>40</th>\n",
              "      <td>Misc</td>\n",
              "      <td>Wii</td>\n",
              "      <td>6830000.0</td>\n",
              "    </tr>\n",
              "    <tr>\n",
              "      <th>77</th>\n",
              "      <td>Role-Playing</td>\n",
              "      <td>PS3</td>\n",
              "      <td>6190000.0</td>\n",
              "    </tr>\n",
              "    <tr>\n",
              "      <th>25</th>\n",
              "      <td>Fighting</td>\n",
              "      <td>PS3</td>\n",
              "      <td>3260000.0</td>\n",
              "    </tr>\n",
              "    <tr>\n",
              "      <th>76</th>\n",
              "      <td>Role-Playing</td>\n",
              "      <td>PC</td>\n",
              "      <td>3260000.0</td>\n",
              "    </tr>\n",
              "    <tr>\n",
              "      <th>15</th>\n",
              "      <td>Adventure</td>\n",
              "      <td>PS3</td>\n",
              "      <td>2410000.0</td>\n",
              "    </tr>\n",
              "    <tr>\n",
              "      <th>44</th>\n",
              "      <td>Platform</td>\n",
              "      <td>3DS</td>\n",
              "      <td>2260000.0</td>\n",
              "    </tr>\n",
              "    <tr>\n",
              "      <th>121</th>\n",
              "      <td>Strategy</td>\n",
              "      <td>PC</td>\n",
              "      <td>2260000.0</td>\n",
              "    </tr>\n",
              "    <tr>\n",
              "      <th>99</th>\n",
              "      <td>Simulation</td>\n",
              "      <td>PC</td>\n",
              "      <td>1930000.0</td>\n",
              "    </tr>\n",
              "    <tr>\n",
              "      <th>57</th>\n",
              "      <td>Puzzle</td>\n",
              "      <td>DS</td>\n",
              "      <td>870000.0</td>\n",
              "    </tr>\n",
              "    <tr>\n",
              "      <th>100</th>\n",
              "      <td>Simulation</td>\n",
              "      <td>PS3</td>\n",
              "      <td>870000.0</td>\n",
              "    </tr>\n",
              "  </tbody>\n",
              "</table>\n",
              "</div>"
            ],
            "text/plain": [
              "            Genre Platform  Other_Sales\n",
              "4          Action      PS3   31100000.0\n",
              "89        Shooter      PS3   20080000.0\n",
              "111        Sports      PS3   13880000.0\n",
              "66         Racing      PS3    7380000.0\n",
              "40           Misc      Wii    6830000.0\n",
              "77   Role-Playing      PS3    6190000.0\n",
              "25       Fighting      PS3    3260000.0\n",
              "76   Role-Playing       PC    3260000.0\n",
              "15      Adventure      PS3    2410000.0\n",
              "44       Platform      3DS    2260000.0\n",
              "121      Strategy       PC    2260000.0\n",
              "99     Simulation       PC    1930000.0\n",
              "57         Puzzle       DS     870000.0\n",
              "100    Simulation      PS3     870000.0"
            ]
          },
          "metadata": {
            "tags": []
          },
          "execution_count": 84
        }
      ]
    },
    {
      "cell_type": "code",
      "metadata": {
        "id": "OaqZkbv2-Rik",
        "colab": {
          "base_uri": "https://localhost:8080/",
          "height": 78
        },
        "outputId": "17f6acb4-bdc6-4df0-d3f0-e1ce49162f88"
      },
      "source": [
        "target_NA.loc[[98]]"
      ],
      "execution_count": 85,
      "outputs": [
        {
          "output_type": "execute_result",
          "data": {
            "text/html": [
              "<div>\n",
              "<style scoped>\n",
              "    .dataframe tbody tr th:only-of-type {\n",
              "        vertical-align: middle;\n",
              "    }\n",
              "\n",
              "    .dataframe tbody tr th {\n",
              "        vertical-align: top;\n",
              "    }\n",
              "\n",
              "    .dataframe thead th {\n",
              "        text-align: right;\n",
              "    }\n",
              "</style>\n",
              "<table border=\"1\" class=\"dataframe\">\n",
              "  <thead>\n",
              "    <tr style=\"text-align: right;\">\n",
              "      <th></th>\n",
              "      <th>Genre</th>\n",
              "      <th>Platform</th>\n",
              "      <th>NA_Sales</th>\n",
              "    </tr>\n",
              "  </thead>\n",
              "  <tbody>\n",
              "    <tr>\n",
              "      <th>98</th>\n",
              "      <td>Shooter</td>\n",
              "      <td>X360</td>\n",
              "      <td>98570000.0</td>\n",
              "    </tr>\n",
              "  </tbody>\n",
              "</table>\n",
              "</div>"
            ],
            "text/plain": [
              "      Genre Platform    NA_Sales\n",
              "98  Shooter     X360  98570000.0"
            ]
          },
          "metadata": {
            "tags": []
          },
          "execution_count": 85
        }
      ]
    },
    {
      "cell_type": "code",
      "metadata": {
        "id": "xuLzq_o080ze"
      },
      "source": [
        "array = [['North America','Shooter', 'X360', 98570000.0],\n",
        "['EU', 'Action', 'PS3', 75780000.0],\n",
        "['Japan', 'Role-Playing', '3DS', 35240000.0],\n",
        "['Others', 'Action', 'PS3', 31100000.0]]\n",
        "col = ['Target Region', 'Genre', 'Platform', 'Sales_Total for past 10 yrs']\n",
        "\n",
        "Total_Summary = pd.DataFrame(array,columns=col)\n",
        "\n",
        "#NA 지역에는 Shooter의 X360을,\n",
        "#EU 지역을 타겟으로 할 때는 PS3 유저를 겨냥한 Action 게임을\n",
        "#일본 지역을 노릴때는 Role-Playing 장르에 3DS를 통한 게임을\n",
        "#그 외 지역을 노릴 때는 Action 장르의 PS3 게임을 기획해야 한다.\n"
      ],
      "execution_count": 86,
      "outputs": []
    },
    {
      "cell_type": "code",
      "metadata": {
        "colab": {
          "base_uri": "https://localhost:8080/",
          "height": 170
        },
        "id": "7DM9fSIOTQes",
        "outputId": "7f673c9f-2d04-403b-ac0b-962ee678c573"
      },
      "source": [
        "m_values = Total_Summary['Sales_Total for past 10 yrs'].values/1000000\n",
        "Total_Summary['In Million $'] = m_values\n",
        "Total_Summary\n",
        "\n",
        "#가장 큰 시장 규모의 NA- Shooter - X360을 타겟으로 하는 것이 좋겠으나,\n",
        "#단일 시장이 아닌 다양한 국가를 타겟으로 출시 및 마케팅, 배포 여력이 있다면, Action 장르의 PS3를 기획하는 것이 좋겠다. 이 경우 지난 10년간 EU와 그 외 지역에서의 매출액은 75.78M +  31.1M = 106.88 M 으로 북아메리카 단일시장, Shooter + X360 게임의 98.57 M 을 뛰어넘는 수치이기 때문이다."
      ],
      "execution_count": 87,
      "outputs": [
        {
          "output_type": "execute_result",
          "data": {
            "text/html": [
              "<div>\n",
              "<style scoped>\n",
              "    .dataframe tbody tr th:only-of-type {\n",
              "        vertical-align: middle;\n",
              "    }\n",
              "\n",
              "    .dataframe tbody tr th {\n",
              "        vertical-align: top;\n",
              "    }\n",
              "\n",
              "    .dataframe thead th {\n",
              "        text-align: right;\n",
              "    }\n",
              "</style>\n",
              "<table border=\"1\" class=\"dataframe\">\n",
              "  <thead>\n",
              "    <tr style=\"text-align: right;\">\n",
              "      <th></th>\n",
              "      <th>Target Region</th>\n",
              "      <th>Genre</th>\n",
              "      <th>Platform</th>\n",
              "      <th>Sales_Total for past 10 yrs</th>\n",
              "      <th>In Million $</th>\n",
              "    </tr>\n",
              "  </thead>\n",
              "  <tbody>\n",
              "    <tr>\n",
              "      <th>0</th>\n",
              "      <td>North America</td>\n",
              "      <td>Shooter</td>\n",
              "      <td>X360</td>\n",
              "      <td>98570000.0</td>\n",
              "      <td>98.57</td>\n",
              "    </tr>\n",
              "    <tr>\n",
              "      <th>1</th>\n",
              "      <td>EU</td>\n",
              "      <td>Action</td>\n",
              "      <td>PS3</td>\n",
              "      <td>75780000.0</td>\n",
              "      <td>75.78</td>\n",
              "    </tr>\n",
              "    <tr>\n",
              "      <th>2</th>\n",
              "      <td>Japan</td>\n",
              "      <td>Role-Playing</td>\n",
              "      <td>3DS</td>\n",
              "      <td>35240000.0</td>\n",
              "      <td>35.24</td>\n",
              "    </tr>\n",
              "    <tr>\n",
              "      <th>3</th>\n",
              "      <td>Others</td>\n",
              "      <td>Action</td>\n",
              "      <td>PS3</td>\n",
              "      <td>31100000.0</td>\n",
              "      <td>31.10</td>\n",
              "    </tr>\n",
              "  </tbody>\n",
              "</table>\n",
              "</div>"
            ],
            "text/plain": [
              "   Target Region         Genre  ... Sales_Total for past 10 yrs  In Million $\n",
              "0  North America       Shooter  ...                  98570000.0         98.57\n",
              "1             EU        Action  ...                  75780000.0         75.78\n",
              "2          Japan  Role-Playing  ...                  35240000.0         35.24\n",
              "3         Others        Action  ...                  31100000.0         31.10\n",
              "\n",
              "[4 rows x 5 columns]"
            ]
          },
          "metadata": {
            "tags": []
          },
          "execution_count": 87
        }
      ]
    },
    {
      "cell_type": "code",
      "metadata": {
        "colab": {
          "base_uri": "https://localhost:8080/",
          "height": 446
        },
        "id": "I6L0MUX6R3kL",
        "outputId": "f6f4ca16-5e9d-44ab-9ca1-15bf15f4fc95"
      },
      "source": [
        "summary_name = ['NA-Shooter-X360', 'EU-Action-PS3', 'Japan-Role-Playing-3DS', 'Others-Action-PS3']\n",
        "summary_sales = (Total_Summary['Sales_Total for past 10 yrs'].values) / 1000000\n",
        "summary_rank = [1,2,3,4]\n",
        "\n",
        "fig, ax = plt.subplots(figsize = (12,7))\n",
        "ax.scatter(summary_rank, summary_sales, s = summary_sales*30, marker = 'o', c = summary_rank, )\n",
        "\n",
        "for i in range(len(summary_rank)):\n",
        "  plt.annotate(\"({}) {}\".format(i+1,summary_name[i]), xy= (summary_rank[i], summary_sales[i]))\n",
        "\n",
        "plt.xlim(0,5)\n",
        "plt.ylim(10,140)\n",
        "plt.xlabel('Target Games Market Rank')\n",
        "plt.ylabel('Million $(10yrs)')\n",
        "plt.show();"
      ],
      "execution_count": 88,
      "outputs": [
        {
          "output_type": "display_data",
          "data": {
            "image/png": "[encoded data removed]",
            "text/plain": [
              "<Figure size 864x504 with 1 Axes>"
            ]
          },
          "metadata": {
            "tags": [],
            "needs_background": "light"
          }
        }
      ]
    },
    {
      "cell_type": "code",
      "metadata": {
        "id": "UadczPTIfIX8",
        "outputId": "be588fc1-9f15-4e2c-ae2b-b9aad554a274",
        "colab": {
          "base_uri": "https://localhost:8080/",
          "height": 442
        }
      },
      "source": [
        "summary_name = ['Others-Action-PS3', 'Japan-Role-Playing-3DS','EU-Action-PS3','NA-Shooter-X360' ]\n",
        "s = (Total_Summary['Sales_Total for past 10 yrs'].values) / 1000000\n",
        "s = s[::-1]\n",
        "summary_rank = ['Others-Action-PS3', 'Japan-Role-Playing-3DS','EU-Action-PS3','NA-Shooter-X360' ]\n",
        "\n",
        "fig, ax = plt.subplots(figsize = (20,7))\n",
        "ax.barh(summary_rank, s, color=['skyblue', 'lightgrey', 'skyblue', 'royalblue'])\n",
        "\n",
        "for i in range(len(summary_rank)):\n",
        "  plt.annotate(\"{} M $\".format(s[i]), xy= (s[i], summary_rank[i]))\n",
        "\n",
        "\n",
        "plt.xlabel('Million $(10yrs)')\n",
        "plt.show();"
      ],
      "execution_count": 149,
      "outputs": [
        {
          "output_type": "display_data",
          "data": {
            "image/png": "[encoded data removed]",
            "text/plain": [
              "<Figure size 1440x504 with 1 Axes>"
            ]
          },
          "metadata": {
            "tags": [],
            "needs_background": "light"
          }
        }
      ]
    },
    {
      "cell_type": "code",
      "metadata": {
        "id": "FvQHD-AavZ0C",
        "outputId": "d917896c-f660-4695-8c7b-475451f2a1de",
        "colab": {
          "base_uri": "https://localhost:8080/"
        }
      },
      "source": [
        "import numpy as np\n",
        "s = (Total_Summary['Sales_Total for past 10 yrs'].values) / 1000000\n",
        "s = s[::-1]\n",
        "s"
      ],
      "execution_count": 130,
      "outputs": [
        {
          "output_type": "execute_result",
          "data": {
            "text/plain": [
              "array([31.1 , 35.24, 75.78, 98.57])"
            ]
          },
          "metadata": {
            "tags": []
          },
          "execution_count": 130
        }
      ]
    }
  ]
}